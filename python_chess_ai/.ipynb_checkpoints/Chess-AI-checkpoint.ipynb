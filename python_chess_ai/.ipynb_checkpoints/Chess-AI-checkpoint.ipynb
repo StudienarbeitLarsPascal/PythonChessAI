{
 "cells": [
  {
   "cell_type": "code",
   "execution_count": 1,
   "metadata": {},
   "outputs": [
    {
     "name": "stdout",
     "output_type": "stream",
     "text": [
      "\n",
      "The following command must be run outside of the IPython shell:\n",
      "\n",
      "    $ pip install python-chess\n",
      "\n",
      "The Python package manager (pip) can only be used from outside of IPython.\n",
      "Please reissue the `pip` command in a separate terminal or command prompt.\n",
      "\n",
      "See the Python documentation for more information on how to install packages:\n",
      "\n",
      "    https://docs.python.org/3/installing/\n"
     ]
    }
   ],
   "source": [
    "pip install python-chess"
   ]
  },
  {
   "cell_type": "code",
   "execution_count": 2,
   "metadata": {},
   "outputs": [
    {
     "ename": "SyntaxError",
     "evalue": "invalid syntax (<ipython-input-2-182416202f0a>, line 1)",
     "output_type": "error",
     "traceback": [
      "\u001b[0;36m  File \u001b[0;32m\"<ipython-input-2-182416202f0a>\"\u001b[0;36m, line \u001b[0;32m1\u001b[0m\n\u001b[0;31m    conda install pandas\u001b[0m\n\u001b[0m                ^\u001b[0m\n\u001b[0;31mSyntaxError\u001b[0m\u001b[0;31m:\u001b[0m invalid syntax\n"
     ]
    }
   ],
   "source": [
    "conda install pandas"
   ]
  },
  {
   "cell_type": "code",
   "execution_count": 1,
   "metadata": {},
   "outputs": [
    {
     "data": {
      "text/html": [
       "\n",
       "<style>\n",
       "svg {\n",
       "    width:40% !important;\n",
       "    height:40% !important;\n",
       "}\n",
       "\n",
       ".container { \n",
       "    width:100% !important;\n",
       "}\n",
       "</style>\n"
      ],
      "text/plain": [
       "<IPython.core.display.HTML object>"
      ]
     },
     "execution_count": 1,
     "metadata": {},
     "output_type": "execute_result"
    }
   ],
   "source": [
    "from IPython.core.display import HTML, display\n",
    "HTML(\"\"\"\n",
    "<style>\n",
    "svg {\n",
    "    width:40% !important;\n",
    "    height:40% !important;\n",
    "}\n",
    "\n",
    ".container { \n",
    "    width:100% !important;\n",
    "}\n",
    "</style>\n",
    "\"\"\")"
   ]
  },
  {
   "cell_type": "markdown",
   "metadata": {},
   "source": [
    "# Benutzerhandbuch\n",
    "\n",
    "## Verwenden der Schach KI mittels 'python run'\n",
    "\n",
    "Zum lokalen Starten des Programmes muss zunächst das entsprechende GitHub Repository runtergeladen werden. Dazu ist die Installation von git nötig. Dieses Programm mitsamt Installationsanleitungen kann hier gefunden werden:\n",
    "\n",
    "[git-scm.com/download](https://git-scm.com/download/)\n",
    "\n",
    "Dann muss in dem Verzeichnis, in dem das Programm heruntergeladen werden soll, in der Konsole der Befehl\n",
    "\n",
    "```git clone https://github.com/StudienarbeitLarsPascal/PythonChessAI.git``` \n",
    "\n",
    "ausgeführt werden.\n",
    "\n",
    "Anschließend müssen die nötigen Packages installiert werden. Dazu ist zunächst die Installation von Python notwendig:\n",
    "\n",
    "[python.org/downloads](https://www.python.org/downloads/)\n",
    "\n",
    "Nun kann in der Konsole in das Verzeichnis `PythonChessAI/python_chess_ai` navigiert werden und anschließend der Befehl \n",
    "\n",
    "```pip install -r requirements.txt```\n",
    "\n",
    "ausgeführt werden.\n",
    "\n",
    "Jetzt ist das Programm startbereit. Dazu muss in eben genannten Verzeichnis der Befehl \n",
    "\n",
    "```python run main.py``` \n",
    "\n",
    "ausgeführt werden. Dazu können Startparameter verwendet werden wie in Kapitel INSERT erklärt. Dies startet das Programm. Wie dies bedient wird, ist in Kapitel INSERT beschrieben. \n",
    "\n",
    "## Verwenden der Schach KI mittels Ausführen des Docker Containers\n",
    "\n",
    "Um das Programm in einem Docker Container laufen zu lassen, ist zunächst die Installation von Docker nötig:\n",
    "\n",
    "[docker.com/get-started](https://www.docker.com/get-started)\n",
    "\n",
    "Dann kann der Docker Container heruntergeladen werden, indem per Konsole in das gewünschte Verzeichnis navigiert wird und anschließend der Befehl\n",
    "\n",
    "```docker pull pascalschroeder/python_chess_ai```\n",
    "\n",
    "ausgeführt wird.\n",
    "\n",
    "Nach dem erfolgreichen Herunterladen kann das Programm gestartet werden, indem der Befehl \n",
    "\n",
    "```docker run -it pascalschroeder/python_chess_ai```\n",
    "\n",
    "durchlaufen wird. Dadurch gelangt man direkt in den Programmablauf. Wie dies bedient werden kann, ist in Kapitel INSERT beschrieben.\n",
    "\n",
    "## Verwenden der Schach KI direkt im Jupyter Notebook\n",
    "\n",
    "Die Schach KI ist in einer simplifizierten Version, in der Erstellen der Spieler und dynamische Abfragen wegfallen, auch direkt im Jupyter Notebook ausführbar. Dazu muss das Jupyter Notebook 'Chess-AI.ipynb' gestartet werden und jede Zelle von oben bis unten durchlaufen werden. Sobald die letzte Zelle erreicht ist wird das Spiel gestartet. Dabei wird zunächst der Spieler zu einer Eingabe aufgefordert, ehe die KI den 2. Zug übernimmt. Dies wiederholt sich so lange bis das Spiel vorbei ist. Wie diese vereinfachte Verwaltung aufgebaut ist, ist in Kapitel INSERT zu sehen.\n",
    "\n",
    "\n",
    "## Bedienen des Programms\n",
    "\n",
    "Nach Start des Programmes gelangt man, wenn keine Startparameter mitgegeben wurden, zu den Einstellungen.\n",
    "\n",
    "Dabei wird zunächst der Name des ersten Spielers abgefragt. Dabei ist eine beliebige Eingabe möglich, die mit 'Enter' bestätigt werden muss. Nun wird der Typ des Spielers abgefragt. Dabei muss eine Zahl zwischen 1 und 4 eingeben werden. 1 steht dabei für einen menschlichen Spieler, 2 für die KI, 3 für eine API zu einer anderen Schach-KI, die bisher noch nicht implementiert wurde, jedoch in zukünftigen Versionen geplant ist, und 4 für einen \"Dummy\", der stets einen zufälligen Zug spielt.\n",
    "\n",
    "Wird beim Typ des Spielers die KI gewählt, wird zusätzlich noch abgefragt, welchen Schwierigkeitsgrad die KI haben soll. Dabei sind Werte von 1 bis 3 möglich, wobei 1 für leicht, 2 für mittel und 3 für schwer steht.\n",
    "\n",
    "Dieses Prozedere wird noch für den 2. Spieler wiederholt.\n",
    "\n",
    "Nach Durchlauf für beide Spieler beginnt das eigentliche Spiel. Dazu wird zunächst das aktuelle Schachbrett in der Konsole ausgegeben. \n",
    "Ist der Spieler, der an der Reihe ist, ein menschlicher Spieler, so wird zusätzlich eine Liste aller legalen Züge ausgegeben. Dann wird der Spieler zur Eingabe einer dieser Züge aufgefordert. Die Eingabe muss in den ersten zwei Zeichen das Feld enthalten, von dem eine Figur aus bewegt werden soll, und bei Zeichen drei und vier die Felder, auf die die Figur bewegt werden soll. Ist der eingegebene Zug möglich, so wird dieser auf dem Schachfeld durchgeführt und erneut ausgegeben. Dann ist der nächste Spieler am Zug. Andernfalls wird die Aufforderung zur Eingabe eines Zuges so lange wiederholt, bis eine legale Eingabe vorliegt und der Zug durchgeführt werden kann.\n",
    "\n",
    "Sobald das Spiel zu Ende ist, wird der Sieger des Spiels genannt. Danach wird der Spieler gefragt, ob er mit den gleichen Einstellungen das Spiel nochmal wiederholen möchte. Mit Eingabe einer \"1\" und bestätigen durch die 'Enter' Taste kann dies bejaht werden. So wird das Spiel nochmal mit den gleichen Einstellungen wiederholt. Andernfalls wird das Programm beendet.\n",
    "\n",
    "Jederzeit kann mit der Tastenkombination 'Strg' + 'C' das Programm und somit auch das Spiel vorläufig beendet werden."
   ]
  },
  {
   "cell_type": "markdown",
   "metadata": {},
   "source": [
    "# Verzeichnisstruktur\n",
    "\n",
    "Um die Entwicklung des Programms möglichst modular und somit erweiterbar zu gestalten und zugleich ein übersichtliches Lesen des Codes zu ermöglichen, wurden die einzelnen Funktionen in verschiedene Klassen aufgeteilt und teils mittels Schnittstellen vereinheitlicht.\n",
    "\n",
    "Die Hauptdatei, die für das Starten und Erstellen des Spiels verantwortlich ist, ist die `main.py`. In dieser werden die Spieler mit ihren Attributen (Spielertyp, Name, ggf. Schwierigkeitsgrad) erstellt, die an der Schach Partie teilnehmen, sowie der `chess_master` initialisiert. Zudem wird hinterlegt, ob das Spiel als GUI oder in der Konsole starten soll.\n",
    "\n",
    "Zum Abfragen der Einstellungen wird die Datei `settings/interface.py` zur Hilfe genommen, die alle nicht beim Starten mit übermittelten Parameter der Spieler abfragt und entsprechend an die `main.py` zurückgibt, die die Spieler auf Basis dieser Informationen erstellt. Dazu sind zwei Implementierungen dieser Schnittstelle vorhanden - einmal für eine konsolenbasierte (`settings/terminal.py`) Abfrage der Einstellungen und einmal für eine GUI basierte Darstellung (`settings/gui.py`).\n",
    "\n",
    "Der eben angesprochene `chess_master` befindet sich in der `chess_master.py`. Dieser verwaltet das Schachspiel bis dies zu Ende ist. Dabei wird über die Liste der teilnehmenden Spieler iteriert und jeder nach dem von ihm gewünschten Zug gefragt. Diese Züge werden dann auf dem virtuellen Schachbrett vorgenommen. Zudem lässt der `chess_master` die einzelnen Spieler stets den aktuellen Spielzustand ausgeben. Zusätzlich ist der `chess_master` auch für das Pflegen der Spielverläufe zuständig. Dies bedeutet, dass der `chess_master` nach jedem getätigten Zug diesen der Liste aller Züge hinzufügt und am Ende des Spiels diese in den vorhandenen Spielverlauf zusammen mit dem Ausgang des Spiels migriert.\n",
    "\n",
    "Zum Abfragen der Spieler nach ihren Zügen, das Forcieren der Ausgabe des Spielzustands sowie alle weiteren Interaktionen mit den Spielern steht mit der `player/interface.py` eine weiter Schnittstelle zur Verfügung. Diese ist für menschliche Spieler (`player/user.py`), eine künstliche Intelligenz (`player/ai.py`), eine Schnittstelle zu einer vorhandenen Intelligenz (`player/api.py`) sowie zu einem sogenannten \"Dummy\" (`player/dummy.py`), der stets einen zufälligen Zug auswählt, implementiert. Diese beinhalten allesamt die Funktionen `get_move`, `submit_move` und `print_board`. Welche der Dateien für das Spiel genommen wird ist abhängig von den getätigten Einstellungen über den Spielertypen.\n",
    "\n",
    "Beim Spieler `player/user.py` existiert zudem eine weitere Schnittstelle `player/user_input/interface.py`, die ebenfalls als GUI sowie als konsolenbasierte Version existiert, um den menschlichen Spieler beide Optionen zu ermöglichen.\n",
    "\n",
    "Die Datei `player/ai.py` nimmt sich zum Evaluieren der Spielzustände die Datei `misc/ai_evaluation_library` zur Hilfe. Zudem sind einige wiederkehrende Funktionen für alle Dateien in der `misc/tools.py` gespeichert, so dass diese stets aufrufbar sind.\n",
    "\n",
    "Eine genaue Erläuterung der Architektur kann Kapitel INSERT entnommen werden. Im folgenden Teil wird Wissen über Verzeichnisstruktur sowie Architektur vorrausgesetzt, um die Abläufe und Kommunikationsflüsse unter den Dateien und Funktionen zu verstehen."
   ]
  },
  {
   "cell_type": "markdown",
   "metadata": {},
   "source": [
    "# Befehlszeilenargumente zum Starten der Schach-KI\n",
    "\n",
    "Eine erste Option, um Einfluss auf den Ablauf des Programmes zu gewinnen, ist das Mitliefern von Argumenten direkt beim Start der Anwendung. Diese Argumente ermöglichen es Programme und Scripts mit Speziellen Eigenschaften aufrufen zu können. \n",
    "\n",
    "Diese Art der Spezialisierung von Programmen wird von der Sprache Python mittels des Moduls `argparse` unterstützt."
   ]
  },
  {
   "cell_type": "code",
   "execution_count": 2,
   "metadata": {},
   "outputs": [],
   "source": [
    "import argparse"
   ]
  },
  {
   "cell_type": "markdown",
   "metadata": {},
   "source": [
    "Wie im Kapitel INSERT bereits beschrieben müssen zum Start der Schach-KI einige Einstellungen vorgenommen werden. Hierunter fallen sowohl die Spieler, ihr Spielertyp und falls es sich um das Spiel gegen eine KI handelt um deren Schwierigkeitsgrad. Durch die Verwendung von `argparse` lassen sich diese Einstellungen als Befehlszeilenargumente vornehmen und somit einer Abfrage von Informationen entgehen. \n",
    "\n",
    "Ein Anwendungsgebiet neben der Nutzung durch einen User, der nicht jeden Parameter einzeln eingeben möchte, ist das automatisierte Aufrufen der Schach-KI durch ein Script. Von dieser Eigenschaft wird in Kapitel INSERT Gebrauch gemacht werden.\n",
    "\n",
    "Im folgenden Code wird neben dem Nutzer mittels `argparse` neben der Spieleinstellung auch die Möglichkeit gegeben auszuwählen, ob das Graphical User Interface geöffnet werden soll, oder das Spiel in der Konsole stattfinden soll. Ebenfalls lässt sich durch die Argumente die aktuelle Entwicklungsversion der Schach-KI ausgeben.\n",
    "\n",
    "Für die Implementierung und Verwendung von Befehlszeilenargumente wurde die Funktion `intialize_parser` entwickelt in der die benötigten Einstellungen des Argument-Parsers vorgenommen werden. Aufgerufen wird diese Funktion bei der Verwendung der Schach-KI bevor die Hauptfunktion aufgerufen wird.\n",
    "\n",
    "Dazu wird zu Beginn ein neuer Parser erzeugt und diesem werden zwei verschiedene Argumentgruppen zugewiesen. Die beiden Gruppen sind dafür zuständig weitere Argumente zu enthalten. Der Unterschied dieser liegt darin, dass in der Gruppe `ui_group` nur eins der angehörigen Argumente ausgewählt werden dürfen. Dies hat den Grund, dass sich der Nutzer zwischen der Verwendung des Graphical User Interface und der Konsole entscheiden muss und nicht beides gleichzeitig verwenden kann.\n",
    "\n",
    "Jedes Argument, das hinzugefügt wird kann dabei durch zwei verschiedene Argumente angesprochen werden. Die Kurzform dieses Arguments wird mit einem Spiegelstrich angesprochen und die längere Variante mit zwei Spiegelstrichen. Durch den Parameter `help` lässt sich dem Nutzer eine Hilfestellung geben was die Aufgabe dieses Arguments ist. Diese Hilfestellung kann aufgerufen werden indem das Programm mit dem Parameter `-h` oder `--help` aufgerufen wird.\n",
    "\n",
    "Ebenfalls lässt sich bei der Initialisierung eines Arguments der Parameter `action` angeben, der bei den Argumenten `--terminal` und `--gui` im Parser den Boolean-Wert `True` speichert falls diese durch den Nutzer aufgerufen wurden.\n",
    "\n",
    "Die zweite Argumentengruppe enthält Argumente die gleichzeitig während des Startens aufgerufen werden können. Hierunter fällt beispielsweise der Spielername, dessen Typ und die Schwierigkeit einer KI.\n",
    "\n",
    "Bei allen drei Argumenten, die der Gruppe `player_name_type_group` angehören wurde die Eigenschaft festgelegt, dass genau zwei Werte bei Aufruf dieser Argumente angegeben werden müssen. Eine weitere Spezialisierung wird bei den Argumenten zum Spielertyp und der Spielschwierigkeit vorgenommen. Bei diesen Argumenten hat der User nur die Auswahl zwischen vorgegebenen Antworten und kann dabei nur diese auswählen.\n",
    "\n",
    "Ingesamt wurde bei dieser Argumentengruppe die Hilfestellung durch `help=argparse.SUPPRESS` deaktiviert, da dies Einstellungen sind, die hauptsächlich für den wiederholten Aufruf durch Scripts interessant sind und nicht für den allgemeinen Nutzer. Somit werden diese Argumente bei der Verwendung des Parameters `-h`/`--help` nicht aufgelistet.\n",
    "\n",
    "Als letztes Argument wird ein Parameter initialisiert, der für die Version der Schach-KI zuständig ist. Nachdem alle Argumente initialisiert wurden wird der Parser zu dem diese Argumente gehören zurückgegeben."
   ]
  },
  {
   "cell_type": "code",
   "execution_count": 3,
   "metadata": {},
   "outputs": [],
   "source": [
    "def intialize_parser():\n",
    "    parser = argparse.ArgumentParser()\n",
    "    ui_group = parser.add_mutually_exclusive_group()\n",
    "    ui_group.add_argument(\"-t\", \"--terminal\", help=\"starts the terminal ui\", action=\"store_true\")\n",
    "    ui_group.add_argument(\"-g\", \"--gui\", help=\"starts the GUI\", action=\"store_true\")\n",
    "\n",
    "    player_name_type_group = parser.add_argument_group()\n",
    "    player_name_type_group.add_argument(\"-p\", \"--player\", nargs=2, help=argparse.SUPPRESS) # help=\"set name player 1 and 2\"\n",
    "    player_name_type_group.add_argument(\"-pT\",\"--player_type\", nargs=2, choices=[\"User\",\"AI\", \"Player\", \"Dummy\"], help=argparse.SUPPRESS) # help=\"enter player type for player 1 and 2\"\n",
    "    player_name_type_group.add_argument(\"-pD\",\"--player_difficulty\", nargs=2, type=int, choices=range(0,4), help=argparse.SUPPRESS) # help=\"enter ai difficulty for player 1 and 2, use 0 if you are not using ai\"\n",
    "\n",
    "    parser.add_argument(\"-v\", \"--version\", help=\"print the version number and exit\", action=\"store_true\")\n",
    "    return parser"
   ]
  },
  {
   "cell_type": "markdown",
   "metadata": {},
   "source": [
    "Nach der Initialisierung des Parsers wird die Hauptfunktion `main` mit dem Rückgabewert der Funktion `intialize_parser` aufgerufen. Dieser Rückgabewert enthält die Befehlszeilenargumente, die in der `main` durch If-Verzweigungen verwendet werden.\n",
    "\n",
    "Falls der Nutzer die Schach-KI startet ohne ein Übergabeparameter oder mit dem Parameter `-g`/`--gui` wird der Variable `ui_status` der Wert `1` zugewiesen. Diese Variable wird im weiteren Verlauf des Codes dazu verwendet um entscheiden zu können welche Visualisierungsmöglichkeit ausgewählt wurde. \n",
    "\n",
    "Der aktuelle Stand ist, dass nur die Nachricht für den Nutzer ausgegeben wird, dass das Graphical User Interface gestartet wird. Da die Entwicklung einer weiteren Benutzerschnittstellen den Umfang dieser wissenschaftlichen Arbeit sprengen würde, ist die Möglichkeit vorhanden zukünftig eine weitere Schnittstelle hinzuzufügen, jedoch dies in der aktuellen Version nicht umgesetzt.\n",
    "\n",
    "Falls der Nutzer den Parameter `-t`/`--terminal` verwendet hat, wird die Funktion `start_chess_maste(ui_status)` mit dem Übergabeparameter `ui_status` und dessen Wert `0`àufgerufen. Sollte der Nutzer den Parameter `-v`/`--version` verwenden erhält die aktuelle Versionsnummer."
   ]
  },
  {
   "cell_type": "code",
   "execution_count": 4,
   "metadata": {},
   "outputs": [],
   "source": [
    "def main():\n",
    "    if args.terminal or (not (args.gui) and not (args.terminal) and not (args.version)):\n",
    "        ui_status = 0\n",
    "        start_chess_master(ui_status)\n",
    "    elif args.terminal:\n",
    "        ui_status = 1\n",
    "        start_chess_master(ui_status)\n",
    "    elif args.version:\n",
    "        print(__version__)"
   ]
  },
  {
   "cell_type": "markdown",
   "metadata": {},
   "source": [
    "Die zusätzlichen Argumente, die der Nutzer angeben kann werden in der Funktion `start_chess_master(ui_status)` verwendet um damit steuern zu können, ob die Einstellungen des Spiels gesetzt wurden, oder diese abgefragt werden müssen."
   ]
  },
  {
   "cell_type": "markdown",
   "metadata": {},
   "source": [
    "# Erstellen der Spieler\n",
    "\n",
    "Vor dem Start eines Schachspiels müssen zunächst zusätzlich noch Spiel generell sowie die partizpierenden Spieler der gewünschten Spielertypen erstellt werden. Dazu muss der Spieler dem Programm entweder Parameter mitgeben, wie in Kapitel INSERT beschrieben, die das Spiel direkt mit den gewünschten Spielern startet, oder aber der Spieler wird während des Erstellvorgangs nach den fehlenden Einstellungen gefragt.\n",
    "\n",
    "Dazu wird eine Liste an Spielern an Hand der gegebenen Informationen erstellt, mittels welcher Das Spiel dann stattfinden kann. Dies findet in der Funktion `interrogate_settings` aus der Schnittstelle `settings/interface.py` statt.\n",
    "\n",
    "Wird das Spiel mit Parametern gestartet werden diese mit in die `interrogate_settings` Funktion übermittelt. Andernfalls werden alle fehlenden Informationen in der Funktion über die Nutzerschnittstelle abgefragt. Dies sieht wie folgt aus:"
   ]
  },
  {
   "cell_type": "code",
   "execution_count": 5,
   "metadata": {},
   "outputs": [],
   "source": [
    "def interrogate_settings(self, player_names=None, player_types=None, player_difficulty = None):\n",
    "    players = []\n",
    "    for i in range(2):\n",
    "        num = i+1\n",
    "        if player_names is None:\n",
    "            name = self.get_player_name(num)\n",
    "        else:\n",
    "            name = player_names[i]\n",
    "\n",
    "        if player_types is None:\n",
    "            player_type = self.get_player_type(num)\n",
    "        else:\n",
    "            player_type = player_types[i]\n",
    "\n",
    "        difficulty = None\n",
    "        if player_type == 2 and player_difficulty is None:\n",
    "            difficulty = self.get_difficulty(num)\n",
    "        elif player_type == 2 and player_difficulty is not None:\n",
    "            difficulty = player_difficulty[i]\n",
    "\n",
    "        new_player = PlayerSettings(num, name, player_type, difficulty)\n",
    "        players.append(new_player)\n",
    "\n",
    "    return players"
   ]
  },
  {
   "cell_type": "markdown",
   "metadata": {},
   "source": [
    "Dabei werden für jeden Spieler einmal ein Block an Abfragen durchgegangen, der alle Einstellungen abfragt und diese entsprechend speichet.\n",
    "\n",
    "Nach der Abfrage der Informationen \"Name\" und \"Spielertyp\" wird im Falle, dass dieser Spielertyp \"2\", der der KI entspricht, gleicht, auch noch der Schwierigkeitsgrad abgefragt, sollte dieser nicht bereits als Startparameter übergeben worden sein.\n",
    "\n",
    "Die Funktionen zur Abfrage dieser Informationen müssen in der Implementierung der Schnittstelle definiert werden. Dies kann also sowohl in der GUI als auch der terminal Implementierung stattfinden. Die Implementierung dieser Informationsabfrage ist in der `settings/terminal.py` Datei vorzufinden und sieht wie folgt aus:"
   ]
  },
  {
   "cell_type": "code",
   "execution_count": 6,
   "metadata": {},
   "outputs": [],
   "source": [
    "def get_player_type(self, player_num):\n",
    "    super().get_player_type(player_num)\n",
    "    legal_range = range(PLAYER_TYPE_MIN, PLAYER_TYPE_MAX + 1)\n",
    "    input_msg = PLAYER_TYPE_INPUT_MESSAGE.format(player_num)\n",
    "    input_player_type = Tools.check_legal_input_int(legal_range, input_msg)\n",
    "    return input_player_type\n",
    "\n",
    "def get_player_name(self, player_num):\n",
    "    super().get_player_name(player_num)\n",
    "    return input(PLAYER_NAME_INPUT_MESSAGE.format(player_num))\n",
    "\n",
    "def get_difficulty(self, player_num):\n",
    "    super().get_difficulty(player_num)\n",
    "    legal_range = range(DIFFICULTY_MIN, DIFFICULTY_MAX + 1)\n",
    "    input_msg = DIFFICULTY_INPUT_MESSAGE.format(player_num)\n",
    "    input_difficulty = Tools.check_legal_input_int(legal_range, input_msg)\n",
    "    return input_difficulty"
   ]
  },
  {
   "cell_type": "markdown",
   "metadata": {},
   "source": [
    "Anschließend wird ein neues Einstellungsparameterschema für Spieler, genannt `PlayerSettings`, erstellt und der Liste hinzugefügt. Diese Liste wird nach Durchgang der Schleife für beide Spieler zurück gegeben.\n",
    "\n",
    "Nachdem die Einstellungen für alle Spieler bekannt sind, werden die Spieler erstellt. Dies funktioniert wie in nachfolgendem Code-Snippet zu sehen."
   ]
  },
  {
   "cell_type": "code",
   "execution_count": 7,
   "metadata": {},
   "outputs": [],
   "source": [
    "def start_chess_master(ui_status):    \n",
    "    try:\n",
    "        settings_ui = ui_switcher(ui_status).Settings()\n",
    "        player_settings = settings_ui.interrogate_settings()\n",
    "        players = []\n",
    "        for player_setting in player_settings:\n",
    "            type = type_switcher(player_setting.type)\n",
    "            players.append(type.Player(player_setting.num, player_setting.name, ui_status, player_setting.difficulty))\n",
    "\n",
    "        chess_master = ChessMaster()\n",
    "        chess_master.start_chess_game(players)\n",
    "    except KeyboardInterrupt:\n",
    "        print(\"\\nYou've quit the game.\")\n",
    "    except Exception:\n",
    "        traceback.print_exc(file=sys.stdout)\n",
    "    sys.exit(0)"
   ]
  },
  {
   "cell_type": "markdown",
   "metadata": {},
   "source": [
    "Dabei werden zunächst wie gehabt die Einstellungen abgefragt, ehe eine Liste aller Spieler erstellt wird. Dann wird über jeden Eintrag in der Einstellungsliste iteriert und für diesen zunächst der Spielertyp berechnet. Dabei wird der `type_switcher` zur Hilfe genommen, welcher je nach angegebenen Typ die entsprechende Klasse des Spielertyps zurückgibt:"
   ]
  },
  {
   "cell_type": "code",
   "execution_count": 8,
   "metadata": {},
   "outputs": [],
   "source": [
    "def type_switcher(player_type):\n",
    "    return {\n",
    "        1: user,\n",
    "        2: ai,\n",
    "        3: api,\n",
    "        4: dummy\n",
    "    }[player_type]"
   ]
  },
  {
   "cell_type": "markdown",
   "metadata": {},
   "source": [
    "\n",
    "Mittels dieser wird dann ein neuer Spieler erstellt, wobei beim Initialisierren alle weiteren Daten mitgegeben werden. Dieser neue Spieler wird dann der Spielerliste hinzugefügt. Mit dieser Liste an Spielern wird dann der `ChessMaster` initialisiert, der im Kapitel INSERT beschrieben wird.\n",
    "\n",
    "Zusätzlich kann man das Spiel an dieser Stelle auch mittels eines Keyboard Interrupts beenden."
   ]
  },
  {
   "cell_type": "markdown",
   "metadata": {},
   "source": [
    "# Verwalten des Schachspiels und Pflege des Spielverlaufs\n",
    "\n",
    "Ein essentieller Part im Erstellen eines Schachprogrammes ist das Verwalten des Schachspiels. Dabei muss garantiert werden, dass\n",
    "- Solange das Spiel nicht vorbei ist, die Spieler abwechselnd einen Zug auswählen können\n",
    "- Der Zug auf dem vorhandenen Schachbrett durchgeführt wird\n",
    "- Das daraus entstehende Schachbrett dem Spieler sichtbar gemacht wird\n",
    "\n",
    "Dies ist Aufgabe der `chess_master.py` und ist mit folgendem Code umgesetzt"
   ]
  },
  {
   "cell_type": "code",
   "execution_count": 9,
   "metadata": {},
   "outputs": [],
   "source": [
    "def start_chess_game(self, players):\n",
    "    board = chess.Board()\n",
    "    while not board.is_game_over():\n",
    "        current_player = players[int(not board.turn)]\n",
    "        current_player.print_board(current_player.name, board)\n",
    "\n",
    "        move = current_player.get_move(board)\n",
    "        board.push(move)\n",
    "        current_player.submit_move(move)\n",
    "\n",
    "    current_player = players[int(not board.turn)]\n",
    "    current_player.print_board(current_player.name, board)"
   ]
  },
  {
   "cell_type": "markdown",
   "metadata": {},
   "source": [
    "Dabei wird zunächst ein neues Schachbrett - hier board genannt - erstellt. Solange das Spiel auf diesem nicht vorbei ist, was mittels der `board.is_game_over()` Funktiong geprüft werden kann, wird dann stets die gleiche Schleife durchlaufen.\n",
    "\n",
    "In dieser wird zuallererst der aktuelle Spieler ermittelt und referenziert. Dazu wird aus einer vorhandenen Liste aller Spieler derjenige gewählt, dessen Position in der Liste der gespeicherten Zugnummer des boards entspricht. Diese ist entweder 0, wenn der weiße Spieler an der Reihe ist, oder 1, wenn der schwarze Spieler den nächsten Zug auswählen kann. \n",
    "\n",
    "Der daraus berechnete Spieler wurde zuvor beim Spielstart ein Spielertyp zugewiesen, der auf einer Schnittstelle basiert und somit alle nötigen Funktionen implementiert. Diese wurden im Kapitel INSERT beschrieben. Im Verwalter des Schachspiels werden diese nun nach für nach aufgerufen.\n",
    "\n",
    "Zunächst wird das board für den Spieler ausgegeben mittels der `print_board` Funktion. Ist der Spieler ein Nutzer, so wird diese für gewöhnlich am Nutzerinterface ausgegeben. Dies wird in Kapitel INSERT näher erläutert. Andernfalls ist dies nicht nötig und die Funktion kann leer bleiben, ohne etwas auszugeben.\n",
    "\n",
    "Nun kommt es zum wichtigsten Teil - dem Berechnen des nächsten Zuges. Dazu wird der Spieler aufgefordert an Hand eines gegebenen boards den nächsten Zug zu nennen. In diesem Teil übernimmt beispielsweise die KI ihre Berechnungen für den nächsten Schachzug. Dies wird in Kapitel INSERT erklärt. Der Nutzer dagegen gibt diesen mittels eines Eingabefeldes ein, das beispielsweise über die Nutzer Interface Schnittstelle `player/user_input/terminal.py` implementiert ist wie hier zu sehen ist:"
   ]
  },
  {
   "cell_type": "code",
   "execution_count": 10,
   "metadata": {},
   "outputs": [],
   "source": [
    "def get_user_move(legal_moves):\n",
    "    input_msg = ASK_FOR_MOVE_MESSAGE.format(legal_moves)\n",
    "    move = Tools.check_legal_input_string(legal_moves,input_msg, WRONG_INPUT_MESSAGE)\n",
    "    return move"
   ]
  },
  {
   "cell_type": "markdown",
   "metadata": {},
   "source": [
    "Nachdem der Zug vom entsprechenden Spieler berechnet und zurückgegeben wurde, wird dieser dem aktuellen board hinzugefügt. Dadurch wechselt auch automatisch der Spieler, der an der Reihe ist, wodurch dieser im nächsten Schleifendurchlauf nach dessen Zug gefragt wird.\n",
    "\n",
    "Abschließend wird das neue board nochmal abgeschickt. Dabei kann zum Beispiel eine erneute Ausgabe des Schachbretts mit dem aktualisierten Zustand stattfinden oder beispielsweise bei der Nutzung einer Schach-API der gewählte Zug an die Schnittstelle gesendet werden.\n",
    "\n",
    "Nach dem Ende des Spiels wird noch das Ergebnis ausgegeben. Diese Ausgabe erfolgt zur aktuellen Version ausschließlich über die Konsole. Dies sieht wie folgt aus:"
   ]
  },
  {
   "cell_type": "code",
   "execution_count": 11,
   "metadata": {},
   "outputs": [],
   "source": [
    "def start_chess_game(self, players):\n",
    "    board = chess.Board()\n",
    "    while not board.is_game_over():\n",
    "        current_player = players[int(not board.turn)]\n",
    "        current_player.print_board(current_player.name, board)\n",
    "\n",
    "        move = current_player.get_move(board)\n",
    "        board.push(move)\n",
    "        current_player.submit_move(move)\n",
    "\n",
    "    current_player = players[int(not board.turn)]\n",
    "    current_player.print_board(current_player.name, board)\n",
    "\n",
    "    result = Tools.get_board_result(board)\n",
    "    if result is 1:\n",
    "        print(\"{} (White) has won\".format(players[0].name))\n",
    "    elif result is -1:\n",
    "        print(\"{} (Black) has won\".format(players[1].name))\n",
    "    else:\n",
    "        print(\"Draw\")"
   ]
  },
  {
   "cell_type": "markdown",
   "metadata": {},
   "source": [
    "Dabei wird zuerst das Ergebnis an Hand der `get_board_result` Funktion aus der Hilfsklasse \"Tools\" ermittelt. Diese sieht wie folgt aus:"
   ]
  },
  {
   "cell_type": "code",
   "execution_count": 12,
   "metadata": {},
   "outputs": [],
   "source": [
    "def get_board_result(board):\n",
    "    if board.is_variant_loss():\n",
    "        return -1 if board.turn == chess.WHITE else 1\n",
    "    elif board.is_variant_win():\n",
    "        return 1 if board.turn == chess.WHITE else -1\n",
    "    elif board.is_variant_draw():\n",
    "        return 0\n",
    "\n",
    "    # Checkmate.\n",
    "    if board.is_checkmate():\n",
    "        return -1 if board.turn == chess.WHITE else 1\n",
    "\n",
    "    # Draw claimed.\n",
    "    if board.can_claim_draw():\n",
    "        return 0\n",
    "\n",
    "    # Fifty-move rule or fivefold repetition.\n",
    "    if board.can_claim_fifty_moves() or board.is_fivefold_repetition():\n",
    "        return 0\n",
    "\n",
    "    # Insufficient material.\n",
    "    if board.is_insufficient_material():\n",
    "        return 0\n",
    "\n",
    "    # Stalemate.\n",
    "    if not any(board.generate_legal_moves()):\n",
    "        return 0\n",
    "    \n",
    "    return 0"
   ]
  },
  {
   "cell_type": "markdown",
   "metadata": {},
   "source": [
    "Dabei wird jede mögliche Option, wie das Spiel zum Ende gekommen sein kann, durchgegangen und anschließend das jeweilige Ergebnis zurückgegeben. Eine 1 steht für einen Sieg für weiß, eine -1 für einen Sieg für schwarz und eine 0 für ein Unentschieden beziehungsweise einen Patt.\n",
    "\n",
    "Nach Abfrage des Ergebnisses werden beide Spieler abhängig von diesem entweder dazu aufgefordert eine Siesesbenachrichtigung auszugeben oder aber eine Benachrichtigung über die Niederlage oder ein Unentschieden.\n",
    "\n",
    "Zusätzlich zu dem Verwalten des Spiels ist es auch Aufgabe des `ChessMaster`s die Historie aller Spiele zu pflegen. Dazu wird zunächst eine Liste von Schachbrettern der Klasse `chess.Board` angelegt. Nach jedem durchgeführten Zug wird der neue Zustand des boards zu dieser hinzugefügt. Dabei wird das Schachbrett in der fen-Notation gespeichert, die in einem String den exakten Zustand des Schachbretts wiedergeben kann. Dabei wird jedoch nur der erste Teil dieser Notation gespeichert, da dieser alleine bereits Aufschluss über die Positionierungen gibt. Die darauf folgenden Teile sind zum Speichern des Spielers, der am Zug ist, wie viele Züge bereits durchgeführt wurden und weitere Informationen, die zum Bewerten in der Historie nicht notwendig sind. \n",
    "\n",
    "Zum Speichern der Züge in einem Verlauf wird die Funktion zum Einen um eine Liste `turn_list` erweitert, in die die Züge dann als INSERT FEN Notation abgespeichert werden. Dazu wird die Funktion wie folgt angepasst. "
   ]
  },
  {
   "cell_type": "code",
   "execution_count": 13,
   "metadata": {},
   "outputs": [],
   "source": [
    "def start_chess_game(self, players):\n",
    "    board = chess.Board()\n",
    "    turn_list = list()\n",
    "    while not board.is_game_over():\n",
    "        current_player = players[int(not board.turn)]\n",
    "        current_player.print_board(current_player.name, board)\n",
    "\n",
    "        move = current_player.get_move(board)\n",
    "        board.push(move)\n",
    "        current_player.submit_move(move)\n",
    "\n",
    "        turn_list.append(board.fen().split(\" \")[0])\n",
    "\n",
    "    current_player = players[int(not board.turn)]\n",
    "    current_player.print_board(current_player.name, board)\n",
    "\n",
    "    result = Tools.get_board_result(board)\n",
    "    if result is 1:\n",
    "        print(\"{} (White) has won\".format(players[0].name))\n",
    "    elif result is -1:\n",
    "        print(\"{} (Black) has won\".format(players[1].name))\n",
    "    else:\n",
    "        print(\"Draw\")\n",
    "\n",
    "    self.groom_board_history(board, turn_list)"
   ]
  },
  {
   "cell_type": "markdown",
   "metadata": {},
   "source": [
    "Nach Ende des Spiels muss diese Liste noch in die bestehende Historie eingepflegt werden. Dies ist in folgendem Code-Snippet zu sehen."
   ]
  },
  {
   "cell_type": "code",
   "execution_count": 14,
   "metadata": {},
   "outputs": [],
   "source": [
    "def groom_board_history(self, final_board, turn_list):\n",
    "    victory_status = Tools.get_board_result(final_board)\n",
    "\n",
    "    new_turn_dict = dict.fromkeys(turn_list, victory_status)\n",
    "\n",
    "    history = pd.read_csv(HISTORY_FILE_LOC)\n",
    "    history_dict = dict(zip(list(history.board), list(history.value)))\n",
    "\n",
    "    merged_history_dict = { k: new_turn_dict.get(k, 0) + history_dict.get(k, 0) for k in set(new_turn_dict) | set(history_dict) }\n",
    "    merged_history = pd.DataFrame(list(merged_history_dict.items()), columns=['board','value'])\n",
    "\n",
    "    merged_history.to_csv(HISTORY_FILE_LOC)"
   ]
  },
  {
   "cell_type": "markdown",
   "metadata": {},
   "source": [
    "Dabei wird zuerst das Ergebnis ermittelt mittels der bereits vorgestellten Funktion `get_board_result`. Danach wird ein Dictionary angelegt, das auf der einen Seite jeden gespeicherten Zustand des einzupflegenden Spiels als Schlüssel enthält und auf der anderen Seite als Wert den Ausgang des Spiels. Zur Erinnerung - dieser beträgt 1 bei Sieg von weiß, 0 bei Unentschieden/Patt und -1 bei Sieg von Schwarz.\n",
    "\n",
    "Nachdem das Dictionary der neu einzupflegenden Züge angelegt ist, wird die vorhandene Historie aus der entsprechenden Datei ausgelesen. Dies wird mittels der in `panda` enthaltenden Funktion `pd.read_csv` durchgeführt. Anschließend wird auch daraus ein Dictionary erstellt, indem die Zeile \"board\" als Schlüssel und die Zeile \"value\" als Wert verwendet wird.\n",
    "\n",
    "Nun werden die beiden Dictionaries zusammengefügt. Dazu wird für jeden Schlüssel aus dem Dictionary der neu einzupflegenden Spielzüge oder dem vorhandenen Historie-Dictionary der berechnete Wert aus ersterem auf den vorhandenen Wert in der Spielhistorie aufaddiert. Dadurch erhalten wird ein Dictionary, das alle Schachzustände aus der Historie sowie den neuen Spielzuständen vereint und dessen Werte durch Addition kombiniert, wodurch der neu berechnete Wert Aufschluss über den wahrscheinlichen Sieger ausgehend von einem bestimmten Zustand geben kann.\n",
    "\n",
    "Anschließend wird dieses Dictionary in ein Panda Dataframe umgewandelt, wobei der Schlüssel für die Zeile \"board\" und der Wert für die Zeile \"value\" verwendet wird, um das DataDrame anschließend wieder zu der CSV-Datei zu speichern.\n",
    "\n",
    "Zusätzlich wurde noch ein Parameter `repeat` eingeführt, um das Spiel mit den gleichen Einstellungen nochmal wiederholen zu können. Dazu wird am Ende des Spiels abgefragt, ob das Spiel wiederholt werden soll. Solange dies mit einer \"1\" bestätigt wird, wird das Spiel von vorne gestartet. Anderernfalls wird das Spiel und somit das Programm beendet."
   ]
  },
  {
   "cell_type": "code",
   "execution_count": 15,
   "metadata": {},
   "outputs": [],
   "source": [
    "def start_chess_game(self, players):\n",
    "    repeat = 1\n",
    "    while repeat == 1:\n",
    "\n",
    "        board = chess.Board()\n",
    "        turn_list = list()\n",
    "        while not board.is_game_over():\n",
    "            current_player = players[int(not board.turn)]\n",
    "            current_player.print_board(current_player.name, board)\n",
    "\n",
    "            move = current_player.get_move(board)\n",
    "            board.push(move)\n",
    "            current_player.submit_move(move)\n",
    "\n",
    "            turn_list.append(board.fen().split(\" \")[0])\n",
    "\n",
    "        current_player = players[int(not board.turn)]\n",
    "        current_player.print_board(current_player.name, board)\n",
    "\n",
    "        result = Tools.get_board_result(board)\n",
    "        if result is 1:\n",
    "            print(\"{} (White) has won\".format(players[0].name))\n",
    "        elif result is -1:\n",
    "            print(\"{} (Black) has won\".format(players[1].name))\n",
    "        else:\n",
    "            print(\"Draw\")\n",
    "\n",
    "        self.groom_board_history(board, turn_list)\n",
    "        repeat = int(input(GAME_FINISHED_MESSAGE))"
   ]
  },
  {
   "cell_type": "markdown",
   "metadata": {},
   "source": [
    "Dies ermöglicht nicht nur eine Verwaltung des Spiels, sondern gleichzeitig auch eine Speicherung aller möglichen Zustände, die bei den Evaluierungsfunktionen (beschrieben in INSERT) zur Hilfe genommen werden können\n",
    "\n"
   ]
  },
  {
   "cell_type": "markdown",
   "metadata": {},
   "source": [
    "# Zugfindung durch KI\n",
    "\n",
    "Die zentrale Aufgabe der KI ist es, den best möglichen Zug für eine gegebene Situation zu finden. Wie in Kapitel INSERT erwähnt, wird es dazu von dem `ChessMaster` aufgefordert und dazu das aktuelle board mit übergeben. Die Findung des Zuges findet dann in der Datei `player/ai.py` statt:"
   ]
  },
  {
   "cell_type": "code",
   "execution_count": 16,
   "metadata": {},
   "outputs": [],
   "source": [
    "OPENING_MAX_FULLMOVE_NUM = 6\n",
    "FINISHING_MAX_PIECES = 13\n",
    "MAX_BOARD_VALUE = float(\"inf\")\n",
    "\n",
    "def get_move(board):\n",
    "        game_status = 2\n",
    "        evaluation_func = evaluate_board\n",
    "        \n",
    "        opening_book = import_opening_book(OPENING_BOOK_LOC)\n",
    "        \n",
    "        if board.fullmove_number <= OPENING_MAX_FULLMOVE_NUM:\n",
    "            game_status = 1\n",
    "            move = get_opening_move(board, opening_book)\n",
    "            if not move is None:\n",
    "                return move\n",
    "        \n",
    "        white_material = get_value_by_color(board, chess.WHITE, False)\n",
    "        black_material = get_value_by_color(board, chess.BLACK, False)\n",
    "        if white_material <= FINISHING_MAX_PIECES and black_material <= FINISHING_MAX_PIECES:\n",
    "            game_status = 3\n",
    "            \n",
    "        pieces_counter_white = sum(len(board.pieces(piece_type, chess.WHITE)) for piece_type in chess.PIECE_TYPES)\n",
    "        pieces_counter_black = sum(len(board.pieces(piece_type, chess.BLACK)) for piece_type in chess.PIECE_TYPES)\n",
    "        \n",
    "        if pieces_counter_white + pieces_counter_black <= 5:\n",
    "            board.evaluation_func = get_dtz_value\n",
    "            evaluation_func = get_dtz_value\n",
    "        \n",
    "        evaluation_funcs_dict = get_evaluation_funcs_by_dif(game_status, 3)\n",
    "\n",
    "        return iterative_deepening(board, get_max_depth_by_game_status(game_status), evaluation_func, evaluation_funcs_dict)"
   ]
  },
  {
   "cell_type": "markdown",
   "metadata": {},
   "source": [
    "Dabei gibt es 3 erreichbare Status, in der sich das Spiel befinden kann: \n",
    "\n",
    "- Eröffnungsspiel\n",
    "- Mittelspiel\n",
    "- Endspiel\n",
    "\n",
    "Für alle 3 Status unterscheidet sich die Art, wie die KI einen Zug finden soll. Standardmäßig befindet sich das Spiel im Zeitfenster des Mittelspiel. Dazu wird auch die passende Evaluationsfunktion festgelegt, die in Kapitel INSERT erklärt wird. Mittels dieser wird im Minimax Algorithmus INSERT nach dem besten Zug gesucht. Dies ändert sich wenn eine der zwei folgenden Bedinungen zutrifft:\n",
    "\n",
    "Die erste ist für den Fall, dass sich das Spiel noch innerhalb der ersten 10 Züge (5 Züge pro Spieler) befindet. In dem Fall wird es noch als Eröffnungsspiel gewertet und es wird zuerst ein Eröffnungsspielzugbuch geprüft, ob dies einen passenden Zug zur Verfügung hat. Dies ist in Kapitel INSERT beschrieben. Andernfalls wird standardmäßig in die \"Iterative Deepening\" Funktion gegeben, die in Kapitel INSERT beschrieben wird.\n",
    "\n",
    "Die zweite Möglichkeit ist, dass sich das Spiel im Endspiel befindet. Dazu wird von beiden Seiten ein Wert der Materialien berechnet. Dies wird später noch bei den Evaluierungsfunktionen in Kapitel INSERT näher beschrieben. Ist für beide Spieler der Wert unter 13, so gilt das Spiel als Endspiel. Dafür werden auch die Evaluationsfunktionen geändert, um statt der üblichen Evaluationen den DTZ Wert zu nehmen, der in Kapitel INSERT erklärt wird, um per Minimax Algorithmus INSERT nach dem besten Zug zu suchen..\n",
    "\n",
    "In beiden Fällen wird der `game_status` geändert. An Hand dieser bestimmt die Funktion `get_evaluation_funcs_by_dif` die Gewichtungsfaktoren, die den einzelnen Evaluierungsfunktionen zugewiesen werden, um diese je nach Spielsituation optimal miteinander zu kombinieren. Diese Funktion sieht wie folgt aus:"
   ]
  },
  {
   "cell_type": "code",
   "execution_count": 17,
   "metadata": {},
   "outputs": [],
   "source": [
    "MAX_DEPTH_START = 4\n",
    "BOARD_VALUE_FACTOR_START = 50\n",
    "ATTACKED_PIECES_FACTOR_START = 10\n",
    "BOARD_POSITIONS_FACTOR_START = 50\n",
    "OPP_BOARD_POSITIONS_FACTOR_START = 50\n",
    "KING_SAFETY_FACTOR_START = 5\n",
    "OPP_KING_SAFETY_FACTOR_START = 5\n",
    "MOBILITY_FACTOR_START = 4\n",
    "HISTORY_FACTOR_START = 1\n",
    "\n",
    "MAX_DEPTH_MID = 4\n",
    "BOARD_VALUE_FACTOR_MID = 50\n",
    "ATTACKED_PIECES_FACTOR_MID = 10\n",
    "BOARD_POSITIONS_FACTOR_MID = 25\n",
    "OPP_BOARD_POSITIONS_FACTOR_MID = 25\n",
    "KING_SAFETY_FACTOR_MID = 5\n",
    "OPP_KING_SAFETY_FACTOR_MID = 5\n",
    "MOBILITY_FACTOR_MID = 4\n",
    "HISTORY_FACTOR_MID = 0\n",
    "\n",
    "MAX_DEPTH_END = 10\n",
    "BOARD_VALUE_FACTOR_END = 50\n",
    "ATTACKED_PIECES_FACTOR_END = 20\n",
    "BOARD_POSITIONS_FACTOR_END = 10\n",
    "OPP_BOARD_POSITIONS_FACTOR_END = 10\n",
    "KING_SAFETY_FACTOR_END = 5\n",
    "OPP_KING_SAFETY_FACTOR_END = 10\n",
    "MOBILITY_FACTOR_END = 10\n",
    "HISTORY_FACTOR_END = 5\n",
    "\n",
    "def get_evaluation_funcs_by_dif(game_status, difficulty):\n",
    "    factor_dict = get_factors_by_game_status(game_status)\n",
    "    funcs_by_deg_of_dif = {\n",
    "        1: {get_board_value: factor_dict.get(\"board_value\")},\n",
    "        2: {get_board_value: factor_dict.get(\"board_value\"), get_attacked_pieces_value: factor_dict.get(\"attacked_pieces\"), get_board_value_by_history: factor_dict.get(\"history\")},\n",
    "        3: {get_board_value: factor_dict.get(\"board_value\"), get_attacked_pieces_value: factor_dict.get(\"attacked_pieces\"), get_board_positions_value: factor_dict.get(\"board_position\"), get_opp_board_positions_value: factor_dict.get(\"opp_board_position\"), calculate_king_zone_safety: factor_dict.get(\"king_safety\"), calculate_opp_king_zone_safety: factor_dict.get(\"opp_king_safety\"), calculate_mobility_value: factor_dict.get(\"mobility\")}\n",
    "    }\n",
    "    return funcs_by_deg_of_dif.get(difficulty)\n",
    "\n",
    "def get_factors_by_game_status(game_status):\n",
    "    return {\n",
    "        1: {\n",
    "            \"board_value\": BOARD_VALUE_FACTOR_START,\n",
    "            \"attacked_pieces\": ATTACKED_PIECES_FACTOR_START,\n",
    "            \"board_position\": BOARD_POSITIONS_FACTOR_START,\n",
    "            \"opp_board_position\": OPP_BOARD_POSITIONS_FACTOR_START,\n",
    "            \"king_safety\": KING_SAFETY_FACTOR_START,\n",
    "            \"opp_king_safety\": OPP_KING_SAFETY_FACTOR_START,\n",
    "            \"mobility\": MOBILITY_FACTOR_START,\n",
    "            \"history\": HISTORY_FACTOR_START\n",
    "        },\n",
    "        2: {\n",
    "            \"board_value\": BOARD_VALUE_FACTOR_MID,\n",
    "            \"attacked_pieces\": ATTACKED_PIECES_FACTOR_MID,\n",
    "            \"board_position\": BOARD_POSITIONS_FACTOR_MID,\n",
    "            \"opp_board_position\": OPP_BOARD_POSITIONS_FACTOR_MID,\n",
    "            \"king_safety\": KING_SAFETY_FACTOR_MID,\n",
    "            \"opp_king_safety\": OPP_KING_SAFETY_FACTOR_MID,\n",
    "            \"mobility\": MOBILITY_FACTOR_MID,\n",
    "            \"history\": HISTORY_FACTOR_MID\n",
    "        },\n",
    "        3: {\n",
    "            \"board_value\": BOARD_VALUE_FACTOR_END,\n",
    "            \"attacked_pieces\": ATTACKED_PIECES_FACTOR_END,\n",
    "            \"board_position\": BOARD_POSITIONS_FACTOR_END,\n",
    "            \"opp_board_position\": OPP_BOARD_POSITIONS_FACTOR_END,\n",
    "            \"king_safety\": KING_SAFETY_FACTOR_END,\n",
    "            \"opp_king_safety\": OPP_KING_SAFETY_FACTOR_END,\n",
    "            \"mobility\": MOBILITY_FACTOR_END,\n",
    "            \"history\": HISTORY_FACTOR_END\n",
    "        }\n",
    "    }[game_status]"
   ]
  },
  {
   "cell_type": "markdown",
   "metadata": {},
   "source": [
    "Dabei wird erst über die Funktion `get_factors_by_game_status` ein passendes Dictionary mit den dem Spielstatus entsprechenden Gewichtungsfaktoren für jede einzelne Evaluierungsfunktion erstellt. Dann werden je nach Schwierigkeitsgrad die durchzuführenden Evaluierungen mitsamt dem aus dem Dictionary passenden Gewichtungsfaktoren zurückgegeben.\n",
    "\n",
    "Nachdem diese Schritte durchgeführt wurden und nicht schon bereits vorher ein Zug durch die Eröffnungs- oder Endspieldatenbank zurückgegeben wurde, wird die Funktion des \"Iterative Deepening\", die in Kapitel INSERT erklärt wird, aufgerufen und das der Rückgabewert dieser Funktion als durchzuführender Zug ausgewählt und somit zurückgegeben. Dazu wird zunächst allerdings noch die maximale Tiefe an Hand des Spielstatus ermittelt:"
   ]
  },
  {
   "cell_type": "code",
   "execution_count": 18,
   "metadata": {},
   "outputs": [],
   "source": [
    "def get_max_depth_by_game_status(game_status):\n",
    "    return {\n",
    "        1: MAX_DEPTH_START, \n",
    "        2: MAX_DEPTH_MID,\n",
    "        3: MAX_DEPTH_END\n",
    "    }[game_status]"
   ]
  },
  {
   "cell_type": "markdown",
   "metadata": {},
   "source": [
    "Der erhaltene Wert wird dann zusammen mit dem aktuellen Spielzustand in die `iterative_deepening` Funktion gegeben, die dann den optimalen Zug ermitteln soll. Dies wird in Kapitel INSERT erklärt."
   ]
  },
  {
   "cell_type": "markdown",
   "metadata": {},
   "source": [
    "# Einbinden und Verwendung von Opening-Books\n",
    "\n",
    "Im Fall, dass sich das Spiel noch im Anfangszustand befindet, kann ein Opening Book zur Hilfe genommen werden, um einen passenden Zug zu finden.\n",
    "\n",
    "Opening-Books sind ein wesentlicher Bestandteil der Schach-KI, da diese aus einer großen Anzahl von Eröffnungszügen bestehen. Hierbei wurden die Opening-Books bereits analysiert und konnten durch Überprüfungen als gute Eröffnungen identifiziert werden.\n",
    "\n",
    "Zur Verwendung dieser Bücher müssen diese Dateien, die im .bin-Format vorliegen, in eine Variable geladen werden, da später auf diese Bücher mittels Funktionen zugegriffen werden soll. Damit die Eröffnungszüge in einer Variable gespeichert werden können, muss der Pfad zu dem Buch vorliegen, der im folgenden Codeausschnitt in eine globale Konstante `OPENING_BOOK_LOC` geschrieben wurde. Dies findet ebenfalls in der Datei `player/ai.py`statt."
   ]
  },
  {
   "cell_type": "code",
   "execution_count": 19,
   "metadata": {},
   "outputs": [],
   "source": [
    "OPENING_BOOK_LOC = \"res/polyglot/Performance.bin\""
   ]
  },
  {
   "cell_type": "markdown",
   "metadata": {},
   "source": [
    "Für das Laden eines Buches in eine Variable wird die Funktion `import_opening_book(self, book_location)` genutzt. Diese hat die Eigenschaft, dass sie als Übergabeparameter eine Konstante erhält, die den Pfad zu dem zu importierenden Opening-Book enthält.\n",
    "\n",
    "Innerhalb der `import_opening_book` Funktion wird mittels einer If-Verzweigung überprüft, ob der angegebene Pfad eine Datei ist. Sollte dies zutreffen, dann wird, inklusive des Buchpfades, die Funktion `polyglot.open_reader` aus der \"chess\" Bibliothek aufgerufen. Diese Funktion liefert als Rückgabewert das Opening-Book, welches an die Stelle zurückgegeben wird, an der die Funktion `import_opening_book` aufgerufen wird.\n",
    "\n",
    "Sollte der Pfad in der Variable `book_location` keine Datei sein, so wird ein _File Not Found_-Fehler geworfen, der dabei den vermeintlichen Pfad mit übergibt."
   ]
  },
  {
   "cell_type": "code",
   "execution_count": 20,
   "metadata": {},
   "outputs": [],
   "source": [
    "def import_opening_book(book_location):\n",
    "        '''\n",
    "        load an opening book\n",
    "        raise an error if system cannot find the opening-book file\n",
    "        '''\n",
    "        if os.path.isfile(book_location):\n",
    "            return chess.polyglot.open_reader(book_location)\n",
    "        else:\n",
    "            raise FileNotFoundError(\n",
    "                errno.ENOENT, os.strerror(errno.ENOENT), book_location)"
   ]
  },
  {
   "cell_type": "markdown",
   "metadata": {},
   "source": [
    "Die Funktion zum Importieren des Opening-Books wird im Konstruktor der KI-Klasse aufgerufen, da das Opening-Book bei jeder Verwendung direkt zu Beginn von der KI benötigt wird und somit direkt verfügbar sein muss. Das bringt den Vorteil, dass eine Klassenvariable vorliegt, die von allen Funktionen der Klasse KI verwendet werden kann, sobald der Konstruktor ausgeführt wurde.\n",
    "\n",
    "Als Übergabewert wird die zuvor definierte Konstante `OPENING_BOOK_LOC` übergeben, die den Pfad zu einem Opening-Book enthält."
   ]
  },
  {
   "cell_type": "markdown",
   "metadata": {},
   "source": [
    "Um das Opening-Book verwenden zu können und aus diesem mögliche Eröffnungsstrategien verwenden zu können wird die Funktion `get_opening_move(self, board, opening_book)` benötigt, die als Übergabewerte das aktuelle Schachbrett und das importierte Book erhält.\n",
    "\n",
    "Der aktuelle Spielstand in Form des Schachbretts wird benötigt damit das Opening-Book weiß auf welche Situation reagiert werden muss.\n",
    "\n",
    "Der Sinn der Funktion `get_opening_move` ist es einen Schachzug als Objekt _chess.Move_ zurückzugeben, der laut des Opening-Books in dieser Situation angebracht ist. Dafür wird zuerst überprüft, ob die übergebene Variable `opening_book` durch den Konstruktor und dem damit einhergehenden Aufruf der Funktion `import_opening_book` korrekt initialisiert wurde.\n",
    "\n",
    "Sollte dies nicht der Fall sein wird von der Funktion ein `None` zurückgegeben. Der Wert `None` ist in der Sprache Python der leere Zustand. \n",
    "\n",
    "Falls das Opening-Book korrekt geladen werden konnte wird durch ein try-except versucht einen passenden Schachzug zu finden. Hierbei wird ein try-except verwendet, da die aufgerufene Funktion `opening_book.find(board)` einen _Index Error_ wirft, falls das Opening-Book keinen passenden Zug kennt. Wenn dieser Fall eintreten sollte wird ebenfalls ein `None` zurückgegeben. Sollte jedoch das Buch einen passenden Zug haben, dann wird dieser Zug in eine Variable `main_entry` geladen und aus dieser der Zug extrahiert.\n",
    "\n",
    "Nachdem dies durchgeführt wurde, muss das Opening-Book geschlossen werden, damit es bei der nächsten Verwendung korrekt genutzt werden kann. Ebenfalls wird der erfolgreich extrahierte Zug zurückgegeben."
   ]
  },
  {
   "cell_type": "code",
   "execution_count": 21,
   "metadata": {},
   "outputs": [],
   "source": [
    "def get_opening_move(board, opening_book):\n",
    "        '''\n",
    "        get the current board and return move, as string, for this situation\n",
    "        '''\n",
    "        if not (opening_book is None):\n",
    "            try:\n",
    "                main_entry = opening_book.weighted_choice(board)\n",
    "                move = main_entry.move()\n",
    "                opening_book.close()\n",
    "                return move\n",
    "            except IndexError:\n",
    "                return None\n",
    "        else:\n",
    "            return None"
   ]
  },
  {
   "cell_type": "markdown",
   "metadata": {},
   "source": [
    "# Einbinden und Verwendung von Endspiel Datenbanken\n",
    "Analog dazu kann im Fall, dass sich das Spiel dem Ende neigt, eine Endspiel Datenbank zur Zugfindung zur Hilfe genommen werden. Auch die Einbindung einer solchen Datenbank wird direkt in der Datei `player/ai.py` vorgenommen.\n",
    "\n",
    "Dabei befinden sich auf dem Schachfeld nur noch wenige Figuren. Analog zu den Opening-Books wurden bereits viele Endspiele analysiert und für Spielsituationen die optimalen Züge evaluiert. Diese Informationen sind in den Endspiel Datenbanken persistiert, welche eine Auskunft darüber geben welche der spielenden Parteien am Gewinnen bzw. Verlieren ist und wie weit diese von einem Schlagzug entfernt sind. Näheres dazu ist in Kapitel INSERT zu finden.\n",
    "\n",
    "Durch diese Informationen gepaart mit dem Minimax-Algorithmus lässt sich der optimale Zug im Endspiel finden.\n",
    "\n",
    "Das Einbinden der Endspiel Datenbank ähnelt sehr stark dem der Opening-Books. Ebenfalls muss zuerst in einer Konstanten der Pfad zu der Endspiel Datenbank angegeben werden."
   ]
  },
  {
   "cell_type": "code",
   "execution_count": 22,
   "metadata": {},
   "outputs": [],
   "source": [
    "SYZYGY_LOC = \"res/syzygy\""
   ]
  },
  {
   "cell_type": "markdown",
   "metadata": {},
   "source": [
    "Ebenfalls analog zu dem Vorgehen bei Opening-Books wird in der Funktion `import_syzygy(self, syzygy_location)`, zum Importieren der Datenbank, der Pfad übergeben, der zu den benötigten Daten führt. Der Unterschied in dieser Funktion zu der bei den Opening-Books liegt daran, dass die Daten der Datenbank sich in mehreren Dateien befinden und diese sich in einem Ordner befinden. Dafür muss überprüft werden, ob der übergebene Pfad tatsächlich auf ein Verzeichnis verweist. Falls dies gegeben ist, dann kann die Funktion `syzygy.open_tablebase(syzygy_location)` der \"chess\"-Bibliothek aufgerufen werden, die die Datenbank importiert. Nachdem die Daten innerhalb dieser Funktion vorliegen können sie zurückgegeben werden.\n",
    "\n",
    "Sollte der übergebene Pfad nicht auf ein verfügbares Verzeichnis verweisen, dann wird ebenfalls ein _File Not Found Error_ geworfen, der den angegebenen Pfad enthält."
   ]
  },
  {
   "cell_type": "code",
   "execution_count": 23,
   "metadata": {},
   "outputs": [],
   "source": [
    "def import_syzygy(syzygy_location):\n",
    "        '''\n",
    "        load a syzygy tablebase\n",
    "        raise an error if system cannot find the file\n",
    "        '''\n",
    "        if os.path.isdir(syzygy_location):\n",
    "            return chess.syzygy.open_tablebase(syzygy_location)\n",
    "        else:\n",
    "            raise FileNotFoundError(\n",
    "                errno.ENOENT, os.strerror(errno.ENOENT), syzygy_location)"
   ]
  },
  {
   "cell_type": "markdown",
   "metadata": {},
   "source": [
    "Wie bereits aus dem Importieren der Opening-Books bekannt, wird die benötigte Funktion im Konstruktor der Klasse KI aufgerufen."
   ]
  },
  {
   "cell_type": "markdown",
   "metadata": {},
   "source": [
    "Zur Berechnung der Partei, die sich aktuell im Vorteil befindet wird die folgende Funktion `get_dtz_value(self, tablebase, board)` benötigt, die den DTZ-Wert berechnet. Dieser Wert wird auf der Basis des aktuellen Spielzustandes in Form der Variable `board` und der Datenbank in Form der Variable `tablebase` übergeben.\n",
    "\n",
    "Daraufhin wird mittels eines try-except und der Funktion `probe_dtz(board)` versucht den DTZ Wert zu bestimmen. Das Abfangen eines möglichen _Key Error_ wird in diesem Fall benötigt, da die Funktion `probe_dtz` der \"chess\" Bibliothek diesen Fehler wirft, wenn der aktuelle Spielzustand zu viele Steine, oder Informationen zu en passant oder einer Rochade enthält.\n",
    "\n",
    "Die in der Künstlichen Intelligenz verwendete Datenbank unterstützt Endspiele mit bis zu fünf Steinen, jedoch wird dabei nicht auf die Sonderregeln en passant und Rochade geachtet.\n",
    "\n",
    "Wenn der DTZ-Wert bestimmt werden konnte wird diese an die Stelle zurückgegeben an der die Funktion `get_dtz_value` aufgerufen wurde. Falls es zu einem _Key Error_ kommen sollte wird der Wert `None` zurückgegeben."
   ]
  },
  {
   "cell_type": "code",
   "execution_count": 24,
   "metadata": {},
   "outputs": [],
   "source": [
    "def get_dtz_value(tablebase, board):\n",
    "        try:\n",
    "            return tablebase.probe_dtz(board)\n",
    "        except KeyError:\n",
    "            return None"
   ]
  },
  {
   "cell_type": "markdown",
   "metadata": {},
   "source": [
    "# Implementierung des Iterative Deepening Algorithmus\n",
    "\n",
    "Um den besten Zug zu finen muss eine Schach-KI im Optimalfall alle möglichen Züge bis zum Ende des Spiels durchgehen, diese bewerten und den aussichtsreichsten Zug wählen. Da dies aber technisch nicht realistisch ist, wie in Kapitel INSERT beschrieben, werden die Züge nur bis zu einer gewissen Tiefe angeschaut und die Zustände über mitgegebene Evaluierungsfunktionen bewertet.\n",
    "\n",
    "Die KI geht dabei dann wie folgt vor: Alle möglichen Züge werden durchgegangen. Die daraus entstehenden Zustände werden analysiert und evaluiert. Dabei jedoch zählt nicht nur der direkt erreichbare Zustand , sondern auch die aus diesem Zustand erreichbaren Zustände und so weiter. Aus diesem Grund wird immer bis zu einer bestimmten Tiefe in die Züge hineingeschaut und die sich daraus ergebenden Zustände evaluiert.\n",
    "\n",
    "Um dies jedoch nicht fest immer bis zu einer bestimmten Tiefe durchgehen zu lassen, sondern variabel anzupassen, je nachdem wie viele Züge von dem gegebenen Zustand aus möglich sind, kann ein Zeitlimit dienen. Dabei wird anfangs die Tiefe auf 1 gesetzt und dann mittels des Minimax-Algorithmus die Züge evaluiert. Danach wird die Tiefe um 1 erhöht und erneut der Minimax-Algorithmus angewandt. Dies wird solange wiederholt, bis die angegebene Zeit abgelaufen ist. Dieser Algorithmus nennt sich \"Iterative Deepening\". Nähere Informationen dazu sind in Kapitel INSERT aufgeführt. \n",
    "\n",
    "Dem Algorithmus muss dazu der aktuelle Zustand sowie eine maximale Tiefe mitgegeben werden. Ist diese erreicht bricht der Algorithmus ab, unabhängig davon, ob das Zeitlimit überschritten ist oder nicht. Zunächst müssen beim Ausführen einige Werte festgelegt werden. Der folgende Algorithmus zeigt, wie der Prozess des Iterative Deepening in der `player/ai.py` implementiert ist."
   ]
  },
  {
   "cell_type": "code",
   "execution_count": 25,
   "metadata": {},
   "outputs": [],
   "source": [
    "def iterative_deepening(board, max_depth, evaluation_func, evaluation_funcs_dict):\n",
    "    depth = 1\n",
    "\n",
    "    time_limit = get_timeout_by_dif(3)\n",
    "\n",
    "    start_time = int(time.time())\n",
    "    end_time = start_time + time_limit\n",
    "    current_time = start_time\n",
    "\n",
    "    player = bool(board.turn)\n",
    "    best_possible_result = get_best_possible_result(board, player)\n",
    "\n",
    "    legal_moves = list(board.legal_moves)\n",
    "    while current_time < end_time and depth <= max_depth:\n",
    "        move_val_dict = {}\n",
    "\n",
    "        best_value = float('-inf')\n",
    "        best_move = legal_moves[0]\n",
    "\n",
    "        for move in legal_moves:\n",
    "            tmp_board = chess.Board(str(board.fen()))\n",
    "            tmp_board.push(move)\n",
    "            value = min_value(str(tmp_board.fen()), player, float('-inf'), float('inf'), depth - 1, end_time, evaluation_func, best_possible_result, evaluation_funcs_dict)\n",
    "            if value is False:\n",
    "                value = float('-inf')\n",
    "            move_val_dict[move] = value\n",
    "            if value == MAX_BOARD_VALUE:\n",
    "                return move\n",
    "            if value > best_value:\n",
    "                best_value = value\n",
    "                best_move = move\n",
    "\n",
    "        legal_moves.sort(key=move_val_dict.get, reverse=True)\n",
    "        depth *= 2\n",
    "        current_time = int(time.time())\n",
    "\n",
    "    return best_move\n",
    "\n",
    "def get_timeout_by_dif(difficulty):\n",
    "    time_limit = {\n",
    "        1: 5,\n",
    "        2: 10,\n",
    "        3: 45\n",
    "    }\n",
    "    return time_limit.get(difficulty)"
   ]
  },
  {
   "cell_type": "markdown",
   "metadata": {},
   "source": [
    "Zunächst wird die Starttiefe auf 1 festgesetzt. Danach wird die Startzeit auf die aktuelle Zeit gesetzt und die Endzeit berechnet, indem auf die Startzeit das Zeitlimit addiert wird. Zudem wird der erste Wert für die aktuelle Zeit auf die Startzeit festgelegt.\n",
    "\n",
    "Anschließend wird für den Spieler, der aktuell am Zug ist, berechnet, was das bestmöglich zu erreichende Resultat ist. Dies wird mit der Funktion `get_best_possible_result` durchgeführt. Dies ist dazu gut, um finale Zustände dahingehend zu evaluieren, ob diese für den Nutzer die best mögliche Option ist (Sieg oder Unentschieden wenn Sieg nicht mehr möglich ist) und dementsprechend zu bewerten. Die Funktion sieht wie folgt aus."
   ]
  },
  {
   "cell_type": "code",
   "execution_count": 26,
   "metadata": {},
   "outputs": [],
   "source": [
    "def get_best_possible_result(board, player):\n",
    "    if player and board.has_insufficient_material(chess.WHITE):\n",
    "        return 0\n",
    "    if not player and board.has_insufficient_material(chess.BLACK):\n",
    "        return 0\n",
    "    if player and not board.has_insufficient_material(chess.WHITE):\n",
    "        return 1\n",
    "    if not player and not board.has_insufficient_material(chess.BLACK):\n",
    "        return -1"
   ]
  },
  {
   "cell_type": "markdown",
   "metadata": {},
   "source": [
    "Dabei muss der Funktion der aktuelle Zustand sowie der Spieler, der an der Reihe ist, mitgegeben werden. Ist der aktuelle Spieler der der weißen Figuren (player == True) und hat weiß unzureichende Materialien für einen Sieg, so ist der bestmögliche Zustand ein Patt. Das gleiche Ergebnis wird zurückgegeben, wenn der Spieler der der schwarzen Figuren ist (player == False) und schwarz unzureichende Materialien hat.\n",
    "\n",
    "Ist der Spieler jedoch weiß und er hat noch ausreichend Materialien, so wird der Wert 1 zurückgegeben, da ein Sieg noch erreichbar ist. Genauso wird für den schwarzen Spieler der Wert -1 zurückgegeben, falls er noch ausreichende Materialien besitzt, da dieser noch einen Sieg erreichen kann und der Wert -1 für einen Sieg von Schwarz steht.\n",
    "\n",
    "Nach dieser Abfrage wird der eigentliche Algorithmus des \"Iterative Deepening\" durchgeführt."
   ]
  },
  {
   "cell_type": "markdown",
   "metadata": {},
   "source": [
    "Dabei wird zunächst eine Liste aller legalen Züge erstellt. Dann wird eine Schleife so lange durchlaufen, bis entweder die Zeit abgelaufen ist oder aber die maximale Tiefe erreicht ist. \n",
    "\n",
    "In dieser Schleife wird ein Dictionary aller Züge mit ihren berechneten Werte erstellt. Zudem werden Anfangswerte für die besten Züge und dessen Wert festgelegt. Der Anfangswert des besten Zugs wird auf den ersten Zug festgesetzt. Der Wert dieses wird auf den Wert \"- Unendlich\" gesetzt.\n",
    "\n",
    "Nun wird über alle legalen Züge iteriert und für jeden Zug ein temporärer \"board\" angelegt, das erreichbaren Zustand widerspiegelt. Nun wird mittels des Minimax-Algorithmus der Wert dieses boards ermittelt. Dabei wird als Alpha \"- Unendlich\" und als Beta \"Unendlich\" mitgegeben. Was die Werte Alpha und Beta aussagen, wird im Kapitel INSERT beschrieben. Zudem wird die Tiefe auf einen Wert festgelegt, der um einen Wert geringer ist als die maximale Tiefe, da durch Aufruf der Funktion in die erste Tiefe hineingegangen wurde. Zudem wird die Zeit mitgegeben, zu der der Algorithmus enden muss, damit der Minimax Algorithmus dementsprechend endet und das Zeitlimit nicht überschreitet.\n",
    "\n",
    "Nachdem der Minimax-Algorithmus fertig durchlaufen ist, wird der Wert\n",
    "mit dem Zug zu dem Dictionary hinzugefügt. Dazu wird zuvor jedoch noch überprüft, ob der Wert 'False' zurückgegeben wurde. Ist dies der Fall, ist das Zeitlimit abgelaufen und der Zug somit ungültig. In dem Fall wird dem Zug der maximal schlechteste Wert zugewiesen. \n",
    "\n",
    "Gleicht der Wert ansonsten dem maximalen Wert für einen Zustand, ist also dementsprechend ein Sieg,\n",
    "wird der Zug direkt zurückgegeben, da mit diesem dann auf jeden Fall ein\n",
    "Sieg erreicht werden kann. Andernfalls wird der Wert verglichen, ob er\n",
    "besser ist als der aktuelle Wert. Ist dies der Fall, so wird der neue\n",
    "beste Wert auf den aktuell berechneten festgelegt, ebenso wie der beste\n",
    "Zug auf den der aktuellen Iteration gesetzt wird.\n",
    "\n",
    "Nachdem alle Züge durchlaufen wurden, wird die Liste aller legalen Züge an Hand der berechneten Werte sortiert, damit im nächsten Durchlauf die Züge in dieser Reihenfolge durchlaufen werden. Dies verbessert den Durchsatz beim Alpha Beta Pruning, wie in Kapitel INSERT beschrieben und garantiert zudem, dass der beste Wert der vergangenen Runde gewählt wird, falls der Minimax-Algorithmus beim Durchlaufen der nächst tieferen Tiefe das Zeitlimit erreicht, bevor die Runde komplett evaluiert werden konnte.\n",
    "\n",
    "Abschließend wird noch die Tiefe um 1 erhöht und die aktuelle Zeit auf die Systemzeit gesetzt, damit an Hand dieser entschieden werden kann, ob der Algorithmus noch weiter durchlaufen darf.\n",
    "\n",
    "Nachdem dann die Zeit abgelaufen ist und alle Züge in der für die angegebenen Zeit maximalen Tiefe evaluiert wurden, wird der best mögliche Zug zurückgegeben. Dieser wird dann von der KI ausgeführt."
   ]
  },
  {
   "cell_type": "markdown",
   "metadata": {},
   "source": [
    "# Implementierung des Minimax-Algorithmus mit Alpha-Beta-Pruning\n",
    "\n",
    "Um den bestmöglichen Zug zu erkennen, wird beim Minimax Algorithmus jeder Zug bis zu einer gewissen Tiefe betrachtet. Dabei wird unter der Prämisse gehandelt, dass auch der Gegner stets den besten Zug macht. Dies führt dazu, dass der bestmöglichste Zug ausgewählt wird (max), der erreichbar ist, wenn der Gegner mit dem für ihn jeweils besten Zug antwortet, der für den Spieler somit der schlechteste ist (min). Genauer ist dies in Kapitel INSERT erklärt.\n",
    "\n",
    "Die Umsetzung dabei erfolgt in zwei Funktionen - `min_value` und `max_value`. Auch diese sind direkt in der Datei `player/ai.py` vorzufinden. Erstere berechnet dabei den schlecht möglichsten Ausgang für den Spieler aus einer bestimmten Position, also den besten Ausgang für den Gegner. Letztere berechnet den best möglichsten Ausgang. Beide Funktionen sind sehr ähnlich aufgebaut und in folgendem Code-Snippet zu sehen."
   ]
  },
  {
   "cell_type": "code",
   "execution_count": 27,
   "metadata": {},
   "outputs": [],
   "source": [
    "def min_value(board_fen, player, alpha, beta, depth, time_limit, evaluation_func, best_possible_result, evaluation_funcs_dict):\n",
    "    board = chess.Board(board_fen)\n",
    "    v = float('inf')\n",
    "\n",
    "    if board.is_game_over() or depth == 0:\n",
    "        return evaluation_func(board, player, best_possible_result, evaluation_funcs_dict)\n",
    "    if int(time.time()) >= time_limit:\n",
    "        return False\n",
    "\n",
    "    for move in board.legal_moves:\n",
    "        tmp_board = chess.Board(board_fen)\n",
    "        tmp_board.push(move)\n",
    "\n",
    "        deeper_val = max_value(str(tmp_board.fen()), player, alpha, beta, depth -1, time_limit, evaluation_func, best_possible_result, evaluation_funcs_dict)\n",
    "        if deeper_val is False:\n",
    "            return False            \n",
    "        v = min(v, deeper_val)  \n",
    "\n",
    "        if v <= alpha:\n",
    "            return v\n",
    "        beta = min(beta, v)\n",
    "    return v"
   ]
  },
  {
   "cell_type": "markdown",
   "metadata": {},
   "source": [
    "Neben dem akteullen Zustand des Spiels in fen Notation und dem Spieler, für den es den Zustand zu evaluieren gilt, wird außerdem eine Tiefe sowie ein Zeitlimit mitgegeben sowie die Werte Alpha und Beta. Alpha und Beta sind dabei, wie in Kapitel INSERT erklärt, dazu da, um den Minimax-Algorithmus zu beschleunigen, indem nicht jeder mögliche Zustand betrachtet wird. Durch diese Werte fallen nämlich solche weg, die direkt als irrelevant betrachtet werden können, da ohnehin bereits ein besserrer (im Fall von `min_value`) bzw. schlechterer (im Fall von `max_value`) Wert gefunden wurde.\n",
    "\n",
    "Nachdem das Schachbrett über die FEN-Notation erstellt wurde, wird\n",
    "überprüft, ob das Spiel bereits vorbei ist oder die mitgegebene Tiefe\n",
    "auf 0 liegt. In beiden Fällen wird der aktuelle Zustand direkt evaluiert\n",
    "und zurückgegeben. Ansonsten wird geprüft, ob das übergebene Zeitlimit\n",
    "bereits erreicht wurde. In dem Fall wird der Wert 'False' \n",
    "zurückgegeben, damit dieser Zug später automatisch den maximal negativen Wert zugewiesen bekommen kann (siehe Iterative Deepening).\n",
    "\n",
    "Ist auch dies nicht der Fall, werden alle von dem gegebenen Zustand aus erreichbaren Zustände durchgegangen. Dazu wird zunächst ein temporäres Schachbrett - hier board - erstellt und der Zug auf diesem ausgeführt. Dies ist dann der neue, erreichbare Zustand. Dieser wird dann in die nächst tiefere Iteration gegeben, bei der nun der maximale Wert gesucht wird. Dabei wird auch der Spieler mitgegeben sowie die Werte Alpha und Beta und das Zeitlimit ebenso wie die um eins reduzierte Tiefe. Ist dabei ein Wert dabei, der kleiner ist als das aktuelle v, wird dieser Wert als das neue v genommen. Andernfalls bleibt v beim akteullen Wert.\n",
    "\n",
    "Anschließend wird überprüft, ob der Wert v kleiner ist als der aktuelle Alpha Wert. Ist dies der Fall, muss der Pfad keine weitere Beachtung finden und es kann direkt v zurück gegeben werden. ist dies nicht der Fall, so wird Beta auf v gesetzt, falls dieser Wert kleiner als das aktuelle Beta ist. Nach Durchgang aller legalen Züge wird dann der sich aus all diesen Iterationen ergebende Wert v zurück gegeben.\n",
    "\n",
    "Die `max_value` Funktion läuft similar ab, mit dem einzigen Unterschied, dass hier der maximale statt der minmale Wert gesucht wird und dementsprechend die Vergleiche sowie Startwerte angepasst sind. Außerdem gibt dieser bei der um eins tieferen Iteration in die `min_value` Funktion, an der Stelle, an der diese in die `max_value` Funktion gibt. Der restliche Aufbau bleibt unverändert."
   ]
  },
  {
   "cell_type": "code",
   "execution_count": 28,
   "metadata": {},
   "outputs": [],
   "source": [
    "def max_value(board_fen, player, alpha, beta, depth, time_limit, evaluation_func, best_possible_result, evaluation_funcs_dict):\n",
    "    board = chess.Board(board_fen)\n",
    "    v = float('-inf')\n",
    "\n",
    "    if board.is_game_over() or depth == 0:\n",
    "        return evaluation_func(board, player, best_possible_result, evaluation_funcs_dict)\n",
    "    if int(time.time()) >= time_limit:\n",
    "        return False\n",
    "\n",
    "    for move in board.legal_moves:\n",
    "        tmp_board = chess.Board(board_fen)\n",
    "        tmp_board.push(move)\n",
    "\n",
    "        deeper_val = min_value(str(tmp_board.fen()), player, alpha, beta, depth -1, time_limit, evaluation_func, best_possible_result, evaluation_funcs_dict)\n",
    "        if deeper_val is False:\n",
    "            return False\n",
    "        v = max(v, deeper_val)\n",
    "\n",
    "        if v >= beta:\n",
    "            return v\n",
    "        alpha = max(alpha, v)\n",
    "    return v"
   ]
  },
  {
   "cell_type": "markdown",
   "metadata": {},
   "source": [
    "Mit diesem Algorithmus wird ein Baum aus allen Pfaden erstellt, an Hand der der beste Zug ermittelt werden kann wie in Kapitel INSERT beschrieben. Da es sich jedoch nur selten um Endzustände handelt, für die eine Bewertung trivial erfolgen kann, ist eine Evaluierung der Zustände nötig. Diese wird im nächsten Kapitel beschrieben."
   ]
  },
  {
   "cell_type": "markdown",
   "metadata": {},
   "source": [
    "# Evaluierung eines gegebenen Schachbretts"
   ]
  },
  {
   "cell_type": "markdown",
   "metadata": {},
   "source": [
    "Um gegebene Zustände auch mitten im Spiel bewerten zu können, müssen diese an Hand bestimmter Kriterien bewertet werden können, die über Sieg oder Niederlage hinausgehen. Dazu gibt es verschiedene Ansätze, wie in Kapitel INSERT erläutert. Einige davon wurden im Laufe des Projektes umgesetzt und implementiert. Diese werden in diesem Kapitel erläutert. Zunächst jedoch gilt es aufzuzeigen, wie die Evaluierung der Zustände im generellen umgesetzt wird.\n",
    "\n",
    "Zunächst wird zum Evaluieren eines Zustandes jener Zustand sowie der Spieler, für den dieser zu evaluieren ist, in die Funktion `evaluate_board` gegeben, die die Evaluierung zentral verwaltet. Diese befindet sich in der `player/ai.py`. "
   ]
  },
  {
   "cell_type": "code",
   "execution_count": 29,
   "metadata": {},
   "outputs": [],
   "source": [
    "def evaluate_board(board, player, best_possible_result, evaluation_funcs_dict):\n",
    "    player_color = chess.WHITE if player else chess.BLACK\n",
    "\n",
    "    if board.is_game_over():\n",
    "        result = Tools.get_board_result(board)\n",
    "        if result is best_possible_result:\n",
    "            return MAX_BOARD_VALUE\n",
    "        if result is best_possible_result * -1:\n",
    "            return -1 * MAX_BOARD_VALUE\n",
    "\n",
    "    evaluation_val = 0\n",
    "    for func, value in evaluation_funcs_dict.items():\n",
    "        if value > 0:\n",
    "            evaluation_val = evaluation_val + value * func(board, player_color)\n",
    "    return evaluation_val"
   ]
  },
  {
   "cell_type": "markdown",
   "metadata": {},
   "source": [
    "Dabei wird zunächst an Hand des Spielers die Farbe dieses ermittelt, die später bei den einzelnen Evaluierungsfunktionen benötigt wird.\n",
    "\n",
    "Dann wird für den Fall, dass der gegebene Zustand einem Endzustand gleicht, das Ergebnis dieses ermittelt. Gleicht dieses dem bestmöglichen Ergebnis, dass mittels der `get_board_result` Funktion zuvor ermittelt wurde (siehe INSERT), so wird der maximale Wert (Unendlich) für den Zusand zurückgegeben. Ist das Ergebnis des übermittelten Zustands jedoch eine Niederlage, so wird der maximale Wert umgekehrt und zurückgegeben (minus Unendlich). \n",
    "\n",
    "Gleicht der Zustand keinem Endzustand, so werden bestimmte Evaluationsfunktionen durchlaufen und aufaddiert. Dazu startet der Wert bei 0 und für jede Evaluierungsfunktion wird das Ergebnis dieser multipliziert mit einem festgelegten Faktor zu dem Gesamtwert aufaddiert. Die Faktoren sowie die durchzuführenden Evaluierungsfunktionen sind dabei abhängig vom Schwierigkeitsgrad der KI sowie vom Spielstatus (Eröffnung, Mittelspiel, Endspiel).\n",
    "\n",
    "Dabei werden zur Performanz-Steigerung jedoch nur Evaluierungsfunktionen durchgegangen, dessen Faktor höher als 0 liegt. Der Grund dafür ist, dass bestimmte Funktionne je nach Spielstatus leichter aus der Evaluierung herausgenommen werden können, ohne, dass das gesamte Dictionary angepasst werden muss und zudem keine unnötige Rechenzeit durch Berechnung eines Werts benötigt wird, der im Endeffekt ohnehin nicht zum Evaluierungswert aufaddiert wird.\n",
    "\n",
    "Der daraus entstehende Evaluierungswert, der zurückgegeben wird, gibt einen guten Aufschluss über den Wert des aktuellen Zustands. Dazu werden verschiedene Evaluierungsfunktionen verwendet, wie in folgendem Abschnitt zu sehen ist. Diese befinden sich in der Datei `misc/ai_evaluation_lib.py`."
   ]
  },
  {
   "cell_type": "markdown",
   "metadata": {},
   "source": [
    "## Materialbewertung\n",
    "\n",
    "Eine zentrale sowie einfache Bewertung ist dabei die Bewertung der vorhandenen Materialien auf dem Spielfeld. Dabei werden alle Figuren der jeweiligen Spieler zusammengezählt und je nach Figur mit einem Wert multipliziert. \n",
    "\n",
    "Dabei ist zunächst jedem Figurentyp ein Wert zuzuweisen. Üblicherweise werden Bauern dabei 1 Punkt, Türmen 5 Punkte, Springern sowie Läufern jeweils 3 Punkte und der Dame 9 Punkte zugeordnet. Dies geschieht über die Funktion `assign_piece_value()`. Dabei wird der Typ angegeben und die Punkte zurückgegeben. Zusätzlich kann angegeben werden, ob auch der König einen Wert zugewiesen bekommen soll. Diese werden dann über die `map` Funktion nach Farbe in der `get_value_by_color` Funktion für alle auf den Feldern befindlichen Figuren zusammengerechnet."
   ]
  },
  {
   "cell_type": "code",
   "execution_count": 30,
   "metadata": {},
   "outputs": [],
   "source": [
    "PAWN_VALUE = 1\n",
    "ROOK_VALUE = 5\n",
    "KNIGHT_VALUE = 3\n",
    "BISHOP_VALUE = 3\n",
    "QUEEN_VALUE = 9\n",
    "KING_VALUE = 15\n",
    "\n",
    "def assign_piece_value(piece_type, count_king=True):\n",
    "    return {\n",
    "        1: PAWN_VALUE,\n",
    "        2: KNIGHT_VALUE,\n",
    "        3: BISHOP_VALUE,\n",
    "        4: ROOK_VALUE,\n",
    "        5: QUEEN_VALUE,\n",
    "        6: KING_VALUE if count_king else 0\n",
    "    }.get(piece_type, 0)\n",
    "\n",
    "\n",
    "def get_value_by_color(board, color, count_king=True):\n",
    "    pieces_value = map(\n",
    "        lambda piece_type: len(board.pieces(piece_type, color)) * assign_piece_value(piece_type, count_king), chess.PIECE_TYPES)\n",
    "    return sum(pieces_value)\n",
    "\n",
    "\n",
    "def get_board_value(board, color, count_king=True):\n",
    "    white_value = get_value_by_color(board, chess.WHITE, count_king)\n",
    "    black_value = get_value_by_color(board, chess.BLACK, count_king)\n",
    "\n",
    "    return white_value - black_value if color is chess.WHITE else black_value - white_value\n"
   ]
  },
  {
   "cell_type": "markdown",
   "metadata": {},
   "source": [
    "Um den Gesamtwert des Schachbretts zu berechnen muss zunächst der Wert aller weißer Figuren berechnet werden und von diesem der Wert aller schwarzen Figuren abgezogen werden. Je nach angegebenen Spieler wird für diesen ein positiver Wert zurückgegeben, wenn das Spiel zu dessen Gunsten verläuft und ein negativer, wenn dies nicht der Fall ist.\n",
    "\n",
    "Damit die Werte der Spieler berechnet werden können, wird die Anzahl aller Figurentypen der jeweiligen Farbe berechnet und diese mit dem Wert der Figurentypen multipliziert. Am Ende werden die Ergebnisse für alle Figurentypen zusammengezählt und zurückgegeben."
   ]
  },
  {
   "cell_type": "markdown",
   "metadata": {},
   "source": [
    "## Materialbewertung attackierter Figuren\n",
    "\n",
    "Die Berechnung der attackierten Figuren ist ähnlich zu dem Vorgehen bei der Berechnung des Brettwerts. Dabei werden erst die Werte, der vom weißen Spieler attackierten Figuren berechnet und davon die Werte der vom schwarzen Spieler attackierten Figuren abgezogen. Auch hierbei ist ein positives Ergebnis zum Vorteil des angegebenen Spielers und ein negativer Wert zum Vorteil des Gegenübers. Ebenso gilt umso höher der Wert, desto deutlicher der Vorteil."
   ]
  },
  {
   "cell_type": "code",
   "execution_count": 31,
   "metadata": {},
   "outputs": [],
   "source": [
    "def get_attacked_pieces_value_by_color(board, attacker_color, defender_color):\n",
    "    # filters squares for attacked squares, on which a figure of defender is placed\n",
    "    attacked_squares = filter(lambda square: board.is_attacked_by(attacker_color, square) and not board.piece_at(\n",
    "        square) is None and board.piece_at(square).color is defender_color, chess.SQUARES)\n",
    "    # maps piece type to attacked figure\n",
    "    attacked_pieces = map(lambda square: board.piece_at(square).piece_type, attacked_squares)\n",
    "    # maps piece value to attacked pieces\n",
    "    value = map(assign_piece_value, attacked_pieces)\n",
    "    # sums piece value of all attacked pieces\n",
    "    return sum(value)\n",
    "\n",
    "\n",
    "def get_attacked_pieces_value(board, color):\n",
    "    # factor for weakening value if opponet turn comes first\n",
    "    white_factor = 1 if bool(board.turn) else 1/2\n",
    "    black_factor = 1/2 if bool(board.turn) else 1\n",
    "    \n",
    "    white_value = white_factor * get_attacked_pieces_value_by_color(board, chess.WHITE, chess.BLACK)\n",
    "    black_value = black_factor * get_attacked_pieces_value_by_color(board, chess.BLACK, chess.WHITE)\n",
    "\n",
    "    return white_value - black_value if color is chess.WHITE else black_value - white_value"
   ]
  },
  {
   "cell_type": "markdown",
   "metadata": {},
   "source": [
    "Um diese Werte der attackierten Figuren zu berechnen wird jedes Feld durchgegangen. Daraus werden die Felder gefiltert, die von einer Figur der Farbe des Verteidigers belegt sind und von einer Figur der angreifenden Farbe attackiert werden können. Anschließend wird zu diesen Feldern der Typ der Figur zugeordnet, die sich auf dem Feld befindet. Daraufhin werden diesen ihre jeweiligen Werte zugeordnet und diese abschließend summiert."
   ]
  },
  {
   "cell_type": "markdown",
   "metadata": {},
   "source": [
    "## Positionsbewertung\n",
    "\n",
    "Um die Positionen der einzelnen Figuren zu bewerten, werden zunächst für jeden Figurentypen Matrizen benötigt, die über jedes Feld eine Aussage über den Wert der Position der Figur geben. Diese sind in Kapitel INSERT einsehbar. An Hand dieser Matrizen wird dann Aussage über den Wert getroffen."
   ]
  },
  {
   "cell_type": "markdown",
   "metadata": {},
   "source": [
    "Dabei wird zunächst jedes Feld auf dem Schachbrett durchgegangen und die darauf befindliche Figur berechnet. Dies wird mittels einer verschachtelten Schleife gelöst, die zunächst alle Reihen durchgeht und dann die einzelnen Felder in dieser Reihe."
   ]
  },
  {
   "cell_type": "code",
   "execution_count": 32,
   "metadata": {},
   "outputs": [],
   "source": [
    "import numpy as np\n",
    "\n",
    "PAWN_POSITION_MATRIX =      np.array(   [[0,0,0,0,0,0,0,0],\n",
    "                                        [50,50,50,50,50,50,50,50],\n",
    "                                        [10,10,20,30,30,20,10,10],\n",
    "                                        [5,5,10,25,25,10,5,5],\n",
    "                                        [0,0,0,20,20,0,0,0],\n",
    "                                        [5,-5,-10,0,0,-10,-5,5],\n",
    "                                        [5,10,10,-20,-20,10,10,5],\n",
    "                                        [0,0,0,0,0,0,0,0]])\n",
    "\n",
    "KNIGHT_POSITION_MATRIX =    np.array(   [[-50,-40,-30,-30,-30,-30,-40,-50],\n",
    "                                        [-40,-20,0,0,0,0,-20,-40],\n",
    "                                        [-30,0,10,15,15,10,0,-30],\n",
    "                                        [-30,5,15,20,20,15,5,-30],\n",
    "                                        [-30,0,15,20,20,15,0,-30],\n",
    "                                        [-30,5,10,15,15,10,5,-30],\n",
    "                                        [-40,-20,0,5,5,0,-20,-40],\n",
    "                                        [-50,-40,-30,-30,-30,-30,-40,-50]])\n",
    "\n",
    "BISHOP_POSITION_MATRIX =    np.array(   [[-20,-10,-10,-10,-10,-10,-10,-20],\n",
    "                                        [-10,0,0,0,0,0,0,-10],\n",
    "                                        [-10,0,5,10,10,5,0,-10],\n",
    "                                        [-10,5,5,10,10,5,5,-10],\n",
    "                                        [-10,0,10,10,10,10,0,-10],\n",
    "                                        [-10,10,10,10,10,10,10,-10],\n",
    "                                        [-10,5,0,0,0,0,5,-10],\n",
    "                                        [-20,-10,-10,-10,-10,-10,-10,-20]])\n",
    "\n",
    "ROOK_POSITION_MATRIX =      np.array(   [[0,0,0,0,0,0,0,0],\n",
    "                                        [5,10,10,10,10,10,10,5],\n",
    "                                        [-5,0,0,0,0,0,0,-5],\n",
    "                                        [-5,0,0,0,0,0,0,-5],\n",
    "                                        [-5,0,0,0,0,0,0,-5],\n",
    "                                        [-5,0,0,0,0,0,0,-5],\n",
    "                                        [-5,0,0,0,0,0,0,-5],\n",
    "                                        [0,0,0,5,5,0,0,0]])\n",
    "\n",
    "QUEEN_POSITION_MATRIX =     np.array(   [[-20,-10,-10,-5,-5,-10,-10,-20],\n",
    "                                        [-10,0,0,0,0,0,0,-10],\n",
    "                                        [-10,0,5,5,5,5,0,-10],\n",
    "                                        [-5,0,5,5,5,5,0,-5],\n",
    "                                        [0,0,5,5,5,5,0,-5],\n",
    "                                        [-10,5,5,5,5,5,0,-10],\n",
    "                                        [-10,0,5,0,0,0,0,-10],\n",
    "                                        [-20,-10,-10,-5,-5,-10,-10,-20]])\n",
    "\n",
    "KING_POSITION_MATRIX =      np.array(   [[-30,-40,-40,-50,-50,-40,-40,-30],\n",
    "                                        [-30,-40,-40,-50,-50,-40,-40,-30],\n",
    "                                        [-30,-40,-40,-50,-50,-40,-40,-30],\n",
    "                                        [-30,-40,-40,-50,-50,-40,-40,-30],\n",
    "                                        [-20,-30,-30,-40,-40,-30,-30,-20],\n",
    "                                        [-10,-20,-20,-20,-20,-20,-20,-10],\n",
    "                                        [20,20,0,0,0,0,20,20],\n",
    "                                        [20,30,10,0,0,10,30,20]])\n",
    "\n",
    "def assign_piece_matrix(piece_type):\n",
    "    return {\n",
    "        1: PAWN_POSITION_MATRIX,\n",
    "        2: KNIGHT_POSITION_MATRIX,\n",
    "        3: BISHOP_POSITION_MATRIX,\n",
    "        4: ROOK_POSITION_MATRIX,\n",
    "        5: QUEEN_POSITION_MATRIX,\n",
    "        6: KING_POSITION_MATRIX\n",
    "    }.get(piece_type, np.zeros((8,8)))\n",
    "\n",
    "def get_board_positions_value(board, color):\n",
    "    sum = 0\n",
    "    for rank in range(0,8):\n",
    "        for file in range(0,8):\n",
    "            piece = board.piece_at(chess.square(file, rank))\n",
    "            if (piece and piece.color == color):\n",
    "                piece_pos_value = get_position_value_by_square(board, rank, file, color)\n",
    "                sum += piece_pos_value\n",
    "    return sum / 100"
   ]
  },
  {
   "cell_type": "markdown",
   "metadata": {},
   "source": [
    "Nachdem die Figur ermittelt wurde wird diese, falls diese der angegebenen Farbe angehört, gemeinsam mit den Werten für Reihe und Spalte an die Funktion `get_position_value_by_square` übergeben. Nachdem diese den Wert zurückgegben hat wird dies zu der bisherigen Summe aufaddiert und am Ende die Summe aller Figuren geteilt durch 10 zurück gegeben. Der Divisor 10 rührt daher, dass die Positionen der einzelnen Figuren in dessen Matrizen recht hoch gewertet sind und somit insgesamt noch etwas abgeschwächt werden müssen, um die Funktion mit den restlichen Evaluierungsfunktionen ungefähr auf eine Bedeutungshöhe zu bringen.\n",
    "\n",
    "In der Funktion `get_position_value_by_square` wird mittels der Matrix der Wert der Figur an der gegebenen Position ermittelt."
   ]
  },
  {
   "cell_type": "code",
   "execution_count": 33,
   "metadata": {},
   "outputs": [],
   "source": [
    "def get_position_value_by_square(board, rank, file, color):\n",
    "    piece_type = board.piece_type_at(chess.square(file, rank))\n",
    "    piece_matrix = assign_piece_matrix(piece_type) if color == chess.BLACK else np.flip(assign_piece_matrix(piece_type))\n",
    "    piece_pos_value = piece_matrix[rank,file]\n",
    "    return piece_pos_value"
   ]
  },
  {
   "cell_type": "markdown",
   "metadata": {},
   "source": [
    "Dazu wird zunächst der Typ der Figur auf dem gegebenen Feld ermittelt. Dann wird die dazu passende Matrix bestimmt und entsprechend gespiegelt, falls die Farbe des angegebenen Spielers weiß sein sollte, damit die Matrix mit den Positionen aus der Sicht des Spielers übereinstimmt.\n",
    "\n",
    "Schlussendlich wird der Wert in der Matrix über die Reihe und Spalte ermittelt und zurück gegeben. \n",
    "\n",
    "Um die Positionen des Gegners zu berechnen, kann folgende Funktion dienen, die die angegebene Farbe invertiert und so den Wert der gegnerischen Positionen berechnen und zurückgeben kann."
   ]
  },
  {
   "cell_type": "code",
   "execution_count": 34,
   "metadata": {},
   "outputs": [],
   "source": [
    "def get_opp_board_positions_value(board, color):\n",
    "    opp_color = chess.WHITE if color is chess.BLACK else chess.BLACK\n",
    "    return -1 * get_board_positions_value(board, opp_color)"
   ]
  },
  {
   "cell_type": "markdown",
   "metadata": {},
   "source": [
    "## Königszonen-Sicherheit\n",
    "\n",
    "Ein weiterer, wichtiger Wert ist die Sicherheit des Königs bemessen an Hand der Figuren, die dessen Zone angreifen. \n",
    "\n",
    "Dazu wird diese Zone berechnet und dann alle Figuren, die diese Zone angreifen ermittelt. Mittels der in Kapitel INSERT vorgestellten Berechnung wird dann der Wert des Angriffs auf die Königszone berechnet. "
   ]
  },
  {
   "cell_type": "code",
   "execution_count": 35,
   "metadata": {},
   "outputs": [],
   "source": [
    "def calculate_king_zone_safety(board, color):\n",
    "    attacker_color = chess.WHITE if color == chess.BLACK else chess.BLACK\n",
    "    king_zone = calculate_king_zone(board, color)\n",
    "    attackers = get_attackers_by_squares(board, king_zone, attacker_color)\n",
    "    attack_weight = get_king_attack_weight(len(attackers))\n",
    "    value_of_attack = 0\n",
    "    for attacker in attackers:\n",
    "        value_of_attack += get_king_attack_constants(attacker.piece_type)\n",
    "    \n",
    "    return -1 * (value_of_attack * attack_weight) / 1000"
   ]
  },
  {
   "cell_type": "markdown",
   "metadata": {},
   "source": [
    "Dabei wird zuerst die Farbe des Angreifers berechnet, indem die gegebene Farbe umgekehrt wird. Danach wird mittels der Funktion `calculate_king_zone` die Königszone berechnet. Diese Funktion gibt eine Menge von Feldern zurück, die der Königszone angehören."
   ]
  },
  {
   "cell_type": "code",
   "execution_count": 36,
   "metadata": {},
   "outputs": [],
   "source": [
    "def calculate_king_zone(board, color):\n",
    "    king_zone = chess.SquareSet()\n",
    "    king_rank, king_file = get_piece_position(board, chess.Piece(chess.KING, color))\n",
    "\n",
    "    rank_range = range(0,4) if color == chess.WHITE else range(-3, 1)\n",
    "    for rank_summand in rank_range:\n",
    "        if (king_rank + rank_summand) in range(0, 8):\n",
    "            for file_summand in range(-1, 2):\n",
    "                if (king_file + file_summand) in range (0,8):\n",
    "                    king_zone.add(chess.square(king_file + file_summand, king_rank + rank_summand))\n",
    "    \n",
    "    return king_zone"
   ]
  },
  {
   "cell_type": "markdown",
   "metadata": {},
   "source": [
    "Um dies zu ermöglichen, wird zunächst die Position des Königs ermittelt. Dabei werden alle Felder durchgegangen bis der König der entsprechenden Farbe gefunden wurde. Dann wird Reihe sowie Spalte zurückgegeben:"
   ]
  },
  {
   "cell_type": "code",
   "execution_count": 37,
   "metadata": {},
   "outputs": [],
   "source": [
    "def get_piece_position(board, piece):\n",
    "    for rank in range(0,8):\n",
    "        for file in range(0,8):\n",
    "            if board.piece_at(chess.square(file, rank)) == piece:\n",
    "                return rank, file"
   ]
  },
  {
   "cell_type": "markdown",
   "metadata": {},
   "source": [
    "Nun werden alle Felder der Königszone einzeln durchgegangen und zu der Menge an Feldern hinzugeführt. Dabei werden bei den Spaltel alle Felder bis 3 Felder in Richtung des Gegners durchgegangen und für jede Spalte ein Feld links bis zu einem Feld rechts von dem König mitgezählt. Dabei wird zuvor jeweils überprüft, ob sich die Spalte beziehungsweise die Reihe noch au fdem Spielfeld befinden. Ist dies der Fall, wird das Feld der Menge hinzugefügt und diese wird am Ende zurück gegeben.\n",
    "\n",
    "Als nächstes wir dann für diese Menge an Feldern ermittelt, welche Figuren diese Felder angreifen. Dies wird mittels der `get_attackers_by_squares` Funktion durchgeführt."
   ]
  },
  {
   "cell_type": "code",
   "execution_count": 38,
   "metadata": {},
   "outputs": [],
   "source": [
    "def get_attackers_by_squares(board, square_set, attacker_color):\n",
    "    attacker_dict = {}\n",
    "    for square in square_set:\n",
    "        attacker_square_set = board.attackers(attacker_color, square)\n",
    "        for attacker_square in attacker_square_set:\n",
    "            attacker_piece = board.piece_at(attacker_square)\n",
    "            if not (attacker_piece.piece_type is chess.PAWN or attacker_piece.piece_type is chess.KING):\n",
    "                attacker_dict[attacker_piece] = attacker_dict.get(attacker_piece, 0) + 1\n",
    "    return attacker_dict"
   ]
  },
  {
   "cell_type": "markdown",
   "metadata": {},
   "source": [
    "Dabei wird jedes Feld einzeln durchgegangen und für alle jeweils eine Menge an Figuren erstellt, die dieses Feld angreifen. Alle Angriefer werden dann einzeln durchgegangen und dessen Figurentyp ermittelt. Wenn dies weder ein Bauer noch ein König ist, wird die Figur einem Dictionary von allen Angreifern hinzugefügt. Der Wert dieses Eintrags setzt sich aus der Anzahl zusammen, wie viele Felder von dieser Figur angegriffen werden. Dieses Dictionary wird nach Durchgang jedes Feldes zurückgegeben.\n",
    "\n",
    "Nachdem dieses Dictionary zurückgegeben wurde, wird die Gewichtung der Attacke ermittelt. Dabei wird die Anzahl der verschiedenen Figuren, die die Zone angreifen, zur Hilfe genommen und ein ensprechender Wert zurückgegeben, wie in Kapitel INSERT beschrieben."
   ]
  },
  {
   "cell_type": "code",
   "execution_count": 39,
   "metadata": {},
   "outputs": [],
   "source": [
    "def get_king_attack_weight(piece_counter):\n",
    "    return {\n",
    "        0: 0,\n",
    "        1: 0,\n",
    "        2: 50,\n",
    "        3: 75,\n",
    "        4: 88,\n",
    "        5: 94,\n",
    "        6: 97,\n",
    "        7: 99\n",
    "    }.get(piece_counter)\n",
    "\n",
    "def get_king_attack_constants(piece):\n",
    "    return {\n",
    "        chess.KNIGHT: 20,\n",
    "        chess.BISHOP: 20,\n",
    "        chess.ROOK: 40,\n",
    "        chess.QUEEN: 80\n",
    "    }.get(piece, 0)"
   ]
  },
  {
   "cell_type": "markdown",
   "metadata": {},
   "source": [
    "Abschließend wird für jeden Angreifer noch der Wert dieses ermittelt, wie ebenfalls in Kapitel INSERT beschrieben, und diese alle aufaddiert. Dieser Wird wird dann mit dem berechneten Gewicht multipliziert und durch 1000 dividiert. Das Ergebnis aus dieser Berechnung wird dann zurückgegeben und gibt einen Aufschluss über die Sicherheit des Königs. Dies kann auch für die Sicherheit des gegnerischen Königs angewandt werden, indem schlicht die Farbe des Angreifers auf die eigene Farbe gesetzt wird. Auch hier kann die Sicherheit des gegnerischen Königs berechnet werden, indem die Funktion ausgeführt wird, nachdem zuvor die angegebene Farbe invertiert wird."
   ]
  },
  {
   "cell_type": "code",
   "execution_count": 40,
   "metadata": {},
   "outputs": [],
   "source": [
    "def calculate_opp_king_zone_safety(board, color):\n",
    "    opp_color = chess.WHITE if color is chess.BLACK else chess.BLACK\n",
    "    return -1 * calculate_king_zone_safety(board, opp_color)"
   ]
  },
  {
   "cell_type": "markdown",
   "metadata": {},
   "source": [
    "## Mobilität\n",
    "\n",
    "Bei der Berechnung eines Wertes zur Mobilität wird dieser an Hand der Differenz der legalen Züge von Spieler schwarz und Spieler weiß festgemacht. Dazu wird zunächst überprüft, ob es überhaut möglich ist einen Zug auszuführen. Ist dies nicht der Fall ist sowohl die Anzahl der Züge des Spielers, der am Zug ist, als auch die des nachfolgenden Spielers 0. Andernfalls wird ein zufälliger (hier: der erste) legaler Zug ausgeführt und der Wert der legalen Züge von diesem berechnet. Dabei wird aus Performanz Gründen nicht der Durchschnitt aller möglchen Züge berechnet, sondenr ein zufälliger Wert. Andernfalls hätte diese einzelne Evaluierungsfunktion so viel Zeit in Anspruch genommen, dass die Gesamtzahl an evaluierbaren Zügen um knapp ein Zehntel sinkt. "
   ]
  },
  {
   "cell_type": "code",
   "execution_count": 41,
   "metadata": {},
   "outputs": [],
   "source": [
    "def get_num_of_legal_moves_by_color(board, color):\n",
    "    player = chess.WHITE if bool(board.turn) else chess.BLACK\n",
    "    if player == color or len(list(board.legal_moves)) is 0:\n",
    "        return len(list(board.legal_moves))\n",
    "    else:\n",
    "        overall_legal_moves = 0\n",
    "        for action in board.legal_moves:\n",
    "            tmp_board = chess.Board(str(board.fen()))\n",
    "            tmp_board.push(action)\n",
    "            overall_legal_moves += len(list(tmp_board.legal_moves))\n",
    "        return overall_legal_moves / len(list(board.legal_moves))\n",
    "    \n",
    "def calculate_mobility_value(board, color):\n",
    "    player = chess.WHITE if bool(board.turn) else chess.BLACK\n",
    "    current_turn_len = len(list(board.legal_moves))\n",
    "\n",
    "    if current_turn_len > 0:\n",
    "        tmp_board = chess.Board(str(board.fen()))\n",
    "        tmp_board.push(list(board.legal_moves)[0])\n",
    "        next_turn_len = len(list(tmp_board.legal_moves))\n",
    "    else:\n",
    "        next_turn_len = 0\n",
    "    \n",
    "    if player == color:\n",
    "        return (current_turn_len - next_turn_len) / 10\n",
    "    else:\n",
    "        return (next_turn_len - current_turn_len) / 10"
   ]
  },
  {
   "cell_type": "markdown",
   "metadata": {},
   "source": [
    "Abschließend wird die Differenz der Anzahl der legalen Züge vom aktuellen Spielzustand und des berechneten möglichen nächstne Zustandes berechnet und zurückgegeben. Dabei wird entweder ein positiver Wert zurückgegeben, wenn der aktuelle Spieler mehr Züge hat. Dies ist der Fall, wenn der Spieler, der aktuell an der Reihe ist, dem entspricht, aus dessen Sicht der Zustand evaluiert wird. Andernfalls wird ein Wert aus der Sicht des Spielers zurückgegeben, der als nächstes am Zug ist. So wird gewährleistet, dass das Ergebnis stets aus Sicht des Spielers berechnet wird, aus dessen Sicht der Zustand evaluiert werden soll."
   ]
  },
  {
   "cell_type": "markdown",
   "metadata": {},
   "source": [
    "## Bewertung an Hand angelegter Historie\n",
    "\n",
    "Besonders am Anfang des Spiels ist es oft unschlüssig, wie man ein Schachbrett bewerten kann, da noch sehr viele Optionen des Spielverlaufs offen sind. Dabei kann eine angelegte Historie helfen, die Aufschluss über Siegchancen geben kann. Wie eine solche Historie angelegt werden kann, wurde in Kapitel INSERT besprochen."
   ]
  },
  {
   "cell_type": "code",
   "execution_count": 42,
   "metadata": {},
   "outputs": [],
   "source": [
    "def get_board_value_by_history(board, color):\n",
    "    dataset = pd.read_csv(HISTORY_FILE_LOC)\n",
    "    row = dataset.loc[dataset['board'] == board.fen().split(\" \")[0]]\n",
    "    value = row['value'].item() if len(row['value']) == 1 else 0\n",
    "    return value if color is chess.WHITE else -1*value"
   ]
  },
  {
   "cell_type": "markdown",
   "metadata": {},
   "source": [
    "Abgefragt werden kann diese, indem zunächst die Daten aus der Datei geladen werden. Dann wird die Reihe abstrahiert, dessen Wert in der Spalte \"board\" dem mitgegebenen Zustand (in fen Notation konvertiert) gleicht. Dazu wird der entsprechende Wert ausgelesen und zurückgegeben. Beim Zurückgeben wird der Wert noch negiert, falls der angegebene Spieler der der schwarzen Figuren ist, da in der Historie die Werte aus Sicht des Spielers der weißen Figuren gespeichert wird."
   ]
  },
  {
   "cell_type": "markdown",
   "metadata": {},
   "source": [
    "# Ausgabe des Schachbretts und Eingabe von Schachzügen\n",
    "Nachdem die Schach-KI bereits Berechnungen durchführen und somit auf Schachzüge reagieren kann ist die Visualisierung des Spielverlaufs ein essenzieller Bestandteil, wenn ein Spieler mit der KI spielen soll. Dabei hat die Visualisierung einerseits die Aufgabe die aktuelle Spielsituation zu illustrieren, als auch andererseits die vom Spieler gewählten Züge entgegenzunehmen. \n",
    "\n",
    "In Kapitel INSERT sind die Kriterien für diese wissenschaftliche Arbeit aufgelistet und ein wichtiger Aspekt dabei ist die Visualisierung des Spiels mittels ASCII-Zeichen in der Konsole. Damit das Schachbrett angezeigt werden kann werden zwei verschiedene Bibliotheken benötigt.\n",
    "\n",
    "`sty` ist eine Python Bibliothek, die die Hintergrund- und Schriftfarbe in der Konsole für einzelne Zeichen angeben kann. Hierbei unterstützt die Bibliothek verschiedene 24bit Farben, die eine optimale Auswahl an Farben für das Schachbrett garantieren. Eine Hürde bei der Umsetzung ist, dass Microsoft Windows Betriebssysteme aktuell Probleme mit der Visualisierung und der Verwendung dieses Moduls hat. Um jedoch trotzdem ein Schachbrett mit unterschiedlich farbigen Feldern und Figuren, die sich von dem Hintergrund der Konsole abheben, garantieren zu können wird die Bibliothek `colorama` benötigt. \n",
    "\n",
    "`colorama` ist ebenfalls eine Python Bibliothek, mittels der Hintergrund- und Schriftfarbe angegeben werden kann. Jedoch ist der Farbraum auf acht verschiedene Farben begrenzt und bietet somit im Gegensatz zu `sty`, bei der Bibliothek 16.777.216 verschiedene Farben verfügbar sind, eine weniger gut unterscheidbare Farbpalette für die Visualisierung des Schachbretts.\n",
    "\n",
    "Aus der Bibliothek `sty` muss `fg` für die Darstellung der Schriftfarbe, `bg` für die Darstellung der Hintergrundfarbe und `rs` importiert werden. `rs` wird benötigt um die Farben nach Verwendung wieder auf die Standardfarben der Konsole zu setzen.\n",
    "\n",
    "Hingegen muss aus der Bibliothek `colorama` die Funktion `init` importiert werden, die speziell für die Visualisierung der Farben auf Mircrosoft Windows Betriebssystemen benötigt wird. Dabei filtert die Funktion `init` die ANSI Zeichenketten, da diese von Microsoft Windows Produkten nicht untertstütz wird und ersetzt diese durch die äquivalenten Windows Befehle.\n",
    "\n",
    "Ebenfalls wird aus `colorama` die Unterstützung für die Veränderung von Schrift- und Hintergrundfarben `Fore`/`Back` importiert."
   ]
  },
  {
   "cell_type": "code",
   "execution_count": 43,
   "metadata": {},
   "outputs": [
    {
     "ename": "ModuleNotFoundError",
     "evalue": "No module named 'sty'",
     "output_type": "error",
     "traceback": [
      "\u001b[0;31m---------------------------------------------------------------------------\u001b[0m",
      "\u001b[0;31mModuleNotFoundError\u001b[0m                       Traceback (most recent call last)",
      "\u001b[0;32m<ipython-input-43-dc3f60b2986b>\u001b[0m in \u001b[0;36m<module>\u001b[0;34m\u001b[0m\n\u001b[0;32m----> 1\u001b[0;31m \u001b[0;32mfrom\u001b[0m \u001b[0msty\u001b[0m \u001b[0;32mimport\u001b[0m \u001b[0mfg\u001b[0m\u001b[0;34m,\u001b[0m \u001b[0mbg\u001b[0m\u001b[0;34m,\u001b[0m \u001b[0mrs\u001b[0m\u001b[0;34m\u001b[0m\u001b[0;34m\u001b[0m\u001b[0m\n\u001b[0m\u001b[1;32m      2\u001b[0m \u001b[0;32mfrom\u001b[0m \u001b[0mcolorama\u001b[0m \u001b[0;32mimport\u001b[0m \u001b[0minit\u001b[0m\u001b[0;34m\u001b[0m\u001b[0;34m\u001b[0m\u001b[0m\n\u001b[1;32m      3\u001b[0m \u001b[0;32mfrom\u001b[0m \u001b[0mcolorama\u001b[0m \u001b[0;32mimport\u001b[0m \u001b[0mFore\u001b[0m\u001b[0;34m,\u001b[0m \u001b[0mBack\u001b[0m\u001b[0;34m\u001b[0m\u001b[0;34m\u001b[0m\u001b[0m\n",
      "\u001b[0;31mModuleNotFoundError\u001b[0m: No module named 'sty'"
     ]
    }
   ],
   "source": [
    "from sty import fg, bg, rs\n",
    "from colorama import init\n",
    "from colorama import Fore, Back"
   ]
  },
  {
   "cell_type": "markdown",
   "metadata": {},
   "source": [
    "Neben dem Import der benötigten Module werden Konstanten definiert, die im weiteren Verlauf der Visualisierung mehrfach benötigt werden. Hierunter fällt die Definition der Hintergrund- und Schriftfarben für `sty` und `colorama` und eine Liste, die alle benötigten Buchstaben eines Schachbretts enthält, die zur Benennung der X-Achse benötigt werden. Ebenfalls werden drei Konstanten definiert, die eine Anweisung für den Nutzer enthalten und zu einem passenden Zeitpunkt ausgegeben werden, wie bspw. die Eingabe des zu verwendenden Zuges des Nutzers."
   ]
  },
  {
   "cell_type": "code",
   "execution_count": 44,
   "metadata": {},
   "outputs": [
    {
     "ename": "NameError",
     "evalue": "name 'fg' is not defined",
     "output_type": "error",
     "traceback": [
      "\u001b[0;31m---------------------------------------------------------------------------\u001b[0m",
      "\u001b[0;31mNameError\u001b[0m                                 Traceback (most recent call last)",
      "\u001b[0;32m<ipython-input-44-2d2ade95494d>\u001b[0m in \u001b[0;36m<module>\u001b[0;34m\u001b[0m\n\u001b[0;32m----> 1\u001b[0;31m \u001b[0mFG_BLACK\u001b[0m \u001b[0;34m=\u001b[0m \u001b[0mfg\u001b[0m\u001b[0;34m(\u001b[0m\u001b[0;36m0\u001b[0m\u001b[0;34m,\u001b[0m \u001b[0;36m0\u001b[0m\u001b[0;34m,\u001b[0m \u001b[0;36m0\u001b[0m\u001b[0;34m)\u001b[0m\u001b[0;34m\u001b[0m\u001b[0;34m\u001b[0m\u001b[0m\n\u001b[0m\u001b[1;32m      2\u001b[0m \u001b[0mFG_WHITE\u001b[0m \u001b[0;34m=\u001b[0m \u001b[0mfg\u001b[0m\u001b[0;34m(\u001b[0m\u001b[0;36m255\u001b[0m\u001b[0;34m,\u001b[0m \u001b[0;36m255\u001b[0m\u001b[0;34m,\u001b[0m\u001b[0;36m255\u001b[0m\u001b[0;34m)\u001b[0m\u001b[0;34m\u001b[0m\u001b[0;34m\u001b[0m\u001b[0m\n\u001b[1;32m      3\u001b[0m \u001b[0mBG_BLACK\u001b[0m \u001b[0;34m=\u001b[0m \u001b[0mbg\u001b[0m\u001b[0;34m(\u001b[0m\u001b[0;36m222\u001b[0m\u001b[0;34m,\u001b[0m \u001b[0;36m184\u001b[0m\u001b[0;34m,\u001b[0m \u001b[0;36m135\u001b[0m\u001b[0;34m)\u001b[0m\u001b[0;34m\u001b[0m\u001b[0;34m\u001b[0m\u001b[0m\n\u001b[1;32m      4\u001b[0m \u001b[0mBG_WHITE\u001b[0m \u001b[0;34m=\u001b[0m \u001b[0mbg\u001b[0m\u001b[0;34m(\u001b[0m\u001b[0;36m211\u001b[0m\u001b[0;34m,\u001b[0m \u001b[0;36m211\u001b[0m\u001b[0;34m,\u001b[0m \u001b[0;36m211\u001b[0m\u001b[0;34m)\u001b[0m\u001b[0;34m\u001b[0m\u001b[0;34m\u001b[0m\u001b[0m\n\u001b[1;32m      5\u001b[0m \u001b[0;34m\u001b[0m\u001b[0m\n",
      "\u001b[0;31mNameError\u001b[0m: name 'fg' is not defined"
     ]
    }
   ],
   "source": [
    "FG_BLACK = fg(0, 0, 0)\n",
    "FG_WHITE = fg(255, 255,255)\n",
    "BG_BLACK = bg(222, 184, 135)\n",
    "BG_WHITE = bg(211, 211, 211)\n",
    "\n",
    "FG_BLACK_WIN = Fore.BLACK\n",
    "FG_WHITE_WIN = Fore.RED\n",
    "BG_BLACK_WIN = Back.YELLOW\n",
    "BG_WHITE_WIN = Back.GREEN\n",
    "\n",
    "NUM_TO_ALPHABET = [\" \",\"A\", \"B\", \"C\", \"D\", \"E\", \"F\", \"G\", \"H\"]\n",
    "\n",
    "ASK_FOR_MOVE_MESSAGE = \"Possible Moves: {}\\nEnter your move: \"\n",
    "WRONG_INPUT_MESSAGE = \"Given move not in legal moves. Please repeat\"\n",
    "PLAYER_TURN_MESSAGE = \"\\n\\nIt's {}'s turn: \""
   ]
  },
  {
   "cell_type": "markdown",
   "metadata": {},
   "source": [
    "Damit die Schach-KI die Ausgabe je nach Betriebssystem ändern kann muss erst ermittelt werden, ob der Nutzer ein Microsoft Produkt nutzt, oder nicht. Dafür wird eine Funktion `os_is_windows` definiert, die als Rückgabewert ein Boolean-Wert gibt, ob es sich um ein Windows handelt, oder nicht."
   ]
  },
  {
   "cell_type": "code",
   "execution_count": 45,
   "metadata": {},
   "outputs": [],
   "source": [
    "def os_is_windows(self):\n",
    "        return {\n",
    "            'linux1' : False,\n",
    "            'linux2' : False,\n",
    "            'darwin' : False,\n",
    "            'win32' : True\n",
    "        }[sys.platform]"
   ]
  },
  {
   "cell_type": "markdown",
   "metadata": {},
   "source": [
    "Verwendet wird die Funktion `os_is_windows` in `ensure_windows_compability`, die die Aufgabe hat die `colorama` Funktion `init()` zu verwenden, wenn es sich um ein Microsoft Betriebssystem handelt. Die Funktion `init` bekommt in diesem Fall den speziellen Übergabewert `autoreset=True`, der dafür zuständig ist die Schrift- und Hintergrundfarbe nach Verwendung von `colorama` auf die ursprüngliche zu stellen.\n",
    "\n",
    "Die Funktion `ensure_windows_compability` gibt den Boolean-Wert, ob es sich um ein Microsoft Betriebssystem handelt zurück."
   ]
  },
  {
   "cell_type": "code",
   "execution_count": 46,
   "metadata": {},
   "outputs": [],
   "source": [
    "def ensure_windows_compability(self):\n",
    "        os_windows = self.os_is_windows()\n",
    "        if os_windows:\n",
    "            init(autoreset=True)\n",
    "        return os_windows"
   ]
  },
  {
   "cell_type": "markdown",
   "metadata": {},
   "source": [
    "Die zuletzt eingeführten Funktionen werden von dem Programm im Konstruktor aufgerufen und der Boolean-Wert der Variable `need_win_support` zugewiesen. Diese Variable wird im späteren Verlauf der Visualisierung benötigt um entscheiden zu können, ob das Modul `sty` oder `colorama` genutzt werden soll."
   ]
  },
  {
   "cell_type": "markdown",
   "metadata": {},
   "source": [
    "Damit der Nutzer der Schach-KI schnell erkennen kann welche Figur sich auf welchem Feld befindet wird in der Visualisierung auf der X-Achse die Buchstaben A bis H angegeben. Zur Ausgabe dieser Zeichen wird die Funktion `print_alphabetical_description` verwendet, die mittels einer for-Schleife von 0 bis einschließlich 8 iteriert und nacheinander die Zeichen aus der `NUM_TO_ALPHABET` Konstante ausgibt.\n",
    "\n",
    "Das erste Zeichen, das ausgegeben wird ist ein Leerzeichen, da das Schachbrett zur besseren Navigation neben den Buchstaben auch Zahlen enthalten soll und somit diese erste Spalte nicht das Schachbrett, sondern die Zahlen sind.\n",
    "\n",
    "Die Python `print` Funktion wird während der gesamten Ausgabe des Schachbretts mit zusätzlichen Parametern ausgestattet, die den Inhalt zentrieren und diesem eine bestimmte Breite zuweisen. Ebenfalls ist es in Python 3 Standard, dass nach der `print` Funktion eine neue Zeile gestartet wird, dies wird mittels `end=''` umgangen, da das Schachbrett nicht jedes Feld in einer neuen Zeile besitzen soll."
   ]
  },
  {
   "cell_type": "code",
   "execution_count": 47,
   "metadata": {},
   "outputs": [],
   "source": [
    "def print_alphabetical_description(self):\n",
    "        for i in range(0,9):\n",
    "            print(NUM_TO_ALPHABET[i].center(3), end='')\n",
    "        print(\"\\n\", end='')"
   ]
  },
  {
   "cell_type": "markdown",
   "metadata": {},
   "source": [
    "Um das Schachbrett besser ausgeben und Farben zuordnen zu können wird es in eine Matrix umgewandelt. Die Formatierung in eine Matrix wird in der Funktion `create_board_matrix(self, board)` umgesetzt, die als Übergabewert die aktuelle Spielsituation erhält. \n",
    "\n",
    "Aus dem Schachbrett wird mittels der Funktion `fen()` die aktuelle Schachsituation als Zeichenkette exportiert. Hierbei muss darauf geachtet werden, dass nur der erste Teil der Zeichenkette beachtet wird und nicht zusätzliche Informationen, wie bspw. die Partei, die am Zug ist, exportiert wird.\n",
    "\n",
    "Da das Board als Zeichenkette bspw. `8/2K5/4B3/3N4/8/8/4k3/8` so aussehen kann und die Informationen einer Zeile durch ein `/` voneinander getrennt sind, wird in einer for-Schleife pro Iteration die Informationen bis zum nächsten `/` ausgelesen. Daraufhin wird für jedes Element dieser Informationen überprüft, ob es sich um eine Zahl oder einen Buchstaben handelt. Sollte es sich um eine Zahl handeln, dann ist dies die Anzahl der freien Felder bis zum nächsten Zeichen oder der nächsten Zeile. Für jede Zahl wird ein Leerzeichen pro Höhe der Zahl zu einer Liste `line` hinzugefügt. Handelt es sich um keine Zahl, sondern um einen Buchstaben, dann ist dies eine Figur und diese wird ebenfalls zur Liste `line` hinzugefügt.\n",
    "\n",
    "Nach jeder Zeile wird die Liste `line` zu einer weiteren Liste `board_matrix` hinzugefügt, die nach Abschluss der Funktion `create_board_matrix` zurückgegeben wird."
   ]
  },
  {
   "cell_type": "code",
   "execution_count": 48,
   "metadata": {},
   "outputs": [],
   "source": [
    "def create_board_matrix(self, board):\n",
    "        board_fen = board.fen().split(\" \")[0]\n",
    "        board_matrix = []\n",
    "        for row in board_fen.split(\"/\"):\n",
    "            line = []\n",
    "            for character in row:\n",
    "                if character.isdigit():\n",
    "                    for empty in range(int(character)):\n",
    "                        line.append(\" \")\n",
    "                else: \n",
    "                    line.append(character)\n",
    "            board_matrix.append(line)\n",
    "        return board_matrix"
   ]
  },
  {
   "cell_type": "markdown",
   "metadata": {},
   "source": [
    "Zur optimalen Visualisierung des Schachbretts müssen die Buchstaben, die eine Figur beschreiben, in ein Zeichen wie bspw. ♔ gewandelt werden. Für diese Umsetzung wird die Funktion `piece_switcher(self, piece)` benötigt, die anhand der übergebenen Buchstaben die Figur als Unicode-Zeichen zurückgibt."
   ]
  },
  {
   "cell_type": "code",
   "execution_count": 49,
   "metadata": {},
   "outputs": [],
   "source": [
    "def piece_switcher(self, piece):\n",
    "        return {\n",
    "            \"K\": u'\\u2654',\n",
    "            \"Q\": u'\\u2655',\n",
    "            \"R\": u'\\u2656',\n",
    "            \"B\": u'\\u2657',\n",
    "            \"N\": u'\\u2658',\n",
    "            \"P\": u'\\u2659',\n",
    "            \"k\": u'\\u265A',\n",
    "            \"q\": u'\\u265B',\n",
    "            \"r\": u'\\u265C',\n",
    "            \"b\": u'\\u265D',\n",
    "            \"n\": u'\\u265E',\n",
    "            \"p\": u'\\u265F'\n",
    "        }.get(piece, piece)"
   ]
  },
  {
   "cell_type": "markdown",
   "metadata": {},
   "source": [
    "Für die Ausgabe eines Feldes und dessen Farben ist die Funktion `create_piece(self, character, field_is_dark)` zuständig, die die Schachfigur als Buchstaben und einen booleschen Wert, ob das zu erzeugenden Feld dunkel oder hell sein muss, übergeben bekommt.\n",
    "\n",
    "Zu Beginn wird mittels des Buchstabens das passende Zeichen ausgewählt und je nachdem, ob der Buchstaben groß oder klein geschrieben ist eine andere Schriftfarbe zugeordnet. Die weißen Figuren werden als Groß- und die schwarzen als Kleinbuchstaben geschrieben.\n",
    "\n",
    "Daraufhin wird der Figur je nach dem Wert der Variable `field_is_dark` eine Hintergrundfarbe zugewiesen und dies zurückgegeben.\n",
    "\n",
    "Da jedoch Microsoft Windows kein Unicode in Konsolen unterstützt, wird bei Nutzern dieses Betriebssystems nur die Buchstaben ausgegeben. Die Implementierung dieser Windows-Spezifikation wird innerhalb der Funktion `create_piece_win(self, character, field_is_dark)` umgesetzt, die analog zu der vorgestellten ist, jedoch sich in dem Punkt unterscheidet, dass das Modul `colorama` verwendet wird und kein Unicode-Zeichen ausgegeben wird, sondern der übergebene Buchstabe."
   ]
  },
  {
   "cell_type": "code",
   "execution_count": 50,
   "metadata": {},
   "outputs": [],
   "source": [
    "def create_piece(self, character, field_is_dark):\n",
    "        chess_piece = str(self.piece_switcher(character))\n",
    "        chess_piece_color = FG_BLACK if character.isupper() else FG_WHITE\n",
    "        colored_chess_piece = chess_piece_color + chess_piece.center(3) + fg.rs\n",
    "        background_color = BG_BLACK if field_is_dark is False else BG_WHITE\n",
    "        field = background_color + colored_chess_piece + bg.rs\n",
    "        return field"
   ]
  },
  {
   "cell_type": "markdown",
   "metadata": {},
   "source": [
    "Zur Koordination dieser vorgestellten Funktionen und somit der Ausgabe des Schachbretts wird die Funktion `print_board(self, player_name, board)` verwendet. Dabei wird zuerst die Konstante `PLAYER_TURN_MESSAGE` mit dem passenden Spielername ausgegeben und daraufhin die Matrix des Schachbretts berechnet.\n",
    "\n",
    "Daraufhin werden die Buchstaben der x-Achse des Schachbretts ausgegeben und darauf eine for-Schleife verwendet, die aus der Anzahl der vorhandenen Spalten iteriert. Innerhalb dieser Schleife wird jeweils zu Beginn einer Zeile die aktuelle y-Achsen Zahl ausgegeben und daraufhin eine neue for-Schleife gestartet, die berechnet, ob das Feld dunkel oder hell sein muss. Ebenfalls wird in dieser zweiten for-Schleife Gebrauch von der Funktion `create_piece` gemacht und die Schachfigur ausgegeben. Am Ende jeder Zeile wird, analog zum Beginn einer Zeile, die y-Achsen Zahl ausgegeben.\n",
    "\n",
    "Nachdem alle Zeilen ausgegeben wurden, wird erneut die x-Achsen Beschreibung der Konsole übermittelt."
   ]
  },
  {
   "cell_type": "code",
   "execution_count": 51,
   "metadata": {},
   "outputs": [],
   "source": [
    "def print_board(self, player_name, board):\n",
    "        super().print_board(player_name, board)\n",
    "        print(PLAYER_TURN_MESSAGE.format(player_name))\n",
    "        board_matrix = self.create_board_matrix(board)\n",
    "        self.print_alphabetical_description()\n",
    "        for row_index, row in enumerate(board_matrix):\n",
    "            print((str(8 - row_index)).center(3), end=\"\")\n",
    "            for field_index, field in enumerate(row):\n",
    "                field_is_dark = bool((field_index + row_index)% 2)\n",
    "                colored_field = self.create_piece(field, field_is_dark) if not self.need_win_support else self.create_piece_win(field, field_is_dark)\n",
    "                print(colored_field, end='')\n",
    "            print((str(8 - row_index)).center(3))\n",
    "        self.print_alphabetical_description()"
   ]
  },
  {
   "cell_type": "markdown",
   "metadata": {},
   "source": [
    "# Starten des Spiels im Jupyter Notebook\n",
    "\n",
    "Um das Spiel auch im Jupyter Notebook starten zu können ist hier eine\n",
    "vereinfachte Variante des \\texttt{chess\\_master} vorzufinden. Dabei\n",
    "werden keine Spieler dynamisch erstellt, sondern abwechselnd der Nutzer und die KI nach einem Zug gefragt.\n",
    "\n",
    "Zum Ausgeben des aktuellen Zustands ist hier außerdem noch eine Funktion zu sehen, mittels der die Schachbretter als SVG im Jupyter Notebook ausgegeben werden können."
   ]
  },
  {
   "cell_type": "code",
   "execution_count": 52,
   "metadata": {},
   "outputs": [],
   "source": [
    "from IPython.display import SVG, display\n",
    "\n",
    "def print_board_svg(board):\n",
    "    display(SVG(chess.svg.board(board=board)))"
   ]
  },
  {
   "cell_type": "markdown",
   "metadata": {},
   "source": [
    "Im vereinfachten Verwalter des Spiels wird auf ein Anlegen und Verwalten der Spielhistorie verzichtet. Stattdessen wird nach Erstellen des Spiels zunächst der Spieler nach seinem nächsten Zug gefragt und im nächsten Zug die KI aufgefordert einen zu berechnen. Danach wird der Zug zu dem board hinzugefügt und im nächsten Durchlauf wieder ausgegeben. Dies wird solange wiederholt bis das Spiel vorüber ist. Dazu sind zunächst noch alle nötigen Importe für das Spiel aufzulisten."
   ]
  },
  {
   "cell_type": "code",
   "execution_count": null,
   "metadata": {
    "scrolled": false
   },
   "outputs": [
    {
     "data": {
      "image/svg+xml": [
       "<svg version=\"1.1\" viewBox=\"0 0 400 400\" xmlns=\"http://www.w3.org/2000/svg\" xmlns:xlink=\"http://www.w3.org/1999/xlink\"><defs><g class=\"white pawn\" id=\"white-pawn\"><path d=\"M22 9c-2.21 0-4 1.79-4 4 0 .89.29 1.71.78 2.38-1.95 1.12-3.28 3.21-3.28 5.62 0 2.03.94 3.84 2.41 5.03-3 1.06-7.41 5.55-7.41 13.47h23c0-7.92-4.41-12.41-7.41-13.47 1.47-1.19 2.41-3 2.41-5.03 0-2.41-1.33-4.5-3.28-5.62.49-.67.78-1.49.78-2.38 0-2.21-1.79-4-4-4z\" fill=\"#fff\" stroke=\"#000\" stroke-linecap=\"round\" stroke-width=\"1.5\"/></g><g class=\"white knight\" fill=\"none\" fill-rule=\"evenodd\" id=\"white-knight\" stroke=\"#000\" stroke-linecap=\"round\" stroke-linejoin=\"round\" stroke-width=\"1.5\"><path d=\"M 22,10 C 32.5,11 38.5,18 38,39 L 15,39 C 15,30 25,32.5 23,18\" style=\"fill:#ffffff; stroke:#000000;\"/><path d=\"M 24,18 C 24.38,20.91 18.45,25.37 16,27 C 13,29 13.18,31.34 11,31 C 9.958,30.06 12.41,27.96 11,28 C 10,28 11.19,29.23 10,30 C 9,30 5.997,31 6,26 C 6,24 12,14 12,14 C 12,14 13.89,12.1 14,10.5 C 13.27,9.506 13.5,8.5 13.5,7.5 C 14.5,6.5 16.5,10 16.5,10 L 18.5,10 C 18.5,10 19.28,8.008 21,7 C 22,7 22,10 22,10\" style=\"fill:#ffffff; stroke:#000000;\"/><path d=\"M 9.5 25.5 A 0.5 0.5 0 1 1 8.5,25.5 A 0.5 0.5 0 1 1 9.5 25.5 z\" style=\"fill:#000000; stroke:#000000;\"/><path d=\"M 15 15.5 A 0.5 1.5 0 1 1 14,15.5 A 0.5 1.5 0 1 1 15 15.5 z\" style=\"fill:#000000; stroke:#000000;\" transform=\"matrix(0.866,0.5,-0.5,0.866,9.693,-5.173)\"/></g><g class=\"white bishop\" fill=\"none\" fill-rule=\"evenodd\" id=\"white-bishop\" stroke=\"#000\" stroke-linecap=\"round\" stroke-linejoin=\"round\" stroke-width=\"1.5\"><g fill=\"#fff\" stroke-linecap=\"butt\"><path d=\"M9 36c3.39-.97 10.11.43 13.5-2 3.39 2.43 10.11 1.03 13.5 2 0 0 1.65.54 3 2-.68.97-1.65.99-3 .5-3.39-.97-10.11.46-13.5-1-3.39 1.46-10.11.03-13.5 1-1.354.49-2.323.47-3-.5 1.354-1.94 3-2 3-2zM15 32c2.5 2.5 12.5 2.5 15 0 .5-1.5 0-2 0-2 0-2.5-2.5-4-2.5-4 5.5-1.5 6-11.5-5-15.5-11 4-10.5 14-5 15.5 0 0-2.5 1.5-2.5 4 0 0-.5.5 0 2zM25 8a2.5 2.5 0 1 1-5 0 2.5 2.5 0 1 1 5 0z\"/></g><path d=\"M17.5 26h10M15 30h15m-7.5-14.5v5M20 18h5\" stroke-linejoin=\"miter\"/></g><g class=\"white rook\" fill=\"#fff\" fill-rule=\"evenodd\" id=\"white-rook\" stroke=\"#000\" stroke-linecap=\"round\" stroke-linejoin=\"round\" stroke-width=\"1.5\"><path d=\"M9 39h27v-3H9v3zM12 36v-4h21v4H12zM11 14V9h4v2h5V9h5v2h5V9h4v5\" stroke-linecap=\"butt\"/><path d=\"M34 14l-3 3H14l-3-3\"/><path d=\"M31 17v12.5H14V17\" stroke-linecap=\"butt\" stroke-linejoin=\"miter\"/><path d=\"M31 29.5l1.5 2.5h-20l1.5-2.5\"/><path d=\"M11 14h23\" fill=\"none\" stroke-linejoin=\"miter\"/></g><g class=\"white queen\" fill=\"#fff\" fill-rule=\"evenodd\" id=\"white-queen\" stroke=\"#000\" stroke-linecap=\"round\" stroke-linejoin=\"round\" stroke-width=\"1.5\"><path d=\"M8 12a2 2 0 1 1-4 0 2 2 0 1 1 4 0zM24.5 7.5a2 2 0 1 1-4 0 2 2 0 1 1 4 0zM41 12a2 2 0 1 1-4 0 2 2 0 1 1 4 0zM16 8.5a2 2 0 1 1-4 0 2 2 0 1 1 4 0zM33 9a2 2 0 1 1-4 0 2 2 0 1 1 4 0z\"/><path d=\"M9 26c8.5-1.5 21-1.5 27 0l2-12-7 11V11l-5.5 13.5-3-15-3 15-5.5-14V25L7 14l2 12zM9 26c0 2 1.5 2 2.5 4 1 1.5 1 1 .5 3.5-1.5 1-1.5 2.5-1.5 2.5-1.5 1.5.5 2.5.5 2.5 6.5 1 16.5 1 23 0 0 0 1.5-1 0-2.5 0 0 .5-1.5-1-2.5-.5-2.5-.5-2 .5-3.5 1-2 2.5-2 2.5-4-8.5-1.5-18.5-1.5-27 0z\" stroke-linecap=\"butt\"/><path d=\"M11.5 30c3.5-1 18.5-1 22 0M12 33.5c6-1 15-1 21 0\" fill=\"none\"/></g><g class=\"white king\" fill=\"none\" fill-rule=\"evenodd\" id=\"white-king\" stroke=\"#000\" stroke-linecap=\"round\" stroke-linejoin=\"round\" stroke-width=\"1.5\"><path d=\"M22.5 11.63V6M20 8h5\" stroke-linejoin=\"miter\"/><path d=\"M22.5 25s4.5-7.5 3-10.5c0 0-1-2.5-3-2.5s-3 2.5-3 2.5c-1.5 3 3 10.5 3 10.5\" fill=\"#fff\" stroke-linecap=\"butt\" stroke-linejoin=\"miter\"/><path d=\"M11.5 37c5.5 3.5 15.5 3.5 21 0v-7s9-4.5 6-10.5c-4-6.5-13.5-3.5-16 4V27v-3.5c-3.5-7.5-13-10.5-16-4-3 6 5 10 5 10V37z\" fill=\"#fff\"/><path d=\"M11.5 30c5.5-3 15.5-3 21 0m-21 3.5c5.5-3 15.5-3 21 0m-21 3.5c5.5-3 15.5-3 21 0\"/></g><g class=\"black pawn\" id=\"black-pawn\"><path d=\"M22 9c-2.21 0-4 1.79-4 4 0 .89.29 1.71.78 2.38-1.95 1.12-3.28 3.21-3.28 5.62 0 2.03.94 3.84 2.41 5.03-3 1.06-7.41 5.55-7.41 13.47h23c0-7.92-4.41-12.41-7.41-13.47 1.47-1.19 2.41-3 2.41-5.03 0-2.41-1.33-4.5-3.28-5.62.49-.67.78-1.49.78-2.38 0-2.21-1.79-4-4-4z\" stroke=\"#000\" stroke-linecap=\"round\" stroke-width=\"1.5\"/></g><g class=\"black knight\" fill=\"none\" fill-rule=\"evenodd\" id=\"black-knight\" stroke=\"#000\" stroke-linecap=\"round\" stroke-linejoin=\"round\" stroke-width=\"1.5\"><path d=\"M 22,10 C 32.5,11 38.5,18 38,39 L 15,39 C 15,30 25,32.5 23,18\" style=\"fill:#000000; stroke:#000000;\"/><path d=\"M 24,18 C 24.38,20.91 18.45,25.37 16,27 C 13,29 13.18,31.34 11,31 C 9.958,30.06 12.41,27.96 11,28 C 10,28 11.19,29.23 10,30 C 9,30 5.997,31 6,26 C 6,24 12,14 12,14 C 12,14 13.89,12.1 14,10.5 C 13.27,9.506 13.5,8.5 13.5,7.5 C 14.5,6.5 16.5,10 16.5,10 L 18.5,10 C 18.5,10 19.28,8.008 21,7 C 22,7 22,10 22,10\" style=\"fill:#000000; stroke:#000000;\"/><path d=\"M 9.5 25.5 A 0.5 0.5 0 1 1 8.5,25.5 A 0.5 0.5 0 1 1 9.5 25.5 z\" style=\"fill:#ececec; stroke:#ececec;\"/><path d=\"M 15 15.5 A 0.5 1.5 0 1 1 14,15.5 A 0.5 1.5 0 1 1 15 15.5 z\" style=\"fill:#ececec; stroke:#ececec;\" transform=\"matrix(0.866,0.5,-0.5,0.866,9.693,-5.173)\"/><path d=\"M 24.55,10.4 L 24.1,11.85 L 24.6,12 C 27.75,13 30.25,14.49 32.5,18.75 C 34.75,23.01 35.75,29.06 35.25,39 L 35.2,39.5 L 37.45,39.5 L 37.5,39 C 38,28.94 36.62,22.15 34.25,17.66 C 31.88,13.17 28.46,11.02 25.06,10.5 L 24.55,10.4 z \" style=\"fill:#ececec; stroke:none;\"/></g><g class=\"black bishop\" fill=\"none\" fill-rule=\"evenodd\" id=\"black-bishop\" stroke=\"#000\" stroke-linecap=\"round\" stroke-linejoin=\"round\" stroke-width=\"1.5\"><path d=\"M9 36c3.39-.97 10.11.43 13.5-2 3.39 2.43 10.11 1.03 13.5 2 0 0 1.65.54 3 2-.68.97-1.65.99-3 .5-3.39-.97-10.11.46-13.5-1-3.39 1.46-10.11.03-13.5 1-1.354.49-2.323.47-3-.5 1.354-1.94 3-2 3-2zm6-4c2.5 2.5 12.5 2.5 15 0 .5-1.5 0-2 0-2 0-2.5-2.5-4-2.5-4 5.5-1.5 6-11.5-5-15.5-11 4-10.5 14-5 15.5 0 0-2.5 1.5-2.5 4 0 0-.5.5 0 2zM25 8a2.5 2.5 0 1 1-5 0 2.5 2.5 0 1 1 5 0z\" fill=\"#000\" stroke-linecap=\"butt\"/><path d=\"M17.5 26h10M15 30h15m-7.5-14.5v5M20 18h5\" stroke=\"#fff\" stroke-linejoin=\"miter\"/></g><g class=\"black rook\" fill=\"#000\" fill-rule=\"evenodd\" id=\"black-rook\" stroke=\"#000\" stroke-linecap=\"round\" stroke-linejoin=\"round\" stroke-width=\"1.5\"><path d=\"M9 39h27v-3H9v3zM12.5 32l1.5-2.5h17l1.5 2.5h-20zM12 36v-4h21v4H12z\" stroke-linecap=\"butt\"/><path d=\"M14 29.5v-13h17v13H14z\" stroke-linecap=\"butt\" stroke-linejoin=\"miter\"/><path d=\"M14 16.5L11 14h23l-3 2.5H14zM11 14V9h4v2h5V9h5v2h5V9h4v5H11z\" stroke-linecap=\"butt\"/><path d=\"M12 35.5h21M13 31.5h19M14 29.5h17M14 16.5h17M11 14h23\" fill=\"none\" stroke=\"#fff\" stroke-linejoin=\"miter\" stroke-width=\"1\"/></g><g class=\"black queen\" fill=\"#000\" fill-rule=\"evenodd\" id=\"black-queen\" stroke=\"#000\" stroke-linecap=\"round\" stroke-linejoin=\"round\" stroke-width=\"1.5\"><g fill=\"#000\" stroke=\"none\"><circle cx=\"6\" cy=\"12\" r=\"2.75\"/><circle cx=\"14\" cy=\"9\" r=\"2.75\"/><circle cx=\"22.5\" cy=\"8\" r=\"2.75\"/><circle cx=\"31\" cy=\"9\" r=\"2.75\"/><circle cx=\"39\" cy=\"12\" r=\"2.75\"/></g><path d=\"M9 26c8.5-1.5 21-1.5 27 0l2.5-12.5L31 25l-.3-14.1-5.2 13.6-3-14.5-3 14.5-5.2-13.6L14 25 6.5 13.5 9 26zM9 26c0 2 1.5 2 2.5 4 1 1.5 1 1 .5 3.5-1.5 1-1.5 2.5-1.5 2.5-1.5 1.5.5 2.5.5 2.5 6.5 1 16.5 1 23 0 0 0 1.5-1 0-2.5 0 0 .5-1.5-1-2.5-.5-2.5-.5-2 .5-3.5 1-2 2.5-2 2.5-4-8.5-1.5-18.5-1.5-27 0z\" stroke-linecap=\"butt\"/><path d=\"M11 38.5a35 35 1 0 0 23 0\" fill=\"none\" stroke-linecap=\"butt\"/><path d=\"M11 29a35 35 1 0 1 23 0M12.5 31.5h20M11.5 34.5a35 35 1 0 0 22 0M10.5 37.5a35 35 1 0 0 24 0\" fill=\"none\" stroke=\"#fff\"/></g><g class=\"black king\" fill=\"none\" fill-rule=\"evenodd\" id=\"black-king\" stroke=\"#000\" stroke-linecap=\"round\" stroke-linejoin=\"round\" stroke-width=\"1.5\"><path d=\"M22.5 11.63V6\" stroke-linejoin=\"miter\"/><path d=\"M22.5 25s4.5-7.5 3-10.5c0 0-1-2.5-3-2.5s-3 2.5-3 2.5c-1.5 3 3 10.5 3 10.5\" fill=\"#000\" stroke-linecap=\"butt\" stroke-linejoin=\"miter\"/><path d=\"M11.5 37c5.5 3.5 15.5 3.5 21 0v-7s9-4.5 6-10.5c-4-6.5-13.5-3.5-16 4V27v-3.5c-3.5-7.5-13-10.5-16-4-3 6 5 10 5 10V37z\" fill=\"#000\"/><path d=\"M20 8h5\" stroke-linejoin=\"miter\"/><path d=\"M32 29.5s8.5-4 6.03-9.65C34.15 14 25 18 22.5 24.5l.01 2.1-.01-2.1C20 18 9.906 14 6.997 19.85c-2.497 5.65 4.853 9 4.853 9M11.5 30c5.5-3 15.5-3 21 0m-21 3.5c5.5-3 15.5-3 21 0m-21 3.5c5.5-3 15.5-3 21 0\" stroke=\"#fff\"/></g></defs><rect class=\"square dark a1\" fill=\"#d18b47\" height=\"45\" stroke=\"none\" width=\"45\" x=\"20\" y=\"335\"/><use transform=\"translate(20, 335)\" xlink:href=\"#white-rook\"/><rect class=\"square light b1\" fill=\"#ffce9e\" height=\"45\" stroke=\"none\" width=\"45\" x=\"65\" y=\"335\"/><use transform=\"translate(65, 335)\" xlink:href=\"#white-knight\"/><rect class=\"square dark c1\" fill=\"#d18b47\" height=\"45\" stroke=\"none\" width=\"45\" x=\"110\" y=\"335\"/><use transform=\"translate(110, 335)\" xlink:href=\"#white-bishop\"/><rect class=\"square light d1\" fill=\"#ffce9e\" height=\"45\" stroke=\"none\" width=\"45\" x=\"155\" y=\"335\"/><use transform=\"translate(155, 335)\" xlink:href=\"#white-queen\"/><rect class=\"square dark e1\" fill=\"#d18b47\" height=\"45\" stroke=\"none\" width=\"45\" x=\"200\" y=\"335\"/><use transform=\"translate(200, 335)\" xlink:href=\"#white-king\"/><rect class=\"square light f1\" fill=\"#ffce9e\" height=\"45\" stroke=\"none\" width=\"45\" x=\"245\" y=\"335\"/><use transform=\"translate(245, 335)\" xlink:href=\"#white-bishop\"/><rect class=\"square dark g1\" fill=\"#d18b47\" height=\"45\" stroke=\"none\" width=\"45\" x=\"290\" y=\"335\"/><use transform=\"translate(290, 335)\" xlink:href=\"#white-knight\"/><rect class=\"square light h1\" fill=\"#ffce9e\" height=\"45\" stroke=\"none\" width=\"45\" x=\"335\" y=\"335\"/><use transform=\"translate(335, 335)\" xlink:href=\"#white-rook\"/><rect class=\"square light a2\" fill=\"#ffce9e\" height=\"45\" stroke=\"none\" width=\"45\" x=\"20\" y=\"290\"/><use transform=\"translate(20, 290)\" xlink:href=\"#white-pawn\"/><rect class=\"square dark b2\" fill=\"#d18b47\" height=\"45\" stroke=\"none\" width=\"45\" x=\"65\" y=\"290\"/><use transform=\"translate(65, 290)\" xlink:href=\"#white-pawn\"/><rect class=\"square light c2\" fill=\"#ffce9e\" height=\"45\" stroke=\"none\" width=\"45\" x=\"110\" y=\"290\"/><use transform=\"translate(110, 290)\" xlink:href=\"#white-pawn\"/><rect class=\"square dark d2\" fill=\"#d18b47\" height=\"45\" stroke=\"none\" width=\"45\" x=\"155\" y=\"290\"/><use transform=\"translate(155, 290)\" xlink:href=\"#white-pawn\"/><rect class=\"square light e2\" fill=\"#ffce9e\" height=\"45\" stroke=\"none\" width=\"45\" x=\"200\" y=\"290\"/><use transform=\"translate(200, 290)\" xlink:href=\"#white-pawn\"/><rect class=\"square dark f2\" fill=\"#d18b47\" height=\"45\" stroke=\"none\" width=\"45\" x=\"245\" y=\"290\"/><use transform=\"translate(245, 290)\" xlink:href=\"#white-pawn\"/><rect class=\"square light g2\" fill=\"#ffce9e\" height=\"45\" stroke=\"none\" width=\"45\" x=\"290\" y=\"290\"/><use transform=\"translate(290, 290)\" xlink:href=\"#white-pawn\"/><rect class=\"square dark h2\" fill=\"#d18b47\" height=\"45\" stroke=\"none\" width=\"45\" x=\"335\" y=\"290\"/><use transform=\"translate(335, 290)\" xlink:href=\"#white-pawn\"/><rect class=\"square dark a3\" fill=\"#d18b47\" height=\"45\" stroke=\"none\" width=\"45\" x=\"20\" y=\"245\"/><rect class=\"square light b3\" fill=\"#ffce9e\" height=\"45\" stroke=\"none\" width=\"45\" x=\"65\" y=\"245\"/><rect class=\"square dark c3\" fill=\"#d18b47\" height=\"45\" stroke=\"none\" width=\"45\" x=\"110\" y=\"245\"/><rect class=\"square light d3\" fill=\"#ffce9e\" height=\"45\" stroke=\"none\" width=\"45\" x=\"155\" y=\"245\"/><rect class=\"square dark e3\" fill=\"#d18b47\" height=\"45\" stroke=\"none\" width=\"45\" x=\"200\" y=\"245\"/><rect class=\"square light f3\" fill=\"#ffce9e\" height=\"45\" stroke=\"none\" width=\"45\" x=\"245\" y=\"245\"/><rect class=\"square dark g3\" fill=\"#d18b47\" height=\"45\" stroke=\"none\" width=\"45\" x=\"290\" y=\"245\"/><rect class=\"square light h3\" fill=\"#ffce9e\" height=\"45\" stroke=\"none\" width=\"45\" x=\"335\" y=\"245\"/><rect class=\"square light a4\" fill=\"#ffce9e\" height=\"45\" stroke=\"none\" width=\"45\" x=\"20\" y=\"200\"/><rect class=\"square dark b4\" fill=\"#d18b47\" height=\"45\" stroke=\"none\" width=\"45\" x=\"65\" y=\"200\"/><rect class=\"square light c4\" fill=\"#ffce9e\" height=\"45\" stroke=\"none\" width=\"45\" x=\"110\" y=\"200\"/><rect class=\"square dark d4\" fill=\"#d18b47\" height=\"45\" stroke=\"none\" width=\"45\" x=\"155\" y=\"200\"/><rect class=\"square light e4\" fill=\"#ffce9e\" height=\"45\" stroke=\"none\" width=\"45\" x=\"200\" y=\"200\"/><rect class=\"square dark f4\" fill=\"#d18b47\" height=\"45\" stroke=\"none\" width=\"45\" x=\"245\" y=\"200\"/><rect class=\"square light g4\" fill=\"#ffce9e\" height=\"45\" stroke=\"none\" width=\"45\" x=\"290\" y=\"200\"/><rect class=\"square dark h4\" fill=\"#d18b47\" height=\"45\" stroke=\"none\" width=\"45\" x=\"335\" y=\"200\"/><rect class=\"square dark a5\" fill=\"#d18b47\" height=\"45\" stroke=\"none\" width=\"45\" x=\"20\" y=\"155\"/><rect class=\"square light b5\" fill=\"#ffce9e\" height=\"45\" stroke=\"none\" width=\"45\" x=\"65\" y=\"155\"/><rect class=\"square dark c5\" fill=\"#d18b47\" height=\"45\" stroke=\"none\" width=\"45\" x=\"110\" y=\"155\"/><rect class=\"square light d5\" fill=\"#ffce9e\" height=\"45\" stroke=\"none\" width=\"45\" x=\"155\" y=\"155\"/><rect class=\"square dark e5\" fill=\"#d18b47\" height=\"45\" stroke=\"none\" width=\"45\" x=\"200\" y=\"155\"/><rect class=\"square light f5\" fill=\"#ffce9e\" height=\"45\" stroke=\"none\" width=\"45\" x=\"245\" y=\"155\"/><rect class=\"square dark g5\" fill=\"#d18b47\" height=\"45\" stroke=\"none\" width=\"45\" x=\"290\" y=\"155\"/><rect class=\"square light h5\" fill=\"#ffce9e\" height=\"45\" stroke=\"none\" width=\"45\" x=\"335\" y=\"155\"/><rect class=\"square light a6\" fill=\"#ffce9e\" height=\"45\" stroke=\"none\" width=\"45\" x=\"20\" y=\"110\"/><rect class=\"square dark b6\" fill=\"#d18b47\" height=\"45\" stroke=\"none\" width=\"45\" x=\"65\" y=\"110\"/><rect class=\"square light c6\" fill=\"#ffce9e\" height=\"45\" stroke=\"none\" width=\"45\" x=\"110\" y=\"110\"/><rect class=\"square dark d6\" fill=\"#d18b47\" height=\"45\" stroke=\"none\" width=\"45\" x=\"155\" y=\"110\"/><rect class=\"square light e6\" fill=\"#ffce9e\" height=\"45\" stroke=\"none\" width=\"45\" x=\"200\" y=\"110\"/><rect class=\"square dark f6\" fill=\"#d18b47\" height=\"45\" stroke=\"none\" width=\"45\" x=\"245\" y=\"110\"/><rect class=\"square light g6\" fill=\"#ffce9e\" height=\"45\" stroke=\"none\" width=\"45\" x=\"290\" y=\"110\"/><rect class=\"square dark h6\" fill=\"#d18b47\" height=\"45\" stroke=\"none\" width=\"45\" x=\"335\" y=\"110\"/><rect class=\"square dark a7\" fill=\"#d18b47\" height=\"45\" stroke=\"none\" width=\"45\" x=\"20\" y=\"65\"/><use transform=\"translate(20, 65)\" xlink:href=\"#black-pawn\"/><rect class=\"square light b7\" fill=\"#ffce9e\" height=\"45\" stroke=\"none\" width=\"45\" x=\"65\" y=\"65\"/><use transform=\"translate(65, 65)\" xlink:href=\"#black-pawn\"/><rect class=\"square dark c7\" fill=\"#d18b47\" height=\"45\" stroke=\"none\" width=\"45\" x=\"110\" y=\"65\"/><use transform=\"translate(110, 65)\" xlink:href=\"#black-pawn\"/><rect class=\"square light d7\" fill=\"#ffce9e\" height=\"45\" stroke=\"none\" width=\"45\" x=\"155\" y=\"65\"/><use transform=\"translate(155, 65)\" xlink:href=\"#black-pawn\"/><rect class=\"square dark e7\" fill=\"#d18b47\" height=\"45\" stroke=\"none\" width=\"45\" x=\"200\" y=\"65\"/><use transform=\"translate(200, 65)\" xlink:href=\"#black-pawn\"/><rect class=\"square light f7\" fill=\"#ffce9e\" height=\"45\" stroke=\"none\" width=\"45\" x=\"245\" y=\"65\"/><use transform=\"translate(245, 65)\" xlink:href=\"#black-pawn\"/><rect class=\"square dark g7\" fill=\"#d18b47\" height=\"45\" stroke=\"none\" width=\"45\" x=\"290\" y=\"65\"/><use transform=\"translate(290, 65)\" xlink:href=\"#black-pawn\"/><rect class=\"square light h7\" fill=\"#ffce9e\" height=\"45\" stroke=\"none\" width=\"45\" x=\"335\" y=\"65\"/><use transform=\"translate(335, 65)\" xlink:href=\"#black-pawn\"/><rect class=\"square light a8\" fill=\"#ffce9e\" height=\"45\" stroke=\"none\" width=\"45\" x=\"20\" y=\"20\"/><use transform=\"translate(20, 20)\" xlink:href=\"#black-rook\"/><rect class=\"square dark b8\" fill=\"#d18b47\" height=\"45\" stroke=\"none\" width=\"45\" x=\"65\" y=\"20\"/><use transform=\"translate(65, 20)\" xlink:href=\"#black-knight\"/><rect class=\"square light c8\" fill=\"#ffce9e\" height=\"45\" stroke=\"none\" width=\"45\" x=\"110\" y=\"20\"/><use transform=\"translate(110, 20)\" xlink:href=\"#black-bishop\"/><rect class=\"square dark d8\" fill=\"#d18b47\" height=\"45\" stroke=\"none\" width=\"45\" x=\"155\" y=\"20\"/><use transform=\"translate(155, 20)\" xlink:href=\"#black-queen\"/><rect class=\"square light e8\" fill=\"#ffce9e\" height=\"45\" stroke=\"none\" width=\"45\" x=\"200\" y=\"20\"/><use transform=\"translate(200, 20)\" xlink:href=\"#black-king\"/><rect class=\"square dark f8\" fill=\"#d18b47\" height=\"45\" stroke=\"none\" width=\"45\" x=\"245\" y=\"20\"/><use transform=\"translate(245, 20)\" xlink:href=\"#black-bishop\"/><rect class=\"square light g8\" fill=\"#ffce9e\" height=\"45\" stroke=\"none\" width=\"45\" x=\"290\" y=\"20\"/><use transform=\"translate(290, 20)\" xlink:href=\"#black-knight\"/><rect class=\"square dark h8\" fill=\"#d18b47\" height=\"45\" stroke=\"none\" width=\"45\" x=\"335\" y=\"20\"/><use transform=\"translate(335, 20)\" xlink:href=\"#black-rook\"/><text alignment-baseline=\"middle\" font-size=\"14\" text-anchor=\"middle\" x=\"42\" y=\"10\">a</text><text alignment-baseline=\"middle\" font-size=\"14\" text-anchor=\"middle\" x=\"42\" y=\"390\">a</text><text alignment-baseline=\"middle\" font-size=\"14\" text-anchor=\"middle\" x=\"87\" y=\"10\">b</text><text alignment-baseline=\"middle\" font-size=\"14\" text-anchor=\"middle\" x=\"87\" y=\"390\">b</text><text alignment-baseline=\"middle\" font-size=\"14\" text-anchor=\"middle\" x=\"132\" y=\"10\">c</text><text alignment-baseline=\"middle\" font-size=\"14\" text-anchor=\"middle\" x=\"132\" y=\"390\">c</text><text alignment-baseline=\"middle\" font-size=\"14\" text-anchor=\"middle\" x=\"177\" y=\"10\">d</text><text alignment-baseline=\"middle\" font-size=\"14\" text-anchor=\"middle\" x=\"177\" y=\"390\">d</text><text alignment-baseline=\"middle\" font-size=\"14\" text-anchor=\"middle\" x=\"222\" y=\"10\">e</text><text alignment-baseline=\"middle\" font-size=\"14\" text-anchor=\"middle\" x=\"222\" y=\"390\">e</text><text alignment-baseline=\"middle\" font-size=\"14\" text-anchor=\"middle\" x=\"267\" y=\"10\">f</text><text alignment-baseline=\"middle\" font-size=\"14\" text-anchor=\"middle\" x=\"267\" y=\"390\">f</text><text alignment-baseline=\"middle\" font-size=\"14\" text-anchor=\"middle\" x=\"312\" y=\"10\">g</text><text alignment-baseline=\"middle\" font-size=\"14\" text-anchor=\"middle\" x=\"312\" y=\"390\">g</text><text alignment-baseline=\"middle\" font-size=\"14\" text-anchor=\"middle\" x=\"357\" y=\"10\">h</text><text alignment-baseline=\"middle\" font-size=\"14\" text-anchor=\"middle\" x=\"357\" y=\"390\">h</text><text alignment-baseline=\"middle\" font-size=\"14\" text-anchor=\"middle\" x=\"10\" y=\"357\">1</text><text alignment-baseline=\"middle\" font-size=\"14\" text-anchor=\"middle\" x=\"390\" y=\"357\">1</text><text alignment-baseline=\"middle\" font-size=\"14\" text-anchor=\"middle\" x=\"10\" y=\"312\">2</text><text alignment-baseline=\"middle\" font-size=\"14\" text-anchor=\"middle\" x=\"390\" y=\"312\">2</text><text alignment-baseline=\"middle\" font-size=\"14\" text-anchor=\"middle\" x=\"10\" y=\"267\">3</text><text alignment-baseline=\"middle\" font-size=\"14\" text-anchor=\"middle\" x=\"390\" y=\"267\">3</text><text alignment-baseline=\"middle\" font-size=\"14\" text-anchor=\"middle\" x=\"10\" y=\"222\">4</text><text alignment-baseline=\"middle\" font-size=\"14\" text-anchor=\"middle\" x=\"390\" y=\"222\">4</text><text alignment-baseline=\"middle\" font-size=\"14\" text-anchor=\"middle\" x=\"10\" y=\"177\">5</text><text alignment-baseline=\"middle\" font-size=\"14\" text-anchor=\"middle\" x=\"390\" y=\"177\">5</text><text alignment-baseline=\"middle\" font-size=\"14\" text-anchor=\"middle\" x=\"10\" y=\"132\">6</text><text alignment-baseline=\"middle\" font-size=\"14\" text-anchor=\"middle\" x=\"390\" y=\"132\">6</text><text alignment-baseline=\"middle\" font-size=\"14\" text-anchor=\"middle\" x=\"10\" y=\"87\">7</text><text alignment-baseline=\"middle\" font-size=\"14\" text-anchor=\"middle\" x=\"390\" y=\"87\">7</text><text alignment-baseline=\"middle\" font-size=\"14\" text-anchor=\"middle\" x=\"10\" y=\"42\">8</text><text alignment-baseline=\"middle\" font-size=\"14\" text-anchor=\"middle\" x=\"390\" y=\"42\">8</text></svg>"
      ],
      "text/plain": [
       "<IPython.core.display.SVG object>"
      ]
     },
     "metadata": {},
     "output_type": "display_data"
    },
    {
     "name": "stdout",
     "output_type": "stream",
     "text": [
      "Legal moves:\n",
      "['g1h3', 'g1f3', 'b1c3', 'b1a3', 'h2h3', 'g2g3', 'f2f3', 'e2e3', 'd2d3', 'c2c3', 'b2b3', 'a2a3', 'h2h4', 'g2g4', 'f2f4', 'e2e4', 'd2d4', 'c2c4', 'b2b4', 'a2a4']\n",
      "Please enter your move: g1h3\n"
     ]
    },
    {
     "data": {
      "image/svg+xml": [
       "<svg version=\"1.1\" viewBox=\"0 0 400 400\" xmlns=\"http://www.w3.org/2000/svg\" xmlns:xlink=\"http://www.w3.org/1999/xlink\"><defs><g class=\"white pawn\" id=\"white-pawn\"><path d=\"M22 9c-2.21 0-4 1.79-4 4 0 .89.29 1.71.78 2.38-1.95 1.12-3.28 3.21-3.28 5.62 0 2.03.94 3.84 2.41 5.03-3 1.06-7.41 5.55-7.41 13.47h23c0-7.92-4.41-12.41-7.41-13.47 1.47-1.19 2.41-3 2.41-5.03 0-2.41-1.33-4.5-3.28-5.62.49-.67.78-1.49.78-2.38 0-2.21-1.79-4-4-4z\" fill=\"#fff\" stroke=\"#000\" stroke-linecap=\"round\" stroke-width=\"1.5\"/></g><g class=\"white knight\" fill=\"none\" fill-rule=\"evenodd\" id=\"white-knight\" stroke=\"#000\" stroke-linecap=\"round\" stroke-linejoin=\"round\" stroke-width=\"1.5\"><path d=\"M 22,10 C 32.5,11 38.5,18 38,39 L 15,39 C 15,30 25,32.5 23,18\" style=\"fill:#ffffff; stroke:#000000;\"/><path d=\"M 24,18 C 24.38,20.91 18.45,25.37 16,27 C 13,29 13.18,31.34 11,31 C 9.958,30.06 12.41,27.96 11,28 C 10,28 11.19,29.23 10,30 C 9,30 5.997,31 6,26 C 6,24 12,14 12,14 C 12,14 13.89,12.1 14,10.5 C 13.27,9.506 13.5,8.5 13.5,7.5 C 14.5,6.5 16.5,10 16.5,10 L 18.5,10 C 18.5,10 19.28,8.008 21,7 C 22,7 22,10 22,10\" style=\"fill:#ffffff; stroke:#000000;\"/><path d=\"M 9.5 25.5 A 0.5 0.5 0 1 1 8.5,25.5 A 0.5 0.5 0 1 1 9.5 25.5 z\" style=\"fill:#000000; stroke:#000000;\"/><path d=\"M 15 15.5 A 0.5 1.5 0 1 1 14,15.5 A 0.5 1.5 0 1 1 15 15.5 z\" style=\"fill:#000000; stroke:#000000;\" transform=\"matrix(0.866,0.5,-0.5,0.866,9.693,-5.173)\"/></g><g class=\"white bishop\" fill=\"none\" fill-rule=\"evenodd\" id=\"white-bishop\" stroke=\"#000\" stroke-linecap=\"round\" stroke-linejoin=\"round\" stroke-width=\"1.5\"><g fill=\"#fff\" stroke-linecap=\"butt\"><path d=\"M9 36c3.39-.97 10.11.43 13.5-2 3.39 2.43 10.11 1.03 13.5 2 0 0 1.65.54 3 2-.68.97-1.65.99-3 .5-3.39-.97-10.11.46-13.5-1-3.39 1.46-10.11.03-13.5 1-1.354.49-2.323.47-3-.5 1.354-1.94 3-2 3-2zM15 32c2.5 2.5 12.5 2.5 15 0 .5-1.5 0-2 0-2 0-2.5-2.5-4-2.5-4 5.5-1.5 6-11.5-5-15.5-11 4-10.5 14-5 15.5 0 0-2.5 1.5-2.5 4 0 0-.5.5 0 2zM25 8a2.5 2.5 0 1 1-5 0 2.5 2.5 0 1 1 5 0z\"/></g><path d=\"M17.5 26h10M15 30h15m-7.5-14.5v5M20 18h5\" stroke-linejoin=\"miter\"/></g><g class=\"white rook\" fill=\"#fff\" fill-rule=\"evenodd\" id=\"white-rook\" stroke=\"#000\" stroke-linecap=\"round\" stroke-linejoin=\"round\" stroke-width=\"1.5\"><path d=\"M9 39h27v-3H9v3zM12 36v-4h21v4H12zM11 14V9h4v2h5V9h5v2h5V9h4v5\" stroke-linecap=\"butt\"/><path d=\"M34 14l-3 3H14l-3-3\"/><path d=\"M31 17v12.5H14V17\" stroke-linecap=\"butt\" stroke-linejoin=\"miter\"/><path d=\"M31 29.5l1.5 2.5h-20l1.5-2.5\"/><path d=\"M11 14h23\" fill=\"none\" stroke-linejoin=\"miter\"/></g><g class=\"white queen\" fill=\"#fff\" fill-rule=\"evenodd\" id=\"white-queen\" stroke=\"#000\" stroke-linecap=\"round\" stroke-linejoin=\"round\" stroke-width=\"1.5\"><path d=\"M8 12a2 2 0 1 1-4 0 2 2 0 1 1 4 0zM24.5 7.5a2 2 0 1 1-4 0 2 2 0 1 1 4 0zM41 12a2 2 0 1 1-4 0 2 2 0 1 1 4 0zM16 8.5a2 2 0 1 1-4 0 2 2 0 1 1 4 0zM33 9a2 2 0 1 1-4 0 2 2 0 1 1 4 0z\"/><path d=\"M9 26c8.5-1.5 21-1.5 27 0l2-12-7 11V11l-5.5 13.5-3-15-3 15-5.5-14V25L7 14l2 12zM9 26c0 2 1.5 2 2.5 4 1 1.5 1 1 .5 3.5-1.5 1-1.5 2.5-1.5 2.5-1.5 1.5.5 2.5.5 2.5 6.5 1 16.5 1 23 0 0 0 1.5-1 0-2.5 0 0 .5-1.5-1-2.5-.5-2.5-.5-2 .5-3.5 1-2 2.5-2 2.5-4-8.5-1.5-18.5-1.5-27 0z\" stroke-linecap=\"butt\"/><path d=\"M11.5 30c3.5-1 18.5-1 22 0M12 33.5c6-1 15-1 21 0\" fill=\"none\"/></g><g class=\"white king\" fill=\"none\" fill-rule=\"evenodd\" id=\"white-king\" stroke=\"#000\" stroke-linecap=\"round\" stroke-linejoin=\"round\" stroke-width=\"1.5\"><path d=\"M22.5 11.63V6M20 8h5\" stroke-linejoin=\"miter\"/><path d=\"M22.5 25s4.5-7.5 3-10.5c0 0-1-2.5-3-2.5s-3 2.5-3 2.5c-1.5 3 3 10.5 3 10.5\" fill=\"#fff\" stroke-linecap=\"butt\" stroke-linejoin=\"miter\"/><path d=\"M11.5 37c5.5 3.5 15.5 3.5 21 0v-7s9-4.5 6-10.5c-4-6.5-13.5-3.5-16 4V27v-3.5c-3.5-7.5-13-10.5-16-4-3 6 5 10 5 10V37z\" fill=\"#fff\"/><path d=\"M11.5 30c5.5-3 15.5-3 21 0m-21 3.5c5.5-3 15.5-3 21 0m-21 3.5c5.5-3 15.5-3 21 0\"/></g><g class=\"black pawn\" id=\"black-pawn\"><path d=\"M22 9c-2.21 0-4 1.79-4 4 0 .89.29 1.71.78 2.38-1.95 1.12-3.28 3.21-3.28 5.62 0 2.03.94 3.84 2.41 5.03-3 1.06-7.41 5.55-7.41 13.47h23c0-7.92-4.41-12.41-7.41-13.47 1.47-1.19 2.41-3 2.41-5.03 0-2.41-1.33-4.5-3.28-5.62.49-.67.78-1.49.78-2.38 0-2.21-1.79-4-4-4z\" stroke=\"#000\" stroke-linecap=\"round\" stroke-width=\"1.5\"/></g><g class=\"black knight\" fill=\"none\" fill-rule=\"evenodd\" id=\"black-knight\" stroke=\"#000\" stroke-linecap=\"round\" stroke-linejoin=\"round\" stroke-width=\"1.5\"><path d=\"M 22,10 C 32.5,11 38.5,18 38,39 L 15,39 C 15,30 25,32.5 23,18\" style=\"fill:#000000; stroke:#000000;\"/><path d=\"M 24,18 C 24.38,20.91 18.45,25.37 16,27 C 13,29 13.18,31.34 11,31 C 9.958,30.06 12.41,27.96 11,28 C 10,28 11.19,29.23 10,30 C 9,30 5.997,31 6,26 C 6,24 12,14 12,14 C 12,14 13.89,12.1 14,10.5 C 13.27,9.506 13.5,8.5 13.5,7.5 C 14.5,6.5 16.5,10 16.5,10 L 18.5,10 C 18.5,10 19.28,8.008 21,7 C 22,7 22,10 22,10\" style=\"fill:#000000; stroke:#000000;\"/><path d=\"M 9.5 25.5 A 0.5 0.5 0 1 1 8.5,25.5 A 0.5 0.5 0 1 1 9.5 25.5 z\" style=\"fill:#ececec; stroke:#ececec;\"/><path d=\"M 15 15.5 A 0.5 1.5 0 1 1 14,15.5 A 0.5 1.5 0 1 1 15 15.5 z\" style=\"fill:#ececec; stroke:#ececec;\" transform=\"matrix(0.866,0.5,-0.5,0.866,9.693,-5.173)\"/><path d=\"M 24.55,10.4 L 24.1,11.85 L 24.6,12 C 27.75,13 30.25,14.49 32.5,18.75 C 34.75,23.01 35.75,29.06 35.25,39 L 35.2,39.5 L 37.45,39.5 L 37.5,39 C 38,28.94 36.62,22.15 34.25,17.66 C 31.88,13.17 28.46,11.02 25.06,10.5 L 24.55,10.4 z \" style=\"fill:#ececec; stroke:none;\"/></g><g class=\"black bishop\" fill=\"none\" fill-rule=\"evenodd\" id=\"black-bishop\" stroke=\"#000\" stroke-linecap=\"round\" stroke-linejoin=\"round\" stroke-width=\"1.5\"><path d=\"M9 36c3.39-.97 10.11.43 13.5-2 3.39 2.43 10.11 1.03 13.5 2 0 0 1.65.54 3 2-.68.97-1.65.99-3 .5-3.39-.97-10.11.46-13.5-1-3.39 1.46-10.11.03-13.5 1-1.354.49-2.323.47-3-.5 1.354-1.94 3-2 3-2zm6-4c2.5 2.5 12.5 2.5 15 0 .5-1.5 0-2 0-2 0-2.5-2.5-4-2.5-4 5.5-1.5 6-11.5-5-15.5-11 4-10.5 14-5 15.5 0 0-2.5 1.5-2.5 4 0 0-.5.5 0 2zM25 8a2.5 2.5 0 1 1-5 0 2.5 2.5 0 1 1 5 0z\" fill=\"#000\" stroke-linecap=\"butt\"/><path d=\"M17.5 26h10M15 30h15m-7.5-14.5v5M20 18h5\" stroke=\"#fff\" stroke-linejoin=\"miter\"/></g><g class=\"black rook\" fill=\"#000\" fill-rule=\"evenodd\" id=\"black-rook\" stroke=\"#000\" stroke-linecap=\"round\" stroke-linejoin=\"round\" stroke-width=\"1.5\"><path d=\"M9 39h27v-3H9v3zM12.5 32l1.5-2.5h17l1.5 2.5h-20zM12 36v-4h21v4H12z\" stroke-linecap=\"butt\"/><path d=\"M14 29.5v-13h17v13H14z\" stroke-linecap=\"butt\" stroke-linejoin=\"miter\"/><path d=\"M14 16.5L11 14h23l-3 2.5H14zM11 14V9h4v2h5V9h5v2h5V9h4v5H11z\" stroke-linecap=\"butt\"/><path d=\"M12 35.5h21M13 31.5h19M14 29.5h17M14 16.5h17M11 14h23\" fill=\"none\" stroke=\"#fff\" stroke-linejoin=\"miter\" stroke-width=\"1\"/></g><g class=\"black queen\" fill=\"#000\" fill-rule=\"evenodd\" id=\"black-queen\" stroke=\"#000\" stroke-linecap=\"round\" stroke-linejoin=\"round\" stroke-width=\"1.5\"><g fill=\"#000\" stroke=\"none\"><circle cx=\"6\" cy=\"12\" r=\"2.75\"/><circle cx=\"14\" cy=\"9\" r=\"2.75\"/><circle cx=\"22.5\" cy=\"8\" r=\"2.75\"/><circle cx=\"31\" cy=\"9\" r=\"2.75\"/><circle cx=\"39\" cy=\"12\" r=\"2.75\"/></g><path d=\"M9 26c8.5-1.5 21-1.5 27 0l2.5-12.5L31 25l-.3-14.1-5.2 13.6-3-14.5-3 14.5-5.2-13.6L14 25 6.5 13.5 9 26zM9 26c0 2 1.5 2 2.5 4 1 1.5 1 1 .5 3.5-1.5 1-1.5 2.5-1.5 2.5-1.5 1.5.5 2.5.5 2.5 6.5 1 16.5 1 23 0 0 0 1.5-1 0-2.5 0 0 .5-1.5-1-2.5-.5-2.5-.5-2 .5-3.5 1-2 2.5-2 2.5-4-8.5-1.5-18.5-1.5-27 0z\" stroke-linecap=\"butt\"/><path d=\"M11 38.5a35 35 1 0 0 23 0\" fill=\"none\" stroke-linecap=\"butt\"/><path d=\"M11 29a35 35 1 0 1 23 0M12.5 31.5h20M11.5 34.5a35 35 1 0 0 22 0M10.5 37.5a35 35 1 0 0 24 0\" fill=\"none\" stroke=\"#fff\"/></g><g class=\"black king\" fill=\"none\" fill-rule=\"evenodd\" id=\"black-king\" stroke=\"#000\" stroke-linecap=\"round\" stroke-linejoin=\"round\" stroke-width=\"1.5\"><path d=\"M22.5 11.63V6\" stroke-linejoin=\"miter\"/><path d=\"M22.5 25s4.5-7.5 3-10.5c0 0-1-2.5-3-2.5s-3 2.5-3 2.5c-1.5 3 3 10.5 3 10.5\" fill=\"#000\" stroke-linecap=\"butt\" stroke-linejoin=\"miter\"/><path d=\"M11.5 37c5.5 3.5 15.5 3.5 21 0v-7s9-4.5 6-10.5c-4-6.5-13.5-3.5-16 4V27v-3.5c-3.5-7.5-13-10.5-16-4-3 6 5 10 5 10V37z\" fill=\"#000\"/><path d=\"M20 8h5\" stroke-linejoin=\"miter\"/><path d=\"M32 29.5s8.5-4 6.03-9.65C34.15 14 25 18 22.5 24.5l.01 2.1-.01-2.1C20 18 9.906 14 6.997 19.85c-2.497 5.65 4.853 9 4.853 9M11.5 30c5.5-3 15.5-3 21 0m-21 3.5c5.5-3 15.5-3 21 0m-21 3.5c5.5-3 15.5-3 21 0\" stroke=\"#fff\"/></g></defs><rect class=\"square dark a1\" fill=\"#d18b47\" height=\"45\" stroke=\"none\" width=\"45\" x=\"20\" y=\"335\"/><use transform=\"translate(20, 335)\" xlink:href=\"#white-rook\"/><rect class=\"square light b1\" fill=\"#ffce9e\" height=\"45\" stroke=\"none\" width=\"45\" x=\"65\" y=\"335\"/><use transform=\"translate(65, 335)\" xlink:href=\"#white-knight\"/><rect class=\"square dark c1\" fill=\"#d18b47\" height=\"45\" stroke=\"none\" width=\"45\" x=\"110\" y=\"335\"/><use transform=\"translate(110, 335)\" xlink:href=\"#white-bishop\"/><rect class=\"square light d1\" fill=\"#ffce9e\" height=\"45\" stroke=\"none\" width=\"45\" x=\"155\" y=\"335\"/><use transform=\"translate(155, 335)\" xlink:href=\"#white-queen\"/><rect class=\"square dark e1\" fill=\"#d18b47\" height=\"45\" stroke=\"none\" width=\"45\" x=\"200\" y=\"335\"/><use transform=\"translate(200, 335)\" xlink:href=\"#white-king\"/><rect class=\"square light f1\" fill=\"#ffce9e\" height=\"45\" stroke=\"none\" width=\"45\" x=\"245\" y=\"335\"/><use transform=\"translate(245, 335)\" xlink:href=\"#white-bishop\"/><rect class=\"square dark g1\" fill=\"#d18b47\" height=\"45\" stroke=\"none\" width=\"45\" x=\"290\" y=\"335\"/><rect class=\"square light h1\" fill=\"#ffce9e\" height=\"45\" stroke=\"none\" width=\"45\" x=\"335\" y=\"335\"/><use transform=\"translate(335, 335)\" xlink:href=\"#white-rook\"/><rect class=\"square light a2\" fill=\"#ffce9e\" height=\"45\" stroke=\"none\" width=\"45\" x=\"20\" y=\"290\"/><use transform=\"translate(20, 290)\" xlink:href=\"#white-pawn\"/><rect class=\"square dark b2\" fill=\"#d18b47\" height=\"45\" stroke=\"none\" width=\"45\" x=\"65\" y=\"290\"/><use transform=\"translate(65, 290)\" xlink:href=\"#white-pawn\"/><rect class=\"square light c2\" fill=\"#ffce9e\" height=\"45\" stroke=\"none\" width=\"45\" x=\"110\" y=\"290\"/><use transform=\"translate(110, 290)\" xlink:href=\"#white-pawn\"/><rect class=\"square dark d2\" fill=\"#d18b47\" height=\"45\" stroke=\"none\" width=\"45\" x=\"155\" y=\"290\"/><use transform=\"translate(155, 290)\" xlink:href=\"#white-pawn\"/><rect class=\"square light e2\" fill=\"#ffce9e\" height=\"45\" stroke=\"none\" width=\"45\" x=\"200\" y=\"290\"/><use transform=\"translate(200, 290)\" xlink:href=\"#white-pawn\"/><rect class=\"square dark f2\" fill=\"#d18b47\" height=\"45\" stroke=\"none\" width=\"45\" x=\"245\" y=\"290\"/><use transform=\"translate(245, 290)\" xlink:href=\"#white-pawn\"/><rect class=\"square light g2\" fill=\"#ffce9e\" height=\"45\" stroke=\"none\" width=\"45\" x=\"290\" y=\"290\"/><use transform=\"translate(290, 290)\" xlink:href=\"#white-pawn\"/><rect class=\"square dark h2\" fill=\"#d18b47\" height=\"45\" stroke=\"none\" width=\"45\" x=\"335\" y=\"290\"/><use transform=\"translate(335, 290)\" xlink:href=\"#white-pawn\"/><rect class=\"square dark a3\" fill=\"#d18b47\" height=\"45\" stroke=\"none\" width=\"45\" x=\"20\" y=\"245\"/><rect class=\"square light b3\" fill=\"#ffce9e\" height=\"45\" stroke=\"none\" width=\"45\" x=\"65\" y=\"245\"/><rect class=\"square dark c3\" fill=\"#d18b47\" height=\"45\" stroke=\"none\" width=\"45\" x=\"110\" y=\"245\"/><rect class=\"square light d3\" fill=\"#ffce9e\" height=\"45\" stroke=\"none\" width=\"45\" x=\"155\" y=\"245\"/><rect class=\"square dark e3\" fill=\"#d18b47\" height=\"45\" stroke=\"none\" width=\"45\" x=\"200\" y=\"245\"/><rect class=\"square light f3\" fill=\"#ffce9e\" height=\"45\" stroke=\"none\" width=\"45\" x=\"245\" y=\"245\"/><rect class=\"square dark g3\" fill=\"#d18b47\" height=\"45\" stroke=\"none\" width=\"45\" x=\"290\" y=\"245\"/><rect class=\"square light h3\" fill=\"#ffce9e\" height=\"45\" stroke=\"none\" width=\"45\" x=\"335\" y=\"245\"/><use transform=\"translate(335, 245)\" xlink:href=\"#white-knight\"/><rect class=\"square light a4\" fill=\"#ffce9e\" height=\"45\" stroke=\"none\" width=\"45\" x=\"20\" y=\"200\"/><rect class=\"square dark b4\" fill=\"#d18b47\" height=\"45\" stroke=\"none\" width=\"45\" x=\"65\" y=\"200\"/><rect class=\"square light c4\" fill=\"#ffce9e\" height=\"45\" stroke=\"none\" width=\"45\" x=\"110\" y=\"200\"/><rect class=\"square dark d4\" fill=\"#d18b47\" height=\"45\" stroke=\"none\" width=\"45\" x=\"155\" y=\"200\"/><rect class=\"square light e4\" fill=\"#ffce9e\" height=\"45\" stroke=\"none\" width=\"45\" x=\"200\" y=\"200\"/><rect class=\"square dark f4\" fill=\"#d18b47\" height=\"45\" stroke=\"none\" width=\"45\" x=\"245\" y=\"200\"/><rect class=\"square light g4\" fill=\"#ffce9e\" height=\"45\" stroke=\"none\" width=\"45\" x=\"290\" y=\"200\"/><rect class=\"square dark h4\" fill=\"#d18b47\" height=\"45\" stroke=\"none\" width=\"45\" x=\"335\" y=\"200\"/><rect class=\"square dark a5\" fill=\"#d18b47\" height=\"45\" stroke=\"none\" width=\"45\" x=\"20\" y=\"155\"/><rect class=\"square light b5\" fill=\"#ffce9e\" height=\"45\" stroke=\"none\" width=\"45\" x=\"65\" y=\"155\"/><rect class=\"square dark c5\" fill=\"#d18b47\" height=\"45\" stroke=\"none\" width=\"45\" x=\"110\" y=\"155\"/><rect class=\"square light d5\" fill=\"#ffce9e\" height=\"45\" stroke=\"none\" width=\"45\" x=\"155\" y=\"155\"/><rect class=\"square dark e5\" fill=\"#d18b47\" height=\"45\" stroke=\"none\" width=\"45\" x=\"200\" y=\"155\"/><rect class=\"square light f5\" fill=\"#ffce9e\" height=\"45\" stroke=\"none\" width=\"45\" x=\"245\" y=\"155\"/><rect class=\"square dark g5\" fill=\"#d18b47\" height=\"45\" stroke=\"none\" width=\"45\" x=\"290\" y=\"155\"/><rect class=\"square light h5\" fill=\"#ffce9e\" height=\"45\" stroke=\"none\" width=\"45\" x=\"335\" y=\"155\"/><rect class=\"square light a6\" fill=\"#ffce9e\" height=\"45\" stroke=\"none\" width=\"45\" x=\"20\" y=\"110\"/><rect class=\"square dark b6\" fill=\"#d18b47\" height=\"45\" stroke=\"none\" width=\"45\" x=\"65\" y=\"110\"/><rect class=\"square light c6\" fill=\"#ffce9e\" height=\"45\" stroke=\"none\" width=\"45\" x=\"110\" y=\"110\"/><rect class=\"square dark d6\" fill=\"#d18b47\" height=\"45\" stroke=\"none\" width=\"45\" x=\"155\" y=\"110\"/><rect class=\"square light e6\" fill=\"#ffce9e\" height=\"45\" stroke=\"none\" width=\"45\" x=\"200\" y=\"110\"/><rect class=\"square dark f6\" fill=\"#d18b47\" height=\"45\" stroke=\"none\" width=\"45\" x=\"245\" y=\"110\"/><rect class=\"square light g6\" fill=\"#ffce9e\" height=\"45\" stroke=\"none\" width=\"45\" x=\"290\" y=\"110\"/><rect class=\"square dark h6\" fill=\"#d18b47\" height=\"45\" stroke=\"none\" width=\"45\" x=\"335\" y=\"110\"/><rect class=\"square dark a7\" fill=\"#d18b47\" height=\"45\" stroke=\"none\" width=\"45\" x=\"20\" y=\"65\"/><use transform=\"translate(20, 65)\" xlink:href=\"#black-pawn\"/><rect class=\"square light b7\" fill=\"#ffce9e\" height=\"45\" stroke=\"none\" width=\"45\" x=\"65\" y=\"65\"/><use transform=\"translate(65, 65)\" xlink:href=\"#black-pawn\"/><rect class=\"square dark c7\" fill=\"#d18b47\" height=\"45\" stroke=\"none\" width=\"45\" x=\"110\" y=\"65\"/><use transform=\"translate(110, 65)\" xlink:href=\"#black-pawn\"/><rect class=\"square light d7\" fill=\"#ffce9e\" height=\"45\" stroke=\"none\" width=\"45\" x=\"155\" y=\"65\"/><use transform=\"translate(155, 65)\" xlink:href=\"#black-pawn\"/><rect class=\"square dark e7\" fill=\"#d18b47\" height=\"45\" stroke=\"none\" width=\"45\" x=\"200\" y=\"65\"/><use transform=\"translate(200, 65)\" xlink:href=\"#black-pawn\"/><rect class=\"square light f7\" fill=\"#ffce9e\" height=\"45\" stroke=\"none\" width=\"45\" x=\"245\" y=\"65\"/><use transform=\"translate(245, 65)\" xlink:href=\"#black-pawn\"/><rect class=\"square dark g7\" fill=\"#d18b47\" height=\"45\" stroke=\"none\" width=\"45\" x=\"290\" y=\"65\"/><use transform=\"translate(290, 65)\" xlink:href=\"#black-pawn\"/><rect class=\"square light h7\" fill=\"#ffce9e\" height=\"45\" stroke=\"none\" width=\"45\" x=\"335\" y=\"65\"/><use transform=\"translate(335, 65)\" xlink:href=\"#black-pawn\"/><rect class=\"square light a8\" fill=\"#ffce9e\" height=\"45\" stroke=\"none\" width=\"45\" x=\"20\" y=\"20\"/><use transform=\"translate(20, 20)\" xlink:href=\"#black-rook\"/><rect class=\"square dark b8\" fill=\"#d18b47\" height=\"45\" stroke=\"none\" width=\"45\" x=\"65\" y=\"20\"/><use transform=\"translate(65, 20)\" xlink:href=\"#black-knight\"/><rect class=\"square light c8\" fill=\"#ffce9e\" height=\"45\" stroke=\"none\" width=\"45\" x=\"110\" y=\"20\"/><use transform=\"translate(110, 20)\" xlink:href=\"#black-bishop\"/><rect class=\"square dark d8\" fill=\"#d18b47\" height=\"45\" stroke=\"none\" width=\"45\" x=\"155\" y=\"20\"/><use transform=\"translate(155, 20)\" xlink:href=\"#black-queen\"/><rect class=\"square light e8\" fill=\"#ffce9e\" height=\"45\" stroke=\"none\" width=\"45\" x=\"200\" y=\"20\"/><use transform=\"translate(200, 20)\" xlink:href=\"#black-king\"/><rect class=\"square dark f8\" fill=\"#d18b47\" height=\"45\" stroke=\"none\" width=\"45\" x=\"245\" y=\"20\"/><use transform=\"translate(245, 20)\" xlink:href=\"#black-bishop\"/><rect class=\"square light g8\" fill=\"#ffce9e\" height=\"45\" stroke=\"none\" width=\"45\" x=\"290\" y=\"20\"/><use transform=\"translate(290, 20)\" xlink:href=\"#black-knight\"/><rect class=\"square dark h8\" fill=\"#d18b47\" height=\"45\" stroke=\"none\" width=\"45\" x=\"335\" y=\"20\"/><use transform=\"translate(335, 20)\" xlink:href=\"#black-rook\"/><text alignment-baseline=\"middle\" font-size=\"14\" text-anchor=\"middle\" x=\"42\" y=\"10\">a</text><text alignment-baseline=\"middle\" font-size=\"14\" text-anchor=\"middle\" x=\"42\" y=\"390\">a</text><text alignment-baseline=\"middle\" font-size=\"14\" text-anchor=\"middle\" x=\"87\" y=\"10\">b</text><text alignment-baseline=\"middle\" font-size=\"14\" text-anchor=\"middle\" x=\"87\" y=\"390\">b</text><text alignment-baseline=\"middle\" font-size=\"14\" text-anchor=\"middle\" x=\"132\" y=\"10\">c</text><text alignment-baseline=\"middle\" font-size=\"14\" text-anchor=\"middle\" x=\"132\" y=\"390\">c</text><text alignment-baseline=\"middle\" font-size=\"14\" text-anchor=\"middle\" x=\"177\" y=\"10\">d</text><text alignment-baseline=\"middle\" font-size=\"14\" text-anchor=\"middle\" x=\"177\" y=\"390\">d</text><text alignment-baseline=\"middle\" font-size=\"14\" text-anchor=\"middle\" x=\"222\" y=\"10\">e</text><text alignment-baseline=\"middle\" font-size=\"14\" text-anchor=\"middle\" x=\"222\" y=\"390\">e</text><text alignment-baseline=\"middle\" font-size=\"14\" text-anchor=\"middle\" x=\"267\" y=\"10\">f</text><text alignment-baseline=\"middle\" font-size=\"14\" text-anchor=\"middle\" x=\"267\" y=\"390\">f</text><text alignment-baseline=\"middle\" font-size=\"14\" text-anchor=\"middle\" x=\"312\" y=\"10\">g</text><text alignment-baseline=\"middle\" font-size=\"14\" text-anchor=\"middle\" x=\"312\" y=\"390\">g</text><text alignment-baseline=\"middle\" font-size=\"14\" text-anchor=\"middle\" x=\"357\" y=\"10\">h</text><text alignment-baseline=\"middle\" font-size=\"14\" text-anchor=\"middle\" x=\"357\" y=\"390\">h</text><text alignment-baseline=\"middle\" font-size=\"14\" text-anchor=\"middle\" x=\"10\" y=\"357\">1</text><text alignment-baseline=\"middle\" font-size=\"14\" text-anchor=\"middle\" x=\"390\" y=\"357\">1</text><text alignment-baseline=\"middle\" font-size=\"14\" text-anchor=\"middle\" x=\"10\" y=\"312\">2</text><text alignment-baseline=\"middle\" font-size=\"14\" text-anchor=\"middle\" x=\"390\" y=\"312\">2</text><text alignment-baseline=\"middle\" font-size=\"14\" text-anchor=\"middle\" x=\"10\" y=\"267\">3</text><text alignment-baseline=\"middle\" font-size=\"14\" text-anchor=\"middle\" x=\"390\" y=\"267\">3</text><text alignment-baseline=\"middle\" font-size=\"14\" text-anchor=\"middle\" x=\"10\" y=\"222\">4</text><text alignment-baseline=\"middle\" font-size=\"14\" text-anchor=\"middle\" x=\"390\" y=\"222\">4</text><text alignment-baseline=\"middle\" font-size=\"14\" text-anchor=\"middle\" x=\"10\" y=\"177\">5</text><text alignment-baseline=\"middle\" font-size=\"14\" text-anchor=\"middle\" x=\"390\" y=\"177\">5</text><text alignment-baseline=\"middle\" font-size=\"14\" text-anchor=\"middle\" x=\"10\" y=\"132\">6</text><text alignment-baseline=\"middle\" font-size=\"14\" text-anchor=\"middle\" x=\"390\" y=\"132\">6</text><text alignment-baseline=\"middle\" font-size=\"14\" text-anchor=\"middle\" x=\"10\" y=\"87\">7</text><text alignment-baseline=\"middle\" font-size=\"14\" text-anchor=\"middle\" x=\"390\" y=\"87\">7</text><text alignment-baseline=\"middle\" font-size=\"14\" text-anchor=\"middle\" x=\"10\" y=\"42\">8</text><text alignment-baseline=\"middle\" font-size=\"14\" text-anchor=\"middle\" x=\"390\" y=\"42\">8</text></svg>"
      ],
      "text/plain": [
       "<IPython.core.display.SVG object>"
      ]
     },
     "metadata": {},
     "output_type": "display_data"
    },
    {
     "data": {
      "image/svg+xml": [
       "<svg version=\"1.1\" viewBox=\"0 0 400 400\" xmlns=\"http://www.w3.org/2000/svg\" xmlns:xlink=\"http://www.w3.org/1999/xlink\"><defs><g class=\"white pawn\" id=\"white-pawn\"><path d=\"M22 9c-2.21 0-4 1.79-4 4 0 .89.29 1.71.78 2.38-1.95 1.12-3.28 3.21-3.28 5.62 0 2.03.94 3.84 2.41 5.03-3 1.06-7.41 5.55-7.41 13.47h23c0-7.92-4.41-12.41-7.41-13.47 1.47-1.19 2.41-3 2.41-5.03 0-2.41-1.33-4.5-3.28-5.62.49-.67.78-1.49.78-2.38 0-2.21-1.79-4-4-4z\" fill=\"#fff\" stroke=\"#000\" stroke-linecap=\"round\" stroke-width=\"1.5\"/></g><g class=\"white knight\" fill=\"none\" fill-rule=\"evenodd\" id=\"white-knight\" stroke=\"#000\" stroke-linecap=\"round\" stroke-linejoin=\"round\" stroke-width=\"1.5\"><path d=\"M 22,10 C 32.5,11 38.5,18 38,39 L 15,39 C 15,30 25,32.5 23,18\" style=\"fill:#ffffff; stroke:#000000;\"/><path d=\"M 24,18 C 24.38,20.91 18.45,25.37 16,27 C 13,29 13.18,31.34 11,31 C 9.958,30.06 12.41,27.96 11,28 C 10,28 11.19,29.23 10,30 C 9,30 5.997,31 6,26 C 6,24 12,14 12,14 C 12,14 13.89,12.1 14,10.5 C 13.27,9.506 13.5,8.5 13.5,7.5 C 14.5,6.5 16.5,10 16.5,10 L 18.5,10 C 18.5,10 19.28,8.008 21,7 C 22,7 22,10 22,10\" style=\"fill:#ffffff; stroke:#000000;\"/><path d=\"M 9.5 25.5 A 0.5 0.5 0 1 1 8.5,25.5 A 0.5 0.5 0 1 1 9.5 25.5 z\" style=\"fill:#000000; stroke:#000000;\"/><path d=\"M 15 15.5 A 0.5 1.5 0 1 1 14,15.5 A 0.5 1.5 0 1 1 15 15.5 z\" style=\"fill:#000000; stroke:#000000;\" transform=\"matrix(0.866,0.5,-0.5,0.866,9.693,-5.173)\"/></g><g class=\"white bishop\" fill=\"none\" fill-rule=\"evenodd\" id=\"white-bishop\" stroke=\"#000\" stroke-linecap=\"round\" stroke-linejoin=\"round\" stroke-width=\"1.5\"><g fill=\"#fff\" stroke-linecap=\"butt\"><path d=\"M9 36c3.39-.97 10.11.43 13.5-2 3.39 2.43 10.11 1.03 13.5 2 0 0 1.65.54 3 2-.68.97-1.65.99-3 .5-3.39-.97-10.11.46-13.5-1-3.39 1.46-10.11.03-13.5 1-1.354.49-2.323.47-3-.5 1.354-1.94 3-2 3-2zM15 32c2.5 2.5 12.5 2.5 15 0 .5-1.5 0-2 0-2 0-2.5-2.5-4-2.5-4 5.5-1.5 6-11.5-5-15.5-11 4-10.5 14-5 15.5 0 0-2.5 1.5-2.5 4 0 0-.5.5 0 2zM25 8a2.5 2.5 0 1 1-5 0 2.5 2.5 0 1 1 5 0z\"/></g><path d=\"M17.5 26h10M15 30h15m-7.5-14.5v5M20 18h5\" stroke-linejoin=\"miter\"/></g><g class=\"white rook\" fill=\"#fff\" fill-rule=\"evenodd\" id=\"white-rook\" stroke=\"#000\" stroke-linecap=\"round\" stroke-linejoin=\"round\" stroke-width=\"1.5\"><path d=\"M9 39h27v-3H9v3zM12 36v-4h21v4H12zM11 14V9h4v2h5V9h5v2h5V9h4v5\" stroke-linecap=\"butt\"/><path d=\"M34 14l-3 3H14l-3-3\"/><path d=\"M31 17v12.5H14V17\" stroke-linecap=\"butt\" stroke-linejoin=\"miter\"/><path d=\"M31 29.5l1.5 2.5h-20l1.5-2.5\"/><path d=\"M11 14h23\" fill=\"none\" stroke-linejoin=\"miter\"/></g><g class=\"white queen\" fill=\"#fff\" fill-rule=\"evenodd\" id=\"white-queen\" stroke=\"#000\" stroke-linecap=\"round\" stroke-linejoin=\"round\" stroke-width=\"1.5\"><path d=\"M8 12a2 2 0 1 1-4 0 2 2 0 1 1 4 0zM24.5 7.5a2 2 0 1 1-4 0 2 2 0 1 1 4 0zM41 12a2 2 0 1 1-4 0 2 2 0 1 1 4 0zM16 8.5a2 2 0 1 1-4 0 2 2 0 1 1 4 0zM33 9a2 2 0 1 1-4 0 2 2 0 1 1 4 0z\"/><path d=\"M9 26c8.5-1.5 21-1.5 27 0l2-12-7 11V11l-5.5 13.5-3-15-3 15-5.5-14V25L7 14l2 12zM9 26c0 2 1.5 2 2.5 4 1 1.5 1 1 .5 3.5-1.5 1-1.5 2.5-1.5 2.5-1.5 1.5.5 2.5.5 2.5 6.5 1 16.5 1 23 0 0 0 1.5-1 0-2.5 0 0 .5-1.5-1-2.5-.5-2.5-.5-2 .5-3.5 1-2 2.5-2 2.5-4-8.5-1.5-18.5-1.5-27 0z\" stroke-linecap=\"butt\"/><path d=\"M11.5 30c3.5-1 18.5-1 22 0M12 33.5c6-1 15-1 21 0\" fill=\"none\"/></g><g class=\"white king\" fill=\"none\" fill-rule=\"evenodd\" id=\"white-king\" stroke=\"#000\" stroke-linecap=\"round\" stroke-linejoin=\"round\" stroke-width=\"1.5\"><path d=\"M22.5 11.63V6M20 8h5\" stroke-linejoin=\"miter\"/><path d=\"M22.5 25s4.5-7.5 3-10.5c0 0-1-2.5-3-2.5s-3 2.5-3 2.5c-1.5 3 3 10.5 3 10.5\" fill=\"#fff\" stroke-linecap=\"butt\" stroke-linejoin=\"miter\"/><path d=\"M11.5 37c5.5 3.5 15.5 3.5 21 0v-7s9-4.5 6-10.5c-4-6.5-13.5-3.5-16 4V27v-3.5c-3.5-7.5-13-10.5-16-4-3 6 5 10 5 10V37z\" fill=\"#fff\"/><path d=\"M11.5 30c5.5-3 15.5-3 21 0m-21 3.5c5.5-3 15.5-3 21 0m-21 3.5c5.5-3 15.5-3 21 0\"/></g><g class=\"black pawn\" id=\"black-pawn\"><path d=\"M22 9c-2.21 0-4 1.79-4 4 0 .89.29 1.71.78 2.38-1.95 1.12-3.28 3.21-3.28 5.62 0 2.03.94 3.84 2.41 5.03-3 1.06-7.41 5.55-7.41 13.47h23c0-7.92-4.41-12.41-7.41-13.47 1.47-1.19 2.41-3 2.41-5.03 0-2.41-1.33-4.5-3.28-5.62.49-.67.78-1.49.78-2.38 0-2.21-1.79-4-4-4z\" stroke=\"#000\" stroke-linecap=\"round\" stroke-width=\"1.5\"/></g><g class=\"black knight\" fill=\"none\" fill-rule=\"evenodd\" id=\"black-knight\" stroke=\"#000\" stroke-linecap=\"round\" stroke-linejoin=\"round\" stroke-width=\"1.5\"><path d=\"M 22,10 C 32.5,11 38.5,18 38,39 L 15,39 C 15,30 25,32.5 23,18\" style=\"fill:#000000; stroke:#000000;\"/><path d=\"M 24,18 C 24.38,20.91 18.45,25.37 16,27 C 13,29 13.18,31.34 11,31 C 9.958,30.06 12.41,27.96 11,28 C 10,28 11.19,29.23 10,30 C 9,30 5.997,31 6,26 C 6,24 12,14 12,14 C 12,14 13.89,12.1 14,10.5 C 13.27,9.506 13.5,8.5 13.5,7.5 C 14.5,6.5 16.5,10 16.5,10 L 18.5,10 C 18.5,10 19.28,8.008 21,7 C 22,7 22,10 22,10\" style=\"fill:#000000; stroke:#000000;\"/><path d=\"M 9.5 25.5 A 0.5 0.5 0 1 1 8.5,25.5 A 0.5 0.5 0 1 1 9.5 25.5 z\" style=\"fill:#ececec; stroke:#ececec;\"/><path d=\"M 15 15.5 A 0.5 1.5 0 1 1 14,15.5 A 0.5 1.5 0 1 1 15 15.5 z\" style=\"fill:#ececec; stroke:#ececec;\" transform=\"matrix(0.866,0.5,-0.5,0.866,9.693,-5.173)\"/><path d=\"M 24.55,10.4 L 24.1,11.85 L 24.6,12 C 27.75,13 30.25,14.49 32.5,18.75 C 34.75,23.01 35.75,29.06 35.25,39 L 35.2,39.5 L 37.45,39.5 L 37.5,39 C 38,28.94 36.62,22.15 34.25,17.66 C 31.88,13.17 28.46,11.02 25.06,10.5 L 24.55,10.4 z \" style=\"fill:#ececec; stroke:none;\"/></g><g class=\"black bishop\" fill=\"none\" fill-rule=\"evenodd\" id=\"black-bishop\" stroke=\"#000\" stroke-linecap=\"round\" stroke-linejoin=\"round\" stroke-width=\"1.5\"><path d=\"M9 36c3.39-.97 10.11.43 13.5-2 3.39 2.43 10.11 1.03 13.5 2 0 0 1.65.54 3 2-.68.97-1.65.99-3 .5-3.39-.97-10.11.46-13.5-1-3.39 1.46-10.11.03-13.5 1-1.354.49-2.323.47-3-.5 1.354-1.94 3-2 3-2zm6-4c2.5 2.5 12.5 2.5 15 0 .5-1.5 0-2 0-2 0-2.5-2.5-4-2.5-4 5.5-1.5 6-11.5-5-15.5-11 4-10.5 14-5 15.5 0 0-2.5 1.5-2.5 4 0 0-.5.5 0 2zM25 8a2.5 2.5 0 1 1-5 0 2.5 2.5 0 1 1 5 0z\" fill=\"#000\" stroke-linecap=\"butt\"/><path d=\"M17.5 26h10M15 30h15m-7.5-14.5v5M20 18h5\" stroke=\"#fff\" stroke-linejoin=\"miter\"/></g><g class=\"black rook\" fill=\"#000\" fill-rule=\"evenodd\" id=\"black-rook\" stroke=\"#000\" stroke-linecap=\"round\" stroke-linejoin=\"round\" stroke-width=\"1.5\"><path d=\"M9 39h27v-3H9v3zM12.5 32l1.5-2.5h17l1.5 2.5h-20zM12 36v-4h21v4H12z\" stroke-linecap=\"butt\"/><path d=\"M14 29.5v-13h17v13H14z\" stroke-linecap=\"butt\" stroke-linejoin=\"miter\"/><path d=\"M14 16.5L11 14h23l-3 2.5H14zM11 14V9h4v2h5V9h5v2h5V9h4v5H11z\" stroke-linecap=\"butt\"/><path d=\"M12 35.5h21M13 31.5h19M14 29.5h17M14 16.5h17M11 14h23\" fill=\"none\" stroke=\"#fff\" stroke-linejoin=\"miter\" stroke-width=\"1\"/></g><g class=\"black queen\" fill=\"#000\" fill-rule=\"evenodd\" id=\"black-queen\" stroke=\"#000\" stroke-linecap=\"round\" stroke-linejoin=\"round\" stroke-width=\"1.5\"><g fill=\"#000\" stroke=\"none\"><circle cx=\"6\" cy=\"12\" r=\"2.75\"/><circle cx=\"14\" cy=\"9\" r=\"2.75\"/><circle cx=\"22.5\" cy=\"8\" r=\"2.75\"/><circle cx=\"31\" cy=\"9\" r=\"2.75\"/><circle cx=\"39\" cy=\"12\" r=\"2.75\"/></g><path d=\"M9 26c8.5-1.5 21-1.5 27 0l2.5-12.5L31 25l-.3-14.1-5.2 13.6-3-14.5-3 14.5-5.2-13.6L14 25 6.5 13.5 9 26zM9 26c0 2 1.5 2 2.5 4 1 1.5 1 1 .5 3.5-1.5 1-1.5 2.5-1.5 2.5-1.5 1.5.5 2.5.5 2.5 6.5 1 16.5 1 23 0 0 0 1.5-1 0-2.5 0 0 .5-1.5-1-2.5-.5-2.5-.5-2 .5-3.5 1-2 2.5-2 2.5-4-8.5-1.5-18.5-1.5-27 0z\" stroke-linecap=\"butt\"/><path d=\"M11 38.5a35 35 1 0 0 23 0\" fill=\"none\" stroke-linecap=\"butt\"/><path d=\"M11 29a35 35 1 0 1 23 0M12.5 31.5h20M11.5 34.5a35 35 1 0 0 22 0M10.5 37.5a35 35 1 0 0 24 0\" fill=\"none\" stroke=\"#fff\"/></g><g class=\"black king\" fill=\"none\" fill-rule=\"evenodd\" id=\"black-king\" stroke=\"#000\" stroke-linecap=\"round\" stroke-linejoin=\"round\" stroke-width=\"1.5\"><path d=\"M22.5 11.63V6\" stroke-linejoin=\"miter\"/><path d=\"M22.5 25s4.5-7.5 3-10.5c0 0-1-2.5-3-2.5s-3 2.5-3 2.5c-1.5 3 3 10.5 3 10.5\" fill=\"#000\" stroke-linecap=\"butt\" stroke-linejoin=\"miter\"/><path d=\"M11.5 37c5.5 3.5 15.5 3.5 21 0v-7s9-4.5 6-10.5c-4-6.5-13.5-3.5-16 4V27v-3.5c-3.5-7.5-13-10.5-16-4-3 6 5 10 5 10V37z\" fill=\"#000\"/><path d=\"M20 8h5\" stroke-linejoin=\"miter\"/><path d=\"M32 29.5s8.5-4 6.03-9.65C34.15 14 25 18 22.5 24.5l.01 2.1-.01-2.1C20 18 9.906 14 6.997 19.85c-2.497 5.65 4.853 9 4.853 9M11.5 30c5.5-3 15.5-3 21 0m-21 3.5c5.5-3 15.5-3 21 0m-21 3.5c5.5-3 15.5-3 21 0\" stroke=\"#fff\"/></g></defs><rect class=\"square dark a1\" fill=\"#d18b47\" height=\"45\" stroke=\"none\" width=\"45\" x=\"20\" y=\"335\"/><use transform=\"translate(20, 335)\" xlink:href=\"#white-rook\"/><rect class=\"square light b1\" fill=\"#ffce9e\" height=\"45\" stroke=\"none\" width=\"45\" x=\"65\" y=\"335\"/><use transform=\"translate(65, 335)\" xlink:href=\"#white-knight\"/><rect class=\"square dark c1\" fill=\"#d18b47\" height=\"45\" stroke=\"none\" width=\"45\" x=\"110\" y=\"335\"/><use transform=\"translate(110, 335)\" xlink:href=\"#white-bishop\"/><rect class=\"square light d1\" fill=\"#ffce9e\" height=\"45\" stroke=\"none\" width=\"45\" x=\"155\" y=\"335\"/><use transform=\"translate(155, 335)\" xlink:href=\"#white-queen\"/><rect class=\"square dark e1\" fill=\"#d18b47\" height=\"45\" stroke=\"none\" width=\"45\" x=\"200\" y=\"335\"/><use transform=\"translate(200, 335)\" xlink:href=\"#white-king\"/><rect class=\"square light f1\" fill=\"#ffce9e\" height=\"45\" stroke=\"none\" width=\"45\" x=\"245\" y=\"335\"/><use transform=\"translate(245, 335)\" xlink:href=\"#white-bishop\"/><rect class=\"square dark g1\" fill=\"#d18b47\" height=\"45\" stroke=\"none\" width=\"45\" x=\"290\" y=\"335\"/><rect class=\"square light h1\" fill=\"#ffce9e\" height=\"45\" stroke=\"none\" width=\"45\" x=\"335\" y=\"335\"/><use transform=\"translate(335, 335)\" xlink:href=\"#white-rook\"/><rect class=\"square light a2\" fill=\"#ffce9e\" height=\"45\" stroke=\"none\" width=\"45\" x=\"20\" y=\"290\"/><use transform=\"translate(20, 290)\" xlink:href=\"#white-pawn\"/><rect class=\"square dark b2\" fill=\"#d18b47\" height=\"45\" stroke=\"none\" width=\"45\" x=\"65\" y=\"290\"/><use transform=\"translate(65, 290)\" xlink:href=\"#white-pawn\"/><rect class=\"square light c2\" fill=\"#ffce9e\" height=\"45\" stroke=\"none\" width=\"45\" x=\"110\" y=\"290\"/><use transform=\"translate(110, 290)\" xlink:href=\"#white-pawn\"/><rect class=\"square dark d2\" fill=\"#d18b47\" height=\"45\" stroke=\"none\" width=\"45\" x=\"155\" y=\"290\"/><use transform=\"translate(155, 290)\" xlink:href=\"#white-pawn\"/><rect class=\"square light e2\" fill=\"#ffce9e\" height=\"45\" stroke=\"none\" width=\"45\" x=\"200\" y=\"290\"/><use transform=\"translate(200, 290)\" xlink:href=\"#white-pawn\"/><rect class=\"square dark f2\" fill=\"#d18b47\" height=\"45\" stroke=\"none\" width=\"45\" x=\"245\" y=\"290\"/><use transform=\"translate(245, 290)\" xlink:href=\"#white-pawn\"/><rect class=\"square light g2\" fill=\"#ffce9e\" height=\"45\" stroke=\"none\" width=\"45\" x=\"290\" y=\"290\"/><use transform=\"translate(290, 290)\" xlink:href=\"#white-pawn\"/><rect class=\"square dark h2\" fill=\"#d18b47\" height=\"45\" stroke=\"none\" width=\"45\" x=\"335\" y=\"290\"/><use transform=\"translate(335, 290)\" xlink:href=\"#white-pawn\"/><rect class=\"square dark a3\" fill=\"#d18b47\" height=\"45\" stroke=\"none\" width=\"45\" x=\"20\" y=\"245\"/><rect class=\"square light b3\" fill=\"#ffce9e\" height=\"45\" stroke=\"none\" width=\"45\" x=\"65\" y=\"245\"/><rect class=\"square dark c3\" fill=\"#d18b47\" height=\"45\" stroke=\"none\" width=\"45\" x=\"110\" y=\"245\"/><rect class=\"square light d3\" fill=\"#ffce9e\" height=\"45\" stroke=\"none\" width=\"45\" x=\"155\" y=\"245\"/><rect class=\"square dark e3\" fill=\"#d18b47\" height=\"45\" stroke=\"none\" width=\"45\" x=\"200\" y=\"245\"/><rect class=\"square light f3\" fill=\"#ffce9e\" height=\"45\" stroke=\"none\" width=\"45\" x=\"245\" y=\"245\"/><rect class=\"square dark g3\" fill=\"#d18b47\" height=\"45\" stroke=\"none\" width=\"45\" x=\"290\" y=\"245\"/><rect class=\"square light h3\" fill=\"#ffce9e\" height=\"45\" stroke=\"none\" width=\"45\" x=\"335\" y=\"245\"/><use transform=\"translate(335, 245)\" xlink:href=\"#white-knight\"/><rect class=\"square light a4\" fill=\"#ffce9e\" height=\"45\" stroke=\"none\" width=\"45\" x=\"20\" y=\"200\"/><rect class=\"square dark b4\" fill=\"#d18b47\" height=\"45\" stroke=\"none\" width=\"45\" x=\"65\" y=\"200\"/><rect class=\"square light c4\" fill=\"#ffce9e\" height=\"45\" stroke=\"none\" width=\"45\" x=\"110\" y=\"200\"/><rect class=\"square dark d4\" fill=\"#d18b47\" height=\"45\" stroke=\"none\" width=\"45\" x=\"155\" y=\"200\"/><rect class=\"square light e4\" fill=\"#ffce9e\" height=\"45\" stroke=\"none\" width=\"45\" x=\"200\" y=\"200\"/><rect class=\"square dark f4\" fill=\"#d18b47\" height=\"45\" stroke=\"none\" width=\"45\" x=\"245\" y=\"200\"/><rect class=\"square light g4\" fill=\"#ffce9e\" height=\"45\" stroke=\"none\" width=\"45\" x=\"290\" y=\"200\"/><rect class=\"square dark h4\" fill=\"#d18b47\" height=\"45\" stroke=\"none\" width=\"45\" x=\"335\" y=\"200\"/><rect class=\"square dark a5\" fill=\"#d18b47\" height=\"45\" stroke=\"none\" width=\"45\" x=\"20\" y=\"155\"/><rect class=\"square light b5\" fill=\"#ffce9e\" height=\"45\" stroke=\"none\" width=\"45\" x=\"65\" y=\"155\"/><rect class=\"square dark c5\" fill=\"#d18b47\" height=\"45\" stroke=\"none\" width=\"45\" x=\"110\" y=\"155\"/><rect class=\"square light d5\" fill=\"#ffce9e\" height=\"45\" stroke=\"none\" width=\"45\" x=\"155\" y=\"155\"/><rect class=\"square dark e5\" fill=\"#d18b47\" height=\"45\" stroke=\"none\" width=\"45\" x=\"200\" y=\"155\"/><use transform=\"translate(200, 155)\" xlink:href=\"#black-pawn\"/><rect class=\"square light f5\" fill=\"#ffce9e\" height=\"45\" stroke=\"none\" width=\"45\" x=\"245\" y=\"155\"/><rect class=\"square dark g5\" fill=\"#d18b47\" height=\"45\" stroke=\"none\" width=\"45\" x=\"290\" y=\"155\"/><rect class=\"square light h5\" fill=\"#ffce9e\" height=\"45\" stroke=\"none\" width=\"45\" x=\"335\" y=\"155\"/><rect class=\"square light a6\" fill=\"#ffce9e\" height=\"45\" stroke=\"none\" width=\"45\" x=\"20\" y=\"110\"/><rect class=\"square dark b6\" fill=\"#d18b47\" height=\"45\" stroke=\"none\" width=\"45\" x=\"65\" y=\"110\"/><rect class=\"square light c6\" fill=\"#ffce9e\" height=\"45\" stroke=\"none\" width=\"45\" x=\"110\" y=\"110\"/><rect class=\"square dark d6\" fill=\"#d18b47\" height=\"45\" stroke=\"none\" width=\"45\" x=\"155\" y=\"110\"/><rect class=\"square light e6\" fill=\"#ffce9e\" height=\"45\" stroke=\"none\" width=\"45\" x=\"200\" y=\"110\"/><rect class=\"square dark f6\" fill=\"#d18b47\" height=\"45\" stroke=\"none\" width=\"45\" x=\"245\" y=\"110\"/><rect class=\"square light g6\" fill=\"#ffce9e\" height=\"45\" stroke=\"none\" width=\"45\" x=\"290\" y=\"110\"/><rect class=\"square dark h6\" fill=\"#d18b47\" height=\"45\" stroke=\"none\" width=\"45\" x=\"335\" y=\"110\"/><rect class=\"square dark a7\" fill=\"#d18b47\" height=\"45\" stroke=\"none\" width=\"45\" x=\"20\" y=\"65\"/><use transform=\"translate(20, 65)\" xlink:href=\"#black-pawn\"/><rect class=\"square light b7\" fill=\"#ffce9e\" height=\"45\" stroke=\"none\" width=\"45\" x=\"65\" y=\"65\"/><use transform=\"translate(65, 65)\" xlink:href=\"#black-pawn\"/><rect class=\"square dark c7\" fill=\"#d18b47\" height=\"45\" stroke=\"none\" width=\"45\" x=\"110\" y=\"65\"/><use transform=\"translate(110, 65)\" xlink:href=\"#black-pawn\"/><rect class=\"square light d7\" fill=\"#ffce9e\" height=\"45\" stroke=\"none\" width=\"45\" x=\"155\" y=\"65\"/><use transform=\"translate(155, 65)\" xlink:href=\"#black-pawn\"/><rect class=\"square dark e7\" fill=\"#d18b47\" height=\"45\" stroke=\"none\" width=\"45\" x=\"200\" y=\"65\"/><rect class=\"square light f7\" fill=\"#ffce9e\" height=\"45\" stroke=\"none\" width=\"45\" x=\"245\" y=\"65\"/><use transform=\"translate(245, 65)\" xlink:href=\"#black-pawn\"/><rect class=\"square dark g7\" fill=\"#d18b47\" height=\"45\" stroke=\"none\" width=\"45\" x=\"290\" y=\"65\"/><use transform=\"translate(290, 65)\" xlink:href=\"#black-pawn\"/><rect class=\"square light h7\" fill=\"#ffce9e\" height=\"45\" stroke=\"none\" width=\"45\" x=\"335\" y=\"65\"/><use transform=\"translate(335, 65)\" xlink:href=\"#black-pawn\"/><rect class=\"square light a8\" fill=\"#ffce9e\" height=\"45\" stroke=\"none\" width=\"45\" x=\"20\" y=\"20\"/><use transform=\"translate(20, 20)\" xlink:href=\"#black-rook\"/><rect class=\"square dark b8\" fill=\"#d18b47\" height=\"45\" stroke=\"none\" width=\"45\" x=\"65\" y=\"20\"/><use transform=\"translate(65, 20)\" xlink:href=\"#black-knight\"/><rect class=\"square light c8\" fill=\"#ffce9e\" height=\"45\" stroke=\"none\" width=\"45\" x=\"110\" y=\"20\"/><use transform=\"translate(110, 20)\" xlink:href=\"#black-bishop\"/><rect class=\"square dark d8\" fill=\"#d18b47\" height=\"45\" stroke=\"none\" width=\"45\" x=\"155\" y=\"20\"/><use transform=\"translate(155, 20)\" xlink:href=\"#black-queen\"/><rect class=\"square light e8\" fill=\"#ffce9e\" height=\"45\" stroke=\"none\" width=\"45\" x=\"200\" y=\"20\"/><use transform=\"translate(200, 20)\" xlink:href=\"#black-king\"/><rect class=\"square dark f8\" fill=\"#d18b47\" height=\"45\" stroke=\"none\" width=\"45\" x=\"245\" y=\"20\"/><use transform=\"translate(245, 20)\" xlink:href=\"#black-bishop\"/><rect class=\"square light g8\" fill=\"#ffce9e\" height=\"45\" stroke=\"none\" width=\"45\" x=\"290\" y=\"20\"/><use transform=\"translate(290, 20)\" xlink:href=\"#black-knight\"/><rect class=\"square dark h8\" fill=\"#d18b47\" height=\"45\" stroke=\"none\" width=\"45\" x=\"335\" y=\"20\"/><use transform=\"translate(335, 20)\" xlink:href=\"#black-rook\"/><text alignment-baseline=\"middle\" font-size=\"14\" text-anchor=\"middle\" x=\"42\" y=\"10\">a</text><text alignment-baseline=\"middle\" font-size=\"14\" text-anchor=\"middle\" x=\"42\" y=\"390\">a</text><text alignment-baseline=\"middle\" font-size=\"14\" text-anchor=\"middle\" x=\"87\" y=\"10\">b</text><text alignment-baseline=\"middle\" font-size=\"14\" text-anchor=\"middle\" x=\"87\" y=\"390\">b</text><text alignment-baseline=\"middle\" font-size=\"14\" text-anchor=\"middle\" x=\"132\" y=\"10\">c</text><text alignment-baseline=\"middle\" font-size=\"14\" text-anchor=\"middle\" x=\"132\" y=\"390\">c</text><text alignment-baseline=\"middle\" font-size=\"14\" text-anchor=\"middle\" x=\"177\" y=\"10\">d</text><text alignment-baseline=\"middle\" font-size=\"14\" text-anchor=\"middle\" x=\"177\" y=\"390\">d</text><text alignment-baseline=\"middle\" font-size=\"14\" text-anchor=\"middle\" x=\"222\" y=\"10\">e</text><text alignment-baseline=\"middle\" font-size=\"14\" text-anchor=\"middle\" x=\"222\" y=\"390\">e</text><text alignment-baseline=\"middle\" font-size=\"14\" text-anchor=\"middle\" x=\"267\" y=\"10\">f</text><text alignment-baseline=\"middle\" font-size=\"14\" text-anchor=\"middle\" x=\"267\" y=\"390\">f</text><text alignment-baseline=\"middle\" font-size=\"14\" text-anchor=\"middle\" x=\"312\" y=\"10\">g</text><text alignment-baseline=\"middle\" font-size=\"14\" text-anchor=\"middle\" x=\"312\" y=\"390\">g</text><text alignment-baseline=\"middle\" font-size=\"14\" text-anchor=\"middle\" x=\"357\" y=\"10\">h</text><text alignment-baseline=\"middle\" font-size=\"14\" text-anchor=\"middle\" x=\"357\" y=\"390\">h</text><text alignment-baseline=\"middle\" font-size=\"14\" text-anchor=\"middle\" x=\"10\" y=\"357\">1</text><text alignment-baseline=\"middle\" font-size=\"14\" text-anchor=\"middle\" x=\"390\" y=\"357\">1</text><text alignment-baseline=\"middle\" font-size=\"14\" text-anchor=\"middle\" x=\"10\" y=\"312\">2</text><text alignment-baseline=\"middle\" font-size=\"14\" text-anchor=\"middle\" x=\"390\" y=\"312\">2</text><text alignment-baseline=\"middle\" font-size=\"14\" text-anchor=\"middle\" x=\"10\" y=\"267\">3</text><text alignment-baseline=\"middle\" font-size=\"14\" text-anchor=\"middle\" x=\"390\" y=\"267\">3</text><text alignment-baseline=\"middle\" font-size=\"14\" text-anchor=\"middle\" x=\"10\" y=\"222\">4</text><text alignment-baseline=\"middle\" font-size=\"14\" text-anchor=\"middle\" x=\"390\" y=\"222\">4</text><text alignment-baseline=\"middle\" font-size=\"14\" text-anchor=\"middle\" x=\"10\" y=\"177\">5</text><text alignment-baseline=\"middle\" font-size=\"14\" text-anchor=\"middle\" x=\"390\" y=\"177\">5</text><text alignment-baseline=\"middle\" font-size=\"14\" text-anchor=\"middle\" x=\"10\" y=\"132\">6</text><text alignment-baseline=\"middle\" font-size=\"14\" text-anchor=\"middle\" x=\"390\" y=\"132\">6</text><text alignment-baseline=\"middle\" font-size=\"14\" text-anchor=\"middle\" x=\"10\" y=\"87\">7</text><text alignment-baseline=\"middle\" font-size=\"14\" text-anchor=\"middle\" x=\"390\" y=\"87\">7</text><text alignment-baseline=\"middle\" font-size=\"14\" text-anchor=\"middle\" x=\"10\" y=\"42\">8</text><text alignment-baseline=\"middle\" font-size=\"14\" text-anchor=\"middle\" x=\"390\" y=\"42\">8</text></svg>"
      ],
      "text/plain": [
       "<IPython.core.display.SVG object>"
      ]
     },
     "metadata": {},
     "output_type": "display_data"
    },
    {
     "name": "stdout",
     "output_type": "stream",
     "text": [
      "Legal moves:\n",
      "['h3g5', 'h3f4', 'h3g1', 'h1g1', 'b1c3', 'b1a3', 'g2g3', 'f2f3', 'e2e3', 'd2d3', 'c2c3', 'b2b3', 'a2a3', 'g2g4', 'f2f4', 'e2e4', 'd2d4', 'c2c4', 'b2b4', 'a2a4']\n",
      "Please enter your move: h3g5\n"
     ]
    },
    {
     "data": {
      "image/svg+xml": [
       "<svg version=\"1.1\" viewBox=\"0 0 400 400\" xmlns=\"http://www.w3.org/2000/svg\" xmlns:xlink=\"http://www.w3.org/1999/xlink\"><defs><g class=\"white pawn\" id=\"white-pawn\"><path d=\"M22 9c-2.21 0-4 1.79-4 4 0 .89.29 1.71.78 2.38-1.95 1.12-3.28 3.21-3.28 5.62 0 2.03.94 3.84 2.41 5.03-3 1.06-7.41 5.55-7.41 13.47h23c0-7.92-4.41-12.41-7.41-13.47 1.47-1.19 2.41-3 2.41-5.03 0-2.41-1.33-4.5-3.28-5.62.49-.67.78-1.49.78-2.38 0-2.21-1.79-4-4-4z\" fill=\"#fff\" stroke=\"#000\" stroke-linecap=\"round\" stroke-width=\"1.5\"/></g><g class=\"white knight\" fill=\"none\" fill-rule=\"evenodd\" id=\"white-knight\" stroke=\"#000\" stroke-linecap=\"round\" stroke-linejoin=\"round\" stroke-width=\"1.5\"><path d=\"M 22,10 C 32.5,11 38.5,18 38,39 L 15,39 C 15,30 25,32.5 23,18\" style=\"fill:#ffffff; stroke:#000000;\"/><path d=\"M 24,18 C 24.38,20.91 18.45,25.37 16,27 C 13,29 13.18,31.34 11,31 C 9.958,30.06 12.41,27.96 11,28 C 10,28 11.19,29.23 10,30 C 9,30 5.997,31 6,26 C 6,24 12,14 12,14 C 12,14 13.89,12.1 14,10.5 C 13.27,9.506 13.5,8.5 13.5,7.5 C 14.5,6.5 16.5,10 16.5,10 L 18.5,10 C 18.5,10 19.28,8.008 21,7 C 22,7 22,10 22,10\" style=\"fill:#ffffff; stroke:#000000;\"/><path d=\"M 9.5 25.5 A 0.5 0.5 0 1 1 8.5,25.5 A 0.5 0.5 0 1 1 9.5 25.5 z\" style=\"fill:#000000; stroke:#000000;\"/><path d=\"M 15 15.5 A 0.5 1.5 0 1 1 14,15.5 A 0.5 1.5 0 1 1 15 15.5 z\" style=\"fill:#000000; stroke:#000000;\" transform=\"matrix(0.866,0.5,-0.5,0.866,9.693,-5.173)\"/></g><g class=\"white bishop\" fill=\"none\" fill-rule=\"evenodd\" id=\"white-bishop\" stroke=\"#000\" stroke-linecap=\"round\" stroke-linejoin=\"round\" stroke-width=\"1.5\"><g fill=\"#fff\" stroke-linecap=\"butt\"><path d=\"M9 36c3.39-.97 10.11.43 13.5-2 3.39 2.43 10.11 1.03 13.5 2 0 0 1.65.54 3 2-.68.97-1.65.99-3 .5-3.39-.97-10.11.46-13.5-1-3.39 1.46-10.11.03-13.5 1-1.354.49-2.323.47-3-.5 1.354-1.94 3-2 3-2zM15 32c2.5 2.5 12.5 2.5 15 0 .5-1.5 0-2 0-2 0-2.5-2.5-4-2.5-4 5.5-1.5 6-11.5-5-15.5-11 4-10.5 14-5 15.5 0 0-2.5 1.5-2.5 4 0 0-.5.5 0 2zM25 8a2.5 2.5 0 1 1-5 0 2.5 2.5 0 1 1 5 0z\"/></g><path d=\"M17.5 26h10M15 30h15m-7.5-14.5v5M20 18h5\" stroke-linejoin=\"miter\"/></g><g class=\"white rook\" fill=\"#fff\" fill-rule=\"evenodd\" id=\"white-rook\" stroke=\"#000\" stroke-linecap=\"round\" stroke-linejoin=\"round\" stroke-width=\"1.5\"><path d=\"M9 39h27v-3H9v3zM12 36v-4h21v4H12zM11 14V9h4v2h5V9h5v2h5V9h4v5\" stroke-linecap=\"butt\"/><path d=\"M34 14l-3 3H14l-3-3\"/><path d=\"M31 17v12.5H14V17\" stroke-linecap=\"butt\" stroke-linejoin=\"miter\"/><path d=\"M31 29.5l1.5 2.5h-20l1.5-2.5\"/><path d=\"M11 14h23\" fill=\"none\" stroke-linejoin=\"miter\"/></g><g class=\"white queen\" fill=\"#fff\" fill-rule=\"evenodd\" id=\"white-queen\" stroke=\"#000\" stroke-linecap=\"round\" stroke-linejoin=\"round\" stroke-width=\"1.5\"><path d=\"M8 12a2 2 0 1 1-4 0 2 2 0 1 1 4 0zM24.5 7.5a2 2 0 1 1-4 0 2 2 0 1 1 4 0zM41 12a2 2 0 1 1-4 0 2 2 0 1 1 4 0zM16 8.5a2 2 0 1 1-4 0 2 2 0 1 1 4 0zM33 9a2 2 0 1 1-4 0 2 2 0 1 1 4 0z\"/><path d=\"M9 26c8.5-1.5 21-1.5 27 0l2-12-7 11V11l-5.5 13.5-3-15-3 15-5.5-14V25L7 14l2 12zM9 26c0 2 1.5 2 2.5 4 1 1.5 1 1 .5 3.5-1.5 1-1.5 2.5-1.5 2.5-1.5 1.5.5 2.5.5 2.5 6.5 1 16.5 1 23 0 0 0 1.5-1 0-2.5 0 0 .5-1.5-1-2.5-.5-2.5-.5-2 .5-3.5 1-2 2.5-2 2.5-4-8.5-1.5-18.5-1.5-27 0z\" stroke-linecap=\"butt\"/><path d=\"M11.5 30c3.5-1 18.5-1 22 0M12 33.5c6-1 15-1 21 0\" fill=\"none\"/></g><g class=\"white king\" fill=\"none\" fill-rule=\"evenodd\" id=\"white-king\" stroke=\"#000\" stroke-linecap=\"round\" stroke-linejoin=\"round\" stroke-width=\"1.5\"><path d=\"M22.5 11.63V6M20 8h5\" stroke-linejoin=\"miter\"/><path d=\"M22.5 25s4.5-7.5 3-10.5c0 0-1-2.5-3-2.5s-3 2.5-3 2.5c-1.5 3 3 10.5 3 10.5\" fill=\"#fff\" stroke-linecap=\"butt\" stroke-linejoin=\"miter\"/><path d=\"M11.5 37c5.5 3.5 15.5 3.5 21 0v-7s9-4.5 6-10.5c-4-6.5-13.5-3.5-16 4V27v-3.5c-3.5-7.5-13-10.5-16-4-3 6 5 10 5 10V37z\" fill=\"#fff\"/><path d=\"M11.5 30c5.5-3 15.5-3 21 0m-21 3.5c5.5-3 15.5-3 21 0m-21 3.5c5.5-3 15.5-3 21 0\"/></g><g class=\"black pawn\" id=\"black-pawn\"><path d=\"M22 9c-2.21 0-4 1.79-4 4 0 .89.29 1.71.78 2.38-1.95 1.12-3.28 3.21-3.28 5.62 0 2.03.94 3.84 2.41 5.03-3 1.06-7.41 5.55-7.41 13.47h23c0-7.92-4.41-12.41-7.41-13.47 1.47-1.19 2.41-3 2.41-5.03 0-2.41-1.33-4.5-3.28-5.62.49-.67.78-1.49.78-2.38 0-2.21-1.79-4-4-4z\" stroke=\"#000\" stroke-linecap=\"round\" stroke-width=\"1.5\"/></g><g class=\"black knight\" fill=\"none\" fill-rule=\"evenodd\" id=\"black-knight\" stroke=\"#000\" stroke-linecap=\"round\" stroke-linejoin=\"round\" stroke-width=\"1.5\"><path d=\"M 22,10 C 32.5,11 38.5,18 38,39 L 15,39 C 15,30 25,32.5 23,18\" style=\"fill:#000000; stroke:#000000;\"/><path d=\"M 24,18 C 24.38,20.91 18.45,25.37 16,27 C 13,29 13.18,31.34 11,31 C 9.958,30.06 12.41,27.96 11,28 C 10,28 11.19,29.23 10,30 C 9,30 5.997,31 6,26 C 6,24 12,14 12,14 C 12,14 13.89,12.1 14,10.5 C 13.27,9.506 13.5,8.5 13.5,7.5 C 14.5,6.5 16.5,10 16.5,10 L 18.5,10 C 18.5,10 19.28,8.008 21,7 C 22,7 22,10 22,10\" style=\"fill:#000000; stroke:#000000;\"/><path d=\"M 9.5 25.5 A 0.5 0.5 0 1 1 8.5,25.5 A 0.5 0.5 0 1 1 9.5 25.5 z\" style=\"fill:#ececec; stroke:#ececec;\"/><path d=\"M 15 15.5 A 0.5 1.5 0 1 1 14,15.5 A 0.5 1.5 0 1 1 15 15.5 z\" style=\"fill:#ececec; stroke:#ececec;\" transform=\"matrix(0.866,0.5,-0.5,0.866,9.693,-5.173)\"/><path d=\"M 24.55,10.4 L 24.1,11.85 L 24.6,12 C 27.75,13 30.25,14.49 32.5,18.75 C 34.75,23.01 35.75,29.06 35.25,39 L 35.2,39.5 L 37.45,39.5 L 37.5,39 C 38,28.94 36.62,22.15 34.25,17.66 C 31.88,13.17 28.46,11.02 25.06,10.5 L 24.55,10.4 z \" style=\"fill:#ececec; stroke:none;\"/></g><g class=\"black bishop\" fill=\"none\" fill-rule=\"evenodd\" id=\"black-bishop\" stroke=\"#000\" stroke-linecap=\"round\" stroke-linejoin=\"round\" stroke-width=\"1.5\"><path d=\"M9 36c3.39-.97 10.11.43 13.5-2 3.39 2.43 10.11 1.03 13.5 2 0 0 1.65.54 3 2-.68.97-1.65.99-3 .5-3.39-.97-10.11.46-13.5-1-3.39 1.46-10.11.03-13.5 1-1.354.49-2.323.47-3-.5 1.354-1.94 3-2 3-2zm6-4c2.5 2.5 12.5 2.5 15 0 .5-1.5 0-2 0-2 0-2.5-2.5-4-2.5-4 5.5-1.5 6-11.5-5-15.5-11 4-10.5 14-5 15.5 0 0-2.5 1.5-2.5 4 0 0-.5.5 0 2zM25 8a2.5 2.5 0 1 1-5 0 2.5 2.5 0 1 1 5 0z\" fill=\"#000\" stroke-linecap=\"butt\"/><path d=\"M17.5 26h10M15 30h15m-7.5-14.5v5M20 18h5\" stroke=\"#fff\" stroke-linejoin=\"miter\"/></g><g class=\"black rook\" fill=\"#000\" fill-rule=\"evenodd\" id=\"black-rook\" stroke=\"#000\" stroke-linecap=\"round\" stroke-linejoin=\"round\" stroke-width=\"1.5\"><path d=\"M9 39h27v-3H9v3zM12.5 32l1.5-2.5h17l1.5 2.5h-20zM12 36v-4h21v4H12z\" stroke-linecap=\"butt\"/><path d=\"M14 29.5v-13h17v13H14z\" stroke-linecap=\"butt\" stroke-linejoin=\"miter\"/><path d=\"M14 16.5L11 14h23l-3 2.5H14zM11 14V9h4v2h5V9h5v2h5V9h4v5H11z\" stroke-linecap=\"butt\"/><path d=\"M12 35.5h21M13 31.5h19M14 29.5h17M14 16.5h17M11 14h23\" fill=\"none\" stroke=\"#fff\" stroke-linejoin=\"miter\" stroke-width=\"1\"/></g><g class=\"black queen\" fill=\"#000\" fill-rule=\"evenodd\" id=\"black-queen\" stroke=\"#000\" stroke-linecap=\"round\" stroke-linejoin=\"round\" stroke-width=\"1.5\"><g fill=\"#000\" stroke=\"none\"><circle cx=\"6\" cy=\"12\" r=\"2.75\"/><circle cx=\"14\" cy=\"9\" r=\"2.75\"/><circle cx=\"22.5\" cy=\"8\" r=\"2.75\"/><circle cx=\"31\" cy=\"9\" r=\"2.75\"/><circle cx=\"39\" cy=\"12\" r=\"2.75\"/></g><path d=\"M9 26c8.5-1.5 21-1.5 27 0l2.5-12.5L31 25l-.3-14.1-5.2 13.6-3-14.5-3 14.5-5.2-13.6L14 25 6.5 13.5 9 26zM9 26c0 2 1.5 2 2.5 4 1 1.5 1 1 .5 3.5-1.5 1-1.5 2.5-1.5 2.5-1.5 1.5.5 2.5.5 2.5 6.5 1 16.5 1 23 0 0 0 1.5-1 0-2.5 0 0 .5-1.5-1-2.5-.5-2.5-.5-2 .5-3.5 1-2 2.5-2 2.5-4-8.5-1.5-18.5-1.5-27 0z\" stroke-linecap=\"butt\"/><path d=\"M11 38.5a35 35 1 0 0 23 0\" fill=\"none\" stroke-linecap=\"butt\"/><path d=\"M11 29a35 35 1 0 1 23 0M12.5 31.5h20M11.5 34.5a35 35 1 0 0 22 0M10.5 37.5a35 35 1 0 0 24 0\" fill=\"none\" stroke=\"#fff\"/></g><g class=\"black king\" fill=\"none\" fill-rule=\"evenodd\" id=\"black-king\" stroke=\"#000\" stroke-linecap=\"round\" stroke-linejoin=\"round\" stroke-width=\"1.5\"><path d=\"M22.5 11.63V6\" stroke-linejoin=\"miter\"/><path d=\"M22.5 25s4.5-7.5 3-10.5c0 0-1-2.5-3-2.5s-3 2.5-3 2.5c-1.5 3 3 10.5 3 10.5\" fill=\"#000\" stroke-linecap=\"butt\" stroke-linejoin=\"miter\"/><path d=\"M11.5 37c5.5 3.5 15.5 3.5 21 0v-7s9-4.5 6-10.5c-4-6.5-13.5-3.5-16 4V27v-3.5c-3.5-7.5-13-10.5-16-4-3 6 5 10 5 10V37z\" fill=\"#000\"/><path d=\"M20 8h5\" stroke-linejoin=\"miter\"/><path d=\"M32 29.5s8.5-4 6.03-9.65C34.15 14 25 18 22.5 24.5l.01 2.1-.01-2.1C20 18 9.906 14 6.997 19.85c-2.497 5.65 4.853 9 4.853 9M11.5 30c5.5-3 15.5-3 21 0m-21 3.5c5.5-3 15.5-3 21 0m-21 3.5c5.5-3 15.5-3 21 0\" stroke=\"#fff\"/></g></defs><rect class=\"square dark a1\" fill=\"#d18b47\" height=\"45\" stroke=\"none\" width=\"45\" x=\"20\" y=\"335\"/><use transform=\"translate(20, 335)\" xlink:href=\"#white-rook\"/><rect class=\"square light b1\" fill=\"#ffce9e\" height=\"45\" stroke=\"none\" width=\"45\" x=\"65\" y=\"335\"/><use transform=\"translate(65, 335)\" xlink:href=\"#white-knight\"/><rect class=\"square dark c1\" fill=\"#d18b47\" height=\"45\" stroke=\"none\" width=\"45\" x=\"110\" y=\"335\"/><use transform=\"translate(110, 335)\" xlink:href=\"#white-bishop\"/><rect class=\"square light d1\" fill=\"#ffce9e\" height=\"45\" stroke=\"none\" width=\"45\" x=\"155\" y=\"335\"/><use transform=\"translate(155, 335)\" xlink:href=\"#white-queen\"/><rect class=\"square dark e1\" fill=\"#d18b47\" height=\"45\" stroke=\"none\" width=\"45\" x=\"200\" y=\"335\"/><use transform=\"translate(200, 335)\" xlink:href=\"#white-king\"/><rect class=\"square light f1\" fill=\"#ffce9e\" height=\"45\" stroke=\"none\" width=\"45\" x=\"245\" y=\"335\"/><use transform=\"translate(245, 335)\" xlink:href=\"#white-bishop\"/><rect class=\"square dark g1\" fill=\"#d18b47\" height=\"45\" stroke=\"none\" width=\"45\" x=\"290\" y=\"335\"/><rect class=\"square light h1\" fill=\"#ffce9e\" height=\"45\" stroke=\"none\" width=\"45\" x=\"335\" y=\"335\"/><use transform=\"translate(335, 335)\" xlink:href=\"#white-rook\"/><rect class=\"square light a2\" fill=\"#ffce9e\" height=\"45\" stroke=\"none\" width=\"45\" x=\"20\" y=\"290\"/><use transform=\"translate(20, 290)\" xlink:href=\"#white-pawn\"/><rect class=\"square dark b2\" fill=\"#d18b47\" height=\"45\" stroke=\"none\" width=\"45\" x=\"65\" y=\"290\"/><use transform=\"translate(65, 290)\" xlink:href=\"#white-pawn\"/><rect class=\"square light c2\" fill=\"#ffce9e\" height=\"45\" stroke=\"none\" width=\"45\" x=\"110\" y=\"290\"/><use transform=\"translate(110, 290)\" xlink:href=\"#white-pawn\"/><rect class=\"square dark d2\" fill=\"#d18b47\" height=\"45\" stroke=\"none\" width=\"45\" x=\"155\" y=\"290\"/><use transform=\"translate(155, 290)\" xlink:href=\"#white-pawn\"/><rect class=\"square light e2\" fill=\"#ffce9e\" height=\"45\" stroke=\"none\" width=\"45\" x=\"200\" y=\"290\"/><use transform=\"translate(200, 290)\" xlink:href=\"#white-pawn\"/><rect class=\"square dark f2\" fill=\"#d18b47\" height=\"45\" stroke=\"none\" width=\"45\" x=\"245\" y=\"290\"/><use transform=\"translate(245, 290)\" xlink:href=\"#white-pawn\"/><rect class=\"square light g2\" fill=\"#ffce9e\" height=\"45\" stroke=\"none\" width=\"45\" x=\"290\" y=\"290\"/><use transform=\"translate(290, 290)\" xlink:href=\"#white-pawn\"/><rect class=\"square dark h2\" fill=\"#d18b47\" height=\"45\" stroke=\"none\" width=\"45\" x=\"335\" y=\"290\"/><use transform=\"translate(335, 290)\" xlink:href=\"#white-pawn\"/><rect class=\"square dark a3\" fill=\"#d18b47\" height=\"45\" stroke=\"none\" width=\"45\" x=\"20\" y=\"245\"/><rect class=\"square light b3\" fill=\"#ffce9e\" height=\"45\" stroke=\"none\" width=\"45\" x=\"65\" y=\"245\"/><rect class=\"square dark c3\" fill=\"#d18b47\" height=\"45\" stroke=\"none\" width=\"45\" x=\"110\" y=\"245\"/><rect class=\"square light d3\" fill=\"#ffce9e\" height=\"45\" stroke=\"none\" width=\"45\" x=\"155\" y=\"245\"/><rect class=\"square dark e3\" fill=\"#d18b47\" height=\"45\" stroke=\"none\" width=\"45\" x=\"200\" y=\"245\"/><rect class=\"square light f3\" fill=\"#ffce9e\" height=\"45\" stroke=\"none\" width=\"45\" x=\"245\" y=\"245\"/><rect class=\"square dark g3\" fill=\"#d18b47\" height=\"45\" stroke=\"none\" width=\"45\" x=\"290\" y=\"245\"/><rect class=\"square light h3\" fill=\"#ffce9e\" height=\"45\" stroke=\"none\" width=\"45\" x=\"335\" y=\"245\"/><rect class=\"square light a4\" fill=\"#ffce9e\" height=\"45\" stroke=\"none\" width=\"45\" x=\"20\" y=\"200\"/><rect class=\"square dark b4\" fill=\"#d18b47\" height=\"45\" stroke=\"none\" width=\"45\" x=\"65\" y=\"200\"/><rect class=\"square light c4\" fill=\"#ffce9e\" height=\"45\" stroke=\"none\" width=\"45\" x=\"110\" y=\"200\"/><rect class=\"square dark d4\" fill=\"#d18b47\" height=\"45\" stroke=\"none\" width=\"45\" x=\"155\" y=\"200\"/><rect class=\"square light e4\" fill=\"#ffce9e\" height=\"45\" stroke=\"none\" width=\"45\" x=\"200\" y=\"200\"/><rect class=\"square dark f4\" fill=\"#d18b47\" height=\"45\" stroke=\"none\" width=\"45\" x=\"245\" y=\"200\"/><rect class=\"square light g4\" fill=\"#ffce9e\" height=\"45\" stroke=\"none\" width=\"45\" x=\"290\" y=\"200\"/><rect class=\"square dark h4\" fill=\"#d18b47\" height=\"45\" stroke=\"none\" width=\"45\" x=\"335\" y=\"200\"/><rect class=\"square dark a5\" fill=\"#d18b47\" height=\"45\" stroke=\"none\" width=\"45\" x=\"20\" y=\"155\"/><rect class=\"square light b5\" fill=\"#ffce9e\" height=\"45\" stroke=\"none\" width=\"45\" x=\"65\" y=\"155\"/><rect class=\"square dark c5\" fill=\"#d18b47\" height=\"45\" stroke=\"none\" width=\"45\" x=\"110\" y=\"155\"/><rect class=\"square light d5\" fill=\"#ffce9e\" height=\"45\" stroke=\"none\" width=\"45\" x=\"155\" y=\"155\"/><rect class=\"square dark e5\" fill=\"#d18b47\" height=\"45\" stroke=\"none\" width=\"45\" x=\"200\" y=\"155\"/><use transform=\"translate(200, 155)\" xlink:href=\"#black-pawn\"/><rect class=\"square light f5\" fill=\"#ffce9e\" height=\"45\" stroke=\"none\" width=\"45\" x=\"245\" y=\"155\"/><rect class=\"square dark g5\" fill=\"#d18b47\" height=\"45\" stroke=\"none\" width=\"45\" x=\"290\" y=\"155\"/><use transform=\"translate(290, 155)\" xlink:href=\"#white-knight\"/><rect class=\"square light h5\" fill=\"#ffce9e\" height=\"45\" stroke=\"none\" width=\"45\" x=\"335\" y=\"155\"/><rect class=\"square light a6\" fill=\"#ffce9e\" height=\"45\" stroke=\"none\" width=\"45\" x=\"20\" y=\"110\"/><rect class=\"square dark b6\" fill=\"#d18b47\" height=\"45\" stroke=\"none\" width=\"45\" x=\"65\" y=\"110\"/><rect class=\"square light c6\" fill=\"#ffce9e\" height=\"45\" stroke=\"none\" width=\"45\" x=\"110\" y=\"110\"/><rect class=\"square dark d6\" fill=\"#d18b47\" height=\"45\" stroke=\"none\" width=\"45\" x=\"155\" y=\"110\"/><rect class=\"square light e6\" fill=\"#ffce9e\" height=\"45\" stroke=\"none\" width=\"45\" x=\"200\" y=\"110\"/><rect class=\"square dark f6\" fill=\"#d18b47\" height=\"45\" stroke=\"none\" width=\"45\" x=\"245\" y=\"110\"/><rect class=\"square light g6\" fill=\"#ffce9e\" height=\"45\" stroke=\"none\" width=\"45\" x=\"290\" y=\"110\"/><rect class=\"square dark h6\" fill=\"#d18b47\" height=\"45\" stroke=\"none\" width=\"45\" x=\"335\" y=\"110\"/><rect class=\"square dark a7\" fill=\"#d18b47\" height=\"45\" stroke=\"none\" width=\"45\" x=\"20\" y=\"65\"/><use transform=\"translate(20, 65)\" xlink:href=\"#black-pawn\"/><rect class=\"square light b7\" fill=\"#ffce9e\" height=\"45\" stroke=\"none\" width=\"45\" x=\"65\" y=\"65\"/><use transform=\"translate(65, 65)\" xlink:href=\"#black-pawn\"/><rect class=\"square dark c7\" fill=\"#d18b47\" height=\"45\" stroke=\"none\" width=\"45\" x=\"110\" y=\"65\"/><use transform=\"translate(110, 65)\" xlink:href=\"#black-pawn\"/><rect class=\"square light d7\" fill=\"#ffce9e\" height=\"45\" stroke=\"none\" width=\"45\" x=\"155\" y=\"65\"/><use transform=\"translate(155, 65)\" xlink:href=\"#black-pawn\"/><rect class=\"square dark e7\" fill=\"#d18b47\" height=\"45\" stroke=\"none\" width=\"45\" x=\"200\" y=\"65\"/><rect class=\"square light f7\" fill=\"#ffce9e\" height=\"45\" stroke=\"none\" width=\"45\" x=\"245\" y=\"65\"/><use transform=\"translate(245, 65)\" xlink:href=\"#black-pawn\"/><rect class=\"square dark g7\" fill=\"#d18b47\" height=\"45\" stroke=\"none\" width=\"45\" x=\"290\" y=\"65\"/><use transform=\"translate(290, 65)\" xlink:href=\"#black-pawn\"/><rect class=\"square light h7\" fill=\"#ffce9e\" height=\"45\" stroke=\"none\" width=\"45\" x=\"335\" y=\"65\"/><use transform=\"translate(335, 65)\" xlink:href=\"#black-pawn\"/><rect class=\"square light a8\" fill=\"#ffce9e\" height=\"45\" stroke=\"none\" width=\"45\" x=\"20\" y=\"20\"/><use transform=\"translate(20, 20)\" xlink:href=\"#black-rook\"/><rect class=\"square dark b8\" fill=\"#d18b47\" height=\"45\" stroke=\"none\" width=\"45\" x=\"65\" y=\"20\"/><use transform=\"translate(65, 20)\" xlink:href=\"#black-knight\"/><rect class=\"square light c8\" fill=\"#ffce9e\" height=\"45\" stroke=\"none\" width=\"45\" x=\"110\" y=\"20\"/><use transform=\"translate(110, 20)\" xlink:href=\"#black-bishop\"/><rect class=\"square dark d8\" fill=\"#d18b47\" height=\"45\" stroke=\"none\" width=\"45\" x=\"155\" y=\"20\"/><use transform=\"translate(155, 20)\" xlink:href=\"#black-queen\"/><rect class=\"square light e8\" fill=\"#ffce9e\" height=\"45\" stroke=\"none\" width=\"45\" x=\"200\" y=\"20\"/><use transform=\"translate(200, 20)\" xlink:href=\"#black-king\"/><rect class=\"square dark f8\" fill=\"#d18b47\" height=\"45\" stroke=\"none\" width=\"45\" x=\"245\" y=\"20\"/><use transform=\"translate(245, 20)\" xlink:href=\"#black-bishop\"/><rect class=\"square light g8\" fill=\"#ffce9e\" height=\"45\" stroke=\"none\" width=\"45\" x=\"290\" y=\"20\"/><use transform=\"translate(290, 20)\" xlink:href=\"#black-knight\"/><rect class=\"square dark h8\" fill=\"#d18b47\" height=\"45\" stroke=\"none\" width=\"45\" x=\"335\" y=\"20\"/><use transform=\"translate(335, 20)\" xlink:href=\"#black-rook\"/><text alignment-baseline=\"middle\" font-size=\"14\" text-anchor=\"middle\" x=\"42\" y=\"10\">a</text><text alignment-baseline=\"middle\" font-size=\"14\" text-anchor=\"middle\" x=\"42\" y=\"390\">a</text><text alignment-baseline=\"middle\" font-size=\"14\" text-anchor=\"middle\" x=\"87\" y=\"10\">b</text><text alignment-baseline=\"middle\" font-size=\"14\" text-anchor=\"middle\" x=\"87\" y=\"390\">b</text><text alignment-baseline=\"middle\" font-size=\"14\" text-anchor=\"middle\" x=\"132\" y=\"10\">c</text><text alignment-baseline=\"middle\" font-size=\"14\" text-anchor=\"middle\" x=\"132\" y=\"390\">c</text><text alignment-baseline=\"middle\" font-size=\"14\" text-anchor=\"middle\" x=\"177\" y=\"10\">d</text><text alignment-baseline=\"middle\" font-size=\"14\" text-anchor=\"middle\" x=\"177\" y=\"390\">d</text><text alignment-baseline=\"middle\" font-size=\"14\" text-anchor=\"middle\" x=\"222\" y=\"10\">e</text><text alignment-baseline=\"middle\" font-size=\"14\" text-anchor=\"middle\" x=\"222\" y=\"390\">e</text><text alignment-baseline=\"middle\" font-size=\"14\" text-anchor=\"middle\" x=\"267\" y=\"10\">f</text><text alignment-baseline=\"middle\" font-size=\"14\" text-anchor=\"middle\" x=\"267\" y=\"390\">f</text><text alignment-baseline=\"middle\" font-size=\"14\" text-anchor=\"middle\" x=\"312\" y=\"10\">g</text><text alignment-baseline=\"middle\" font-size=\"14\" text-anchor=\"middle\" x=\"312\" y=\"390\">g</text><text alignment-baseline=\"middle\" font-size=\"14\" text-anchor=\"middle\" x=\"357\" y=\"10\">h</text><text alignment-baseline=\"middle\" font-size=\"14\" text-anchor=\"middle\" x=\"357\" y=\"390\">h</text><text alignment-baseline=\"middle\" font-size=\"14\" text-anchor=\"middle\" x=\"10\" y=\"357\">1</text><text alignment-baseline=\"middle\" font-size=\"14\" text-anchor=\"middle\" x=\"390\" y=\"357\">1</text><text alignment-baseline=\"middle\" font-size=\"14\" text-anchor=\"middle\" x=\"10\" y=\"312\">2</text><text alignment-baseline=\"middle\" font-size=\"14\" text-anchor=\"middle\" x=\"390\" y=\"312\">2</text><text alignment-baseline=\"middle\" font-size=\"14\" text-anchor=\"middle\" x=\"10\" y=\"267\">3</text><text alignment-baseline=\"middle\" font-size=\"14\" text-anchor=\"middle\" x=\"390\" y=\"267\">3</text><text alignment-baseline=\"middle\" font-size=\"14\" text-anchor=\"middle\" x=\"10\" y=\"222\">4</text><text alignment-baseline=\"middle\" font-size=\"14\" text-anchor=\"middle\" x=\"390\" y=\"222\">4</text><text alignment-baseline=\"middle\" font-size=\"14\" text-anchor=\"middle\" x=\"10\" y=\"177\">5</text><text alignment-baseline=\"middle\" font-size=\"14\" text-anchor=\"middle\" x=\"390\" y=\"177\">5</text><text alignment-baseline=\"middle\" font-size=\"14\" text-anchor=\"middle\" x=\"10\" y=\"132\">6</text><text alignment-baseline=\"middle\" font-size=\"14\" text-anchor=\"middle\" x=\"390\" y=\"132\">6</text><text alignment-baseline=\"middle\" font-size=\"14\" text-anchor=\"middle\" x=\"10\" y=\"87\">7</text><text alignment-baseline=\"middle\" font-size=\"14\" text-anchor=\"middle\" x=\"390\" y=\"87\">7</text><text alignment-baseline=\"middle\" font-size=\"14\" text-anchor=\"middle\" x=\"10\" y=\"42\">8</text><text alignment-baseline=\"middle\" font-size=\"14\" text-anchor=\"middle\" x=\"390\" y=\"42\">8</text></svg>"
      ],
      "text/plain": [
       "<IPython.core.display.SVG object>"
      ]
     },
     "metadata": {},
     "output_type": "display_data"
    },
    {
     "data": {
      "image/svg+xml": [
       "<svg version=\"1.1\" viewBox=\"0 0 400 400\" xmlns=\"http://www.w3.org/2000/svg\" xmlns:xlink=\"http://www.w3.org/1999/xlink\"><defs><g class=\"white pawn\" id=\"white-pawn\"><path d=\"M22 9c-2.21 0-4 1.79-4 4 0 .89.29 1.71.78 2.38-1.95 1.12-3.28 3.21-3.28 5.62 0 2.03.94 3.84 2.41 5.03-3 1.06-7.41 5.55-7.41 13.47h23c0-7.92-4.41-12.41-7.41-13.47 1.47-1.19 2.41-3 2.41-5.03 0-2.41-1.33-4.5-3.28-5.62.49-.67.78-1.49.78-2.38 0-2.21-1.79-4-4-4z\" fill=\"#fff\" stroke=\"#000\" stroke-linecap=\"round\" stroke-width=\"1.5\"/></g><g class=\"white knight\" fill=\"none\" fill-rule=\"evenodd\" id=\"white-knight\" stroke=\"#000\" stroke-linecap=\"round\" stroke-linejoin=\"round\" stroke-width=\"1.5\"><path d=\"M 22,10 C 32.5,11 38.5,18 38,39 L 15,39 C 15,30 25,32.5 23,18\" style=\"fill:#ffffff; stroke:#000000;\"/><path d=\"M 24,18 C 24.38,20.91 18.45,25.37 16,27 C 13,29 13.18,31.34 11,31 C 9.958,30.06 12.41,27.96 11,28 C 10,28 11.19,29.23 10,30 C 9,30 5.997,31 6,26 C 6,24 12,14 12,14 C 12,14 13.89,12.1 14,10.5 C 13.27,9.506 13.5,8.5 13.5,7.5 C 14.5,6.5 16.5,10 16.5,10 L 18.5,10 C 18.5,10 19.28,8.008 21,7 C 22,7 22,10 22,10\" style=\"fill:#ffffff; stroke:#000000;\"/><path d=\"M 9.5 25.5 A 0.5 0.5 0 1 1 8.5,25.5 A 0.5 0.5 0 1 1 9.5 25.5 z\" style=\"fill:#000000; stroke:#000000;\"/><path d=\"M 15 15.5 A 0.5 1.5 0 1 1 14,15.5 A 0.5 1.5 0 1 1 15 15.5 z\" style=\"fill:#000000; stroke:#000000;\" transform=\"matrix(0.866,0.5,-0.5,0.866,9.693,-5.173)\"/></g><g class=\"white bishop\" fill=\"none\" fill-rule=\"evenodd\" id=\"white-bishop\" stroke=\"#000\" stroke-linecap=\"round\" stroke-linejoin=\"round\" stroke-width=\"1.5\"><g fill=\"#fff\" stroke-linecap=\"butt\"><path d=\"M9 36c3.39-.97 10.11.43 13.5-2 3.39 2.43 10.11 1.03 13.5 2 0 0 1.65.54 3 2-.68.97-1.65.99-3 .5-3.39-.97-10.11.46-13.5-1-3.39 1.46-10.11.03-13.5 1-1.354.49-2.323.47-3-.5 1.354-1.94 3-2 3-2zM15 32c2.5 2.5 12.5 2.5 15 0 .5-1.5 0-2 0-2 0-2.5-2.5-4-2.5-4 5.5-1.5 6-11.5-5-15.5-11 4-10.5 14-5 15.5 0 0-2.5 1.5-2.5 4 0 0-.5.5 0 2zM25 8a2.5 2.5 0 1 1-5 0 2.5 2.5 0 1 1 5 0z\"/></g><path d=\"M17.5 26h10M15 30h15m-7.5-14.5v5M20 18h5\" stroke-linejoin=\"miter\"/></g><g class=\"white rook\" fill=\"#fff\" fill-rule=\"evenodd\" id=\"white-rook\" stroke=\"#000\" stroke-linecap=\"round\" stroke-linejoin=\"round\" stroke-width=\"1.5\"><path d=\"M9 39h27v-3H9v3zM12 36v-4h21v4H12zM11 14V9h4v2h5V9h5v2h5V9h4v5\" stroke-linecap=\"butt\"/><path d=\"M34 14l-3 3H14l-3-3\"/><path d=\"M31 17v12.5H14V17\" stroke-linecap=\"butt\" stroke-linejoin=\"miter\"/><path d=\"M31 29.5l1.5 2.5h-20l1.5-2.5\"/><path d=\"M11 14h23\" fill=\"none\" stroke-linejoin=\"miter\"/></g><g class=\"white queen\" fill=\"#fff\" fill-rule=\"evenodd\" id=\"white-queen\" stroke=\"#000\" stroke-linecap=\"round\" stroke-linejoin=\"round\" stroke-width=\"1.5\"><path d=\"M8 12a2 2 0 1 1-4 0 2 2 0 1 1 4 0zM24.5 7.5a2 2 0 1 1-4 0 2 2 0 1 1 4 0zM41 12a2 2 0 1 1-4 0 2 2 0 1 1 4 0zM16 8.5a2 2 0 1 1-4 0 2 2 0 1 1 4 0zM33 9a2 2 0 1 1-4 0 2 2 0 1 1 4 0z\"/><path d=\"M9 26c8.5-1.5 21-1.5 27 0l2-12-7 11V11l-5.5 13.5-3-15-3 15-5.5-14V25L7 14l2 12zM9 26c0 2 1.5 2 2.5 4 1 1.5 1 1 .5 3.5-1.5 1-1.5 2.5-1.5 2.5-1.5 1.5.5 2.5.5 2.5 6.5 1 16.5 1 23 0 0 0 1.5-1 0-2.5 0 0 .5-1.5-1-2.5-.5-2.5-.5-2 .5-3.5 1-2 2.5-2 2.5-4-8.5-1.5-18.5-1.5-27 0z\" stroke-linecap=\"butt\"/><path d=\"M11.5 30c3.5-1 18.5-1 22 0M12 33.5c6-1 15-1 21 0\" fill=\"none\"/></g><g class=\"white king\" fill=\"none\" fill-rule=\"evenodd\" id=\"white-king\" stroke=\"#000\" stroke-linecap=\"round\" stroke-linejoin=\"round\" stroke-width=\"1.5\"><path d=\"M22.5 11.63V6M20 8h5\" stroke-linejoin=\"miter\"/><path d=\"M22.5 25s4.5-7.5 3-10.5c0 0-1-2.5-3-2.5s-3 2.5-3 2.5c-1.5 3 3 10.5 3 10.5\" fill=\"#fff\" stroke-linecap=\"butt\" stroke-linejoin=\"miter\"/><path d=\"M11.5 37c5.5 3.5 15.5 3.5 21 0v-7s9-4.5 6-10.5c-4-6.5-13.5-3.5-16 4V27v-3.5c-3.5-7.5-13-10.5-16-4-3 6 5 10 5 10V37z\" fill=\"#fff\"/><path d=\"M11.5 30c5.5-3 15.5-3 21 0m-21 3.5c5.5-3 15.5-3 21 0m-21 3.5c5.5-3 15.5-3 21 0\"/></g><g class=\"black pawn\" id=\"black-pawn\"><path d=\"M22 9c-2.21 0-4 1.79-4 4 0 .89.29 1.71.78 2.38-1.95 1.12-3.28 3.21-3.28 5.62 0 2.03.94 3.84 2.41 5.03-3 1.06-7.41 5.55-7.41 13.47h23c0-7.92-4.41-12.41-7.41-13.47 1.47-1.19 2.41-3 2.41-5.03 0-2.41-1.33-4.5-3.28-5.62.49-.67.78-1.49.78-2.38 0-2.21-1.79-4-4-4z\" stroke=\"#000\" stroke-linecap=\"round\" stroke-width=\"1.5\"/></g><g class=\"black knight\" fill=\"none\" fill-rule=\"evenodd\" id=\"black-knight\" stroke=\"#000\" stroke-linecap=\"round\" stroke-linejoin=\"round\" stroke-width=\"1.5\"><path d=\"M 22,10 C 32.5,11 38.5,18 38,39 L 15,39 C 15,30 25,32.5 23,18\" style=\"fill:#000000; stroke:#000000;\"/><path d=\"M 24,18 C 24.38,20.91 18.45,25.37 16,27 C 13,29 13.18,31.34 11,31 C 9.958,30.06 12.41,27.96 11,28 C 10,28 11.19,29.23 10,30 C 9,30 5.997,31 6,26 C 6,24 12,14 12,14 C 12,14 13.89,12.1 14,10.5 C 13.27,9.506 13.5,8.5 13.5,7.5 C 14.5,6.5 16.5,10 16.5,10 L 18.5,10 C 18.5,10 19.28,8.008 21,7 C 22,7 22,10 22,10\" style=\"fill:#000000; stroke:#000000;\"/><path d=\"M 9.5 25.5 A 0.5 0.5 0 1 1 8.5,25.5 A 0.5 0.5 0 1 1 9.5 25.5 z\" style=\"fill:#ececec; stroke:#ececec;\"/><path d=\"M 15 15.5 A 0.5 1.5 0 1 1 14,15.5 A 0.5 1.5 0 1 1 15 15.5 z\" style=\"fill:#ececec; stroke:#ececec;\" transform=\"matrix(0.866,0.5,-0.5,0.866,9.693,-5.173)\"/><path d=\"M 24.55,10.4 L 24.1,11.85 L 24.6,12 C 27.75,13 30.25,14.49 32.5,18.75 C 34.75,23.01 35.75,29.06 35.25,39 L 35.2,39.5 L 37.45,39.5 L 37.5,39 C 38,28.94 36.62,22.15 34.25,17.66 C 31.88,13.17 28.46,11.02 25.06,10.5 L 24.55,10.4 z \" style=\"fill:#ececec; stroke:none;\"/></g><g class=\"black bishop\" fill=\"none\" fill-rule=\"evenodd\" id=\"black-bishop\" stroke=\"#000\" stroke-linecap=\"round\" stroke-linejoin=\"round\" stroke-width=\"1.5\"><path d=\"M9 36c3.39-.97 10.11.43 13.5-2 3.39 2.43 10.11 1.03 13.5 2 0 0 1.65.54 3 2-.68.97-1.65.99-3 .5-3.39-.97-10.11.46-13.5-1-3.39 1.46-10.11.03-13.5 1-1.354.49-2.323.47-3-.5 1.354-1.94 3-2 3-2zm6-4c2.5 2.5 12.5 2.5 15 0 .5-1.5 0-2 0-2 0-2.5-2.5-4-2.5-4 5.5-1.5 6-11.5-5-15.5-11 4-10.5 14-5 15.5 0 0-2.5 1.5-2.5 4 0 0-.5.5 0 2zM25 8a2.5 2.5 0 1 1-5 0 2.5 2.5 0 1 1 5 0z\" fill=\"#000\" stroke-linecap=\"butt\"/><path d=\"M17.5 26h10M15 30h15m-7.5-14.5v5M20 18h5\" stroke=\"#fff\" stroke-linejoin=\"miter\"/></g><g class=\"black rook\" fill=\"#000\" fill-rule=\"evenodd\" id=\"black-rook\" stroke=\"#000\" stroke-linecap=\"round\" stroke-linejoin=\"round\" stroke-width=\"1.5\"><path d=\"M9 39h27v-3H9v3zM12.5 32l1.5-2.5h17l1.5 2.5h-20zM12 36v-4h21v4H12z\" stroke-linecap=\"butt\"/><path d=\"M14 29.5v-13h17v13H14z\" stroke-linecap=\"butt\" stroke-linejoin=\"miter\"/><path d=\"M14 16.5L11 14h23l-3 2.5H14zM11 14V9h4v2h5V9h5v2h5V9h4v5H11z\" stroke-linecap=\"butt\"/><path d=\"M12 35.5h21M13 31.5h19M14 29.5h17M14 16.5h17M11 14h23\" fill=\"none\" stroke=\"#fff\" stroke-linejoin=\"miter\" stroke-width=\"1\"/></g><g class=\"black queen\" fill=\"#000\" fill-rule=\"evenodd\" id=\"black-queen\" stroke=\"#000\" stroke-linecap=\"round\" stroke-linejoin=\"round\" stroke-width=\"1.5\"><g fill=\"#000\" stroke=\"none\"><circle cx=\"6\" cy=\"12\" r=\"2.75\"/><circle cx=\"14\" cy=\"9\" r=\"2.75\"/><circle cx=\"22.5\" cy=\"8\" r=\"2.75\"/><circle cx=\"31\" cy=\"9\" r=\"2.75\"/><circle cx=\"39\" cy=\"12\" r=\"2.75\"/></g><path d=\"M9 26c8.5-1.5 21-1.5 27 0l2.5-12.5L31 25l-.3-14.1-5.2 13.6-3-14.5-3 14.5-5.2-13.6L14 25 6.5 13.5 9 26zM9 26c0 2 1.5 2 2.5 4 1 1.5 1 1 .5 3.5-1.5 1-1.5 2.5-1.5 2.5-1.5 1.5.5 2.5.5 2.5 6.5 1 16.5 1 23 0 0 0 1.5-1 0-2.5 0 0 .5-1.5-1-2.5-.5-2.5-.5-2 .5-3.5 1-2 2.5-2 2.5-4-8.5-1.5-18.5-1.5-27 0z\" stroke-linecap=\"butt\"/><path d=\"M11 38.5a35 35 1 0 0 23 0\" fill=\"none\" stroke-linecap=\"butt\"/><path d=\"M11 29a35 35 1 0 1 23 0M12.5 31.5h20M11.5 34.5a35 35 1 0 0 22 0M10.5 37.5a35 35 1 0 0 24 0\" fill=\"none\" stroke=\"#fff\"/></g><g class=\"black king\" fill=\"none\" fill-rule=\"evenodd\" id=\"black-king\" stroke=\"#000\" stroke-linecap=\"round\" stroke-linejoin=\"round\" stroke-width=\"1.5\"><path d=\"M22.5 11.63V6\" stroke-linejoin=\"miter\"/><path d=\"M22.5 25s4.5-7.5 3-10.5c0 0-1-2.5-3-2.5s-3 2.5-3 2.5c-1.5 3 3 10.5 3 10.5\" fill=\"#000\" stroke-linecap=\"butt\" stroke-linejoin=\"miter\"/><path d=\"M11.5 37c5.5 3.5 15.5 3.5 21 0v-7s9-4.5 6-10.5c-4-6.5-13.5-3.5-16 4V27v-3.5c-3.5-7.5-13-10.5-16-4-3 6 5 10 5 10V37z\" fill=\"#000\"/><path d=\"M20 8h5\" stroke-linejoin=\"miter\"/><path d=\"M32 29.5s8.5-4 6.03-9.65C34.15 14 25 18 22.5 24.5l.01 2.1-.01-2.1C20 18 9.906 14 6.997 19.85c-2.497 5.65 4.853 9 4.853 9M11.5 30c5.5-3 15.5-3 21 0m-21 3.5c5.5-3 15.5-3 21 0m-21 3.5c5.5-3 15.5-3 21 0\" stroke=\"#fff\"/></g></defs><rect class=\"square dark a1\" fill=\"#d18b47\" height=\"45\" stroke=\"none\" width=\"45\" x=\"20\" y=\"335\"/><use transform=\"translate(20, 335)\" xlink:href=\"#white-rook\"/><rect class=\"square light b1\" fill=\"#ffce9e\" height=\"45\" stroke=\"none\" width=\"45\" x=\"65\" y=\"335\"/><use transform=\"translate(65, 335)\" xlink:href=\"#white-knight\"/><rect class=\"square dark c1\" fill=\"#d18b47\" height=\"45\" stroke=\"none\" width=\"45\" x=\"110\" y=\"335\"/><use transform=\"translate(110, 335)\" xlink:href=\"#white-bishop\"/><rect class=\"square light d1\" fill=\"#ffce9e\" height=\"45\" stroke=\"none\" width=\"45\" x=\"155\" y=\"335\"/><use transform=\"translate(155, 335)\" xlink:href=\"#white-queen\"/><rect class=\"square dark e1\" fill=\"#d18b47\" height=\"45\" stroke=\"none\" width=\"45\" x=\"200\" y=\"335\"/><use transform=\"translate(200, 335)\" xlink:href=\"#white-king\"/><rect class=\"square light f1\" fill=\"#ffce9e\" height=\"45\" stroke=\"none\" width=\"45\" x=\"245\" y=\"335\"/><use transform=\"translate(245, 335)\" xlink:href=\"#white-bishop\"/><rect class=\"square dark g1\" fill=\"#d18b47\" height=\"45\" stroke=\"none\" width=\"45\" x=\"290\" y=\"335\"/><rect class=\"square light h1\" fill=\"#ffce9e\" height=\"45\" stroke=\"none\" width=\"45\" x=\"335\" y=\"335\"/><use transform=\"translate(335, 335)\" xlink:href=\"#white-rook\"/><rect class=\"square light a2\" fill=\"#ffce9e\" height=\"45\" stroke=\"none\" width=\"45\" x=\"20\" y=\"290\"/><use transform=\"translate(20, 290)\" xlink:href=\"#white-pawn\"/><rect class=\"square dark b2\" fill=\"#d18b47\" height=\"45\" stroke=\"none\" width=\"45\" x=\"65\" y=\"290\"/><use transform=\"translate(65, 290)\" xlink:href=\"#white-pawn\"/><rect class=\"square light c2\" fill=\"#ffce9e\" height=\"45\" stroke=\"none\" width=\"45\" x=\"110\" y=\"290\"/><use transform=\"translate(110, 290)\" xlink:href=\"#white-pawn\"/><rect class=\"square dark d2\" fill=\"#d18b47\" height=\"45\" stroke=\"none\" width=\"45\" x=\"155\" y=\"290\"/><use transform=\"translate(155, 290)\" xlink:href=\"#white-pawn\"/><rect class=\"square light e2\" fill=\"#ffce9e\" height=\"45\" stroke=\"none\" width=\"45\" x=\"200\" y=\"290\"/><use transform=\"translate(200, 290)\" xlink:href=\"#white-pawn\"/><rect class=\"square dark f2\" fill=\"#d18b47\" height=\"45\" stroke=\"none\" width=\"45\" x=\"245\" y=\"290\"/><use transform=\"translate(245, 290)\" xlink:href=\"#white-pawn\"/><rect class=\"square light g2\" fill=\"#ffce9e\" height=\"45\" stroke=\"none\" width=\"45\" x=\"290\" y=\"290\"/><use transform=\"translate(290, 290)\" xlink:href=\"#white-pawn\"/><rect class=\"square dark h2\" fill=\"#d18b47\" height=\"45\" stroke=\"none\" width=\"45\" x=\"335\" y=\"290\"/><use transform=\"translate(335, 290)\" xlink:href=\"#white-pawn\"/><rect class=\"square dark a3\" fill=\"#d18b47\" height=\"45\" stroke=\"none\" width=\"45\" x=\"20\" y=\"245\"/><rect class=\"square light b3\" fill=\"#ffce9e\" height=\"45\" stroke=\"none\" width=\"45\" x=\"65\" y=\"245\"/><rect class=\"square dark c3\" fill=\"#d18b47\" height=\"45\" stroke=\"none\" width=\"45\" x=\"110\" y=\"245\"/><rect class=\"square light d3\" fill=\"#ffce9e\" height=\"45\" stroke=\"none\" width=\"45\" x=\"155\" y=\"245\"/><rect class=\"square dark e3\" fill=\"#d18b47\" height=\"45\" stroke=\"none\" width=\"45\" x=\"200\" y=\"245\"/><rect class=\"square light f3\" fill=\"#ffce9e\" height=\"45\" stroke=\"none\" width=\"45\" x=\"245\" y=\"245\"/><rect class=\"square dark g3\" fill=\"#d18b47\" height=\"45\" stroke=\"none\" width=\"45\" x=\"290\" y=\"245\"/><rect class=\"square light h3\" fill=\"#ffce9e\" height=\"45\" stroke=\"none\" width=\"45\" x=\"335\" y=\"245\"/><rect class=\"square light a4\" fill=\"#ffce9e\" height=\"45\" stroke=\"none\" width=\"45\" x=\"20\" y=\"200\"/><rect class=\"square dark b4\" fill=\"#d18b47\" height=\"45\" stroke=\"none\" width=\"45\" x=\"65\" y=\"200\"/><rect class=\"square light c4\" fill=\"#ffce9e\" height=\"45\" stroke=\"none\" width=\"45\" x=\"110\" y=\"200\"/><rect class=\"square dark d4\" fill=\"#d18b47\" height=\"45\" stroke=\"none\" width=\"45\" x=\"155\" y=\"200\"/><rect class=\"square light e4\" fill=\"#ffce9e\" height=\"45\" stroke=\"none\" width=\"45\" x=\"200\" y=\"200\"/><rect class=\"square dark f4\" fill=\"#d18b47\" height=\"45\" stroke=\"none\" width=\"45\" x=\"245\" y=\"200\"/><rect class=\"square light g4\" fill=\"#ffce9e\" height=\"45\" stroke=\"none\" width=\"45\" x=\"290\" y=\"200\"/><rect class=\"square dark h4\" fill=\"#d18b47\" height=\"45\" stroke=\"none\" width=\"45\" x=\"335\" y=\"200\"/><rect class=\"square dark a5\" fill=\"#d18b47\" height=\"45\" stroke=\"none\" width=\"45\" x=\"20\" y=\"155\"/><rect class=\"square light b5\" fill=\"#ffce9e\" height=\"45\" stroke=\"none\" width=\"45\" x=\"65\" y=\"155\"/><rect class=\"square dark c5\" fill=\"#d18b47\" height=\"45\" stroke=\"none\" width=\"45\" x=\"110\" y=\"155\"/><rect class=\"square light d5\" fill=\"#ffce9e\" height=\"45\" stroke=\"none\" width=\"45\" x=\"155\" y=\"155\"/><rect class=\"square dark e5\" fill=\"#d18b47\" height=\"45\" stroke=\"none\" width=\"45\" x=\"200\" y=\"155\"/><use transform=\"translate(200, 155)\" xlink:href=\"#black-pawn\"/><rect class=\"square light f5\" fill=\"#ffce9e\" height=\"45\" stroke=\"none\" width=\"45\" x=\"245\" y=\"155\"/><rect class=\"square dark g5\" fill=\"#d18b47\" height=\"45\" stroke=\"none\" width=\"45\" x=\"290\" y=\"155\"/><use transform=\"translate(290, 155)\" xlink:href=\"#black-queen\"/><rect class=\"square light h5\" fill=\"#ffce9e\" height=\"45\" stroke=\"none\" width=\"45\" x=\"335\" y=\"155\"/><rect class=\"square light a6\" fill=\"#ffce9e\" height=\"45\" stroke=\"none\" width=\"45\" x=\"20\" y=\"110\"/><rect class=\"square dark b6\" fill=\"#d18b47\" height=\"45\" stroke=\"none\" width=\"45\" x=\"65\" y=\"110\"/><rect class=\"square light c6\" fill=\"#ffce9e\" height=\"45\" stroke=\"none\" width=\"45\" x=\"110\" y=\"110\"/><rect class=\"square dark d6\" fill=\"#d18b47\" height=\"45\" stroke=\"none\" width=\"45\" x=\"155\" y=\"110\"/><rect class=\"square light e6\" fill=\"#ffce9e\" height=\"45\" stroke=\"none\" width=\"45\" x=\"200\" y=\"110\"/><rect class=\"square dark f6\" fill=\"#d18b47\" height=\"45\" stroke=\"none\" width=\"45\" x=\"245\" y=\"110\"/><rect class=\"square light g6\" fill=\"#ffce9e\" height=\"45\" stroke=\"none\" width=\"45\" x=\"290\" y=\"110\"/><rect class=\"square dark h6\" fill=\"#d18b47\" height=\"45\" stroke=\"none\" width=\"45\" x=\"335\" y=\"110\"/><rect class=\"square dark a7\" fill=\"#d18b47\" height=\"45\" stroke=\"none\" width=\"45\" x=\"20\" y=\"65\"/><use transform=\"translate(20, 65)\" xlink:href=\"#black-pawn\"/><rect class=\"square light b7\" fill=\"#ffce9e\" height=\"45\" stroke=\"none\" width=\"45\" x=\"65\" y=\"65\"/><use transform=\"translate(65, 65)\" xlink:href=\"#black-pawn\"/><rect class=\"square dark c7\" fill=\"#d18b47\" height=\"45\" stroke=\"none\" width=\"45\" x=\"110\" y=\"65\"/><use transform=\"translate(110, 65)\" xlink:href=\"#black-pawn\"/><rect class=\"square light d7\" fill=\"#ffce9e\" height=\"45\" stroke=\"none\" width=\"45\" x=\"155\" y=\"65\"/><use transform=\"translate(155, 65)\" xlink:href=\"#black-pawn\"/><rect class=\"square dark e7\" fill=\"#d18b47\" height=\"45\" stroke=\"none\" width=\"45\" x=\"200\" y=\"65\"/><rect class=\"square light f7\" fill=\"#ffce9e\" height=\"45\" stroke=\"none\" width=\"45\" x=\"245\" y=\"65\"/><use transform=\"translate(245, 65)\" xlink:href=\"#black-pawn\"/><rect class=\"square dark g7\" fill=\"#d18b47\" height=\"45\" stroke=\"none\" width=\"45\" x=\"290\" y=\"65\"/><use transform=\"translate(290, 65)\" xlink:href=\"#black-pawn\"/><rect class=\"square light h7\" fill=\"#ffce9e\" height=\"45\" stroke=\"none\" width=\"45\" x=\"335\" y=\"65\"/><use transform=\"translate(335, 65)\" xlink:href=\"#black-pawn\"/><rect class=\"square light a8\" fill=\"#ffce9e\" height=\"45\" stroke=\"none\" width=\"45\" x=\"20\" y=\"20\"/><use transform=\"translate(20, 20)\" xlink:href=\"#black-rook\"/><rect class=\"square dark b8\" fill=\"#d18b47\" height=\"45\" stroke=\"none\" width=\"45\" x=\"65\" y=\"20\"/><use transform=\"translate(65, 20)\" xlink:href=\"#black-knight\"/><rect class=\"square light c8\" fill=\"#ffce9e\" height=\"45\" stroke=\"none\" width=\"45\" x=\"110\" y=\"20\"/><use transform=\"translate(110, 20)\" xlink:href=\"#black-bishop\"/><rect class=\"square dark d8\" fill=\"#d18b47\" height=\"45\" stroke=\"none\" width=\"45\" x=\"155\" y=\"20\"/><rect class=\"square light e8\" fill=\"#ffce9e\" height=\"45\" stroke=\"none\" width=\"45\" x=\"200\" y=\"20\"/><use transform=\"translate(200, 20)\" xlink:href=\"#black-king\"/><rect class=\"square dark f8\" fill=\"#d18b47\" height=\"45\" stroke=\"none\" width=\"45\" x=\"245\" y=\"20\"/><use transform=\"translate(245, 20)\" xlink:href=\"#black-bishop\"/><rect class=\"square light g8\" fill=\"#ffce9e\" height=\"45\" stroke=\"none\" width=\"45\" x=\"290\" y=\"20\"/><use transform=\"translate(290, 20)\" xlink:href=\"#black-knight\"/><rect class=\"square dark h8\" fill=\"#d18b47\" height=\"45\" stroke=\"none\" width=\"45\" x=\"335\" y=\"20\"/><use transform=\"translate(335, 20)\" xlink:href=\"#black-rook\"/><text alignment-baseline=\"middle\" font-size=\"14\" text-anchor=\"middle\" x=\"42\" y=\"10\">a</text><text alignment-baseline=\"middle\" font-size=\"14\" text-anchor=\"middle\" x=\"42\" y=\"390\">a</text><text alignment-baseline=\"middle\" font-size=\"14\" text-anchor=\"middle\" x=\"87\" y=\"10\">b</text><text alignment-baseline=\"middle\" font-size=\"14\" text-anchor=\"middle\" x=\"87\" y=\"390\">b</text><text alignment-baseline=\"middle\" font-size=\"14\" text-anchor=\"middle\" x=\"132\" y=\"10\">c</text><text alignment-baseline=\"middle\" font-size=\"14\" text-anchor=\"middle\" x=\"132\" y=\"390\">c</text><text alignment-baseline=\"middle\" font-size=\"14\" text-anchor=\"middle\" x=\"177\" y=\"10\">d</text><text alignment-baseline=\"middle\" font-size=\"14\" text-anchor=\"middle\" x=\"177\" y=\"390\">d</text><text alignment-baseline=\"middle\" font-size=\"14\" text-anchor=\"middle\" x=\"222\" y=\"10\">e</text><text alignment-baseline=\"middle\" font-size=\"14\" text-anchor=\"middle\" x=\"222\" y=\"390\">e</text><text alignment-baseline=\"middle\" font-size=\"14\" text-anchor=\"middle\" x=\"267\" y=\"10\">f</text><text alignment-baseline=\"middle\" font-size=\"14\" text-anchor=\"middle\" x=\"267\" y=\"390\">f</text><text alignment-baseline=\"middle\" font-size=\"14\" text-anchor=\"middle\" x=\"312\" y=\"10\">g</text><text alignment-baseline=\"middle\" font-size=\"14\" text-anchor=\"middle\" x=\"312\" y=\"390\">g</text><text alignment-baseline=\"middle\" font-size=\"14\" text-anchor=\"middle\" x=\"357\" y=\"10\">h</text><text alignment-baseline=\"middle\" font-size=\"14\" text-anchor=\"middle\" x=\"357\" y=\"390\">h</text><text alignment-baseline=\"middle\" font-size=\"14\" text-anchor=\"middle\" x=\"10\" y=\"357\">1</text><text alignment-baseline=\"middle\" font-size=\"14\" text-anchor=\"middle\" x=\"390\" y=\"357\">1</text><text alignment-baseline=\"middle\" font-size=\"14\" text-anchor=\"middle\" x=\"10\" y=\"312\">2</text><text alignment-baseline=\"middle\" font-size=\"14\" text-anchor=\"middle\" x=\"390\" y=\"312\">2</text><text alignment-baseline=\"middle\" font-size=\"14\" text-anchor=\"middle\" x=\"10\" y=\"267\">3</text><text alignment-baseline=\"middle\" font-size=\"14\" text-anchor=\"middle\" x=\"390\" y=\"267\">3</text><text alignment-baseline=\"middle\" font-size=\"14\" text-anchor=\"middle\" x=\"10\" y=\"222\">4</text><text alignment-baseline=\"middle\" font-size=\"14\" text-anchor=\"middle\" x=\"390\" y=\"222\">4</text><text alignment-baseline=\"middle\" font-size=\"14\" text-anchor=\"middle\" x=\"10\" y=\"177\">5</text><text alignment-baseline=\"middle\" font-size=\"14\" text-anchor=\"middle\" x=\"390\" y=\"177\">5</text><text alignment-baseline=\"middle\" font-size=\"14\" text-anchor=\"middle\" x=\"10\" y=\"132\">6</text><text alignment-baseline=\"middle\" font-size=\"14\" text-anchor=\"middle\" x=\"390\" y=\"132\">6</text><text alignment-baseline=\"middle\" font-size=\"14\" text-anchor=\"middle\" x=\"10\" y=\"87\">7</text><text alignment-baseline=\"middle\" font-size=\"14\" text-anchor=\"middle\" x=\"390\" y=\"87\">7</text><text alignment-baseline=\"middle\" font-size=\"14\" text-anchor=\"middle\" x=\"10\" y=\"42\">8</text><text alignment-baseline=\"middle\" font-size=\"14\" text-anchor=\"middle\" x=\"390\" y=\"42\">8</text></svg>"
      ],
      "text/plain": [
       "<IPython.core.display.SVG object>"
      ]
     },
     "metadata": {},
     "output_type": "display_data"
    },
    {
     "name": "stdout",
     "output_type": "stream",
     "text": [
      "Legal moves:\n",
      "['h1g1', 'b1c3', 'b1a3', 'h2h3', 'g2g3', 'f2f3', 'e2e3', 'd2d3', 'c2c3', 'b2b3', 'a2a3', 'h2h4', 'g2g4', 'f2f4', 'e2e4', 'd2d4', 'c2c4', 'b2b4', 'a2a4']\n"
     ]
    }
   ],
   "source": [
    "import pandas as pd\n",
    "import misc.tools as Tools\n",
    "import chess\n",
    "import chess.svg\n",
    "import chess.polyglot\n",
    "import os\n",
    "import numpy as np\n",
    "import time\n",
    "\n",
    "board = chess.Board()\n",
    "while not board.is_game_over():\n",
    "    print_board_svg(board)\n",
    "    if board.turn:\n",
    "        legal_moves = list(map(board.uci, board.legal_moves))\n",
    "        move = None\n",
    "        while move not in legal_moves:\n",
    "            print(\"Legal moves:\")\n",
    "            print(legal_moves)\n",
    "            move = input(\"Please enter your move: \")\n",
    "        move = chess.Move.from_uci(move)\n",
    "    else:\n",
    "        move = get_move(board)\n",
    "\n",
    "    board.push(move)\n",
    "\n",
    "result = Tools.get_board_result(board)\n",
    "if result is 1:\n",
    "    print(\"{} (White) has won\".format(players[0].name))\n",
    "elif result is -1:\n",
    "    print(\"{} (Black) has won\".format(players[1].name))\n",
    "else:\n",
    "    print(\"Draw\")\n",
    "    "
   ]
  },
  {
   "cell_type": "markdown",
   "metadata": {},
   "source": [
    "Dies ermöglicht ein Spielen des Spiels auch direkt im Jupyter Notebook, wenn auch mit eingeschränkten Funktionalitäten. Die KI jedoch ist voll funktionsfähig."
   ]
  }
 ],
 "metadata": {
  "kernelspec": {
   "display_name": "Python 3",
   "language": "python",
   "name": "python3"
  },
  "language_info": {
   "codemirror_mode": {
    "name": "ipython",
    "version": 3
   },
   "file_extension": ".py",
   "mimetype": "text/x-python",
   "name": "python",
   "nbconvert_exporter": "python",
   "pygments_lexer": "ipython3",
   "version": "3.7.4"
  }
 },
 "nbformat": 4,
 "nbformat_minor": 2
}
